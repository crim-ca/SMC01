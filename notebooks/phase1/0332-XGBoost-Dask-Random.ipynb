{
 "cells": [
  {
   "cell_type": "markdown",
   "id": "275f1504-7399-4438-a6cb-a4746974f3de",
   "metadata": {},
   "source": [
    "# EDA"
   ]
  },
  {
   "cell_type": "code",
   "execution_count": null,
   "id": "9724e158-748e-4e84-9994-e9b105debf4e",
   "metadata": {},
   "outputs": [],
   "source": [
    "%load_ext autoreload\n",
    "%autoreload 2"
   ]
  },
  {
   "cell_type": "code",
   "execution_count": null,
   "id": "34e4d766-8a06-4fee-91eb-3a6ebc1e42c4",
   "metadata": {},
   "outputs": [],
   "source": [
    "import pandas as pd\n",
    "import numpy as np\n",
    "import xgboost as xgb\n",
    "import dask\n",
    "import dask.array as da\n",
    "import dask.dataframe as dd\n",
    "import dask.distributed\n",
    "import dask_jobqueue\n",
    "from dask_ml.model_selection import train_test_split\n",
    "from sklearn.metrics import mean_squared_error, mean_absolute_error\n",
    "import dask_xgboost\n",
    "from collections import OrderedDict\n",
    "import seaborn as sns \n",
    "import matplotlib.pyplot as plt\n",
    "import matplotlib.dates as mdates\n",
    "import datetime\n",
    "\n",
    "sns.set_theme(style=\"white\")\n",
    "sns.set(style='white', context='notebook', rc={'figure.figsize':(14,10)})\n",
    "%matplotlib inline"
   ]
  },
  {
   "cell_type": "code",
   "execution_count": null,
   "id": "12013346-91e2-4eee-a5ae-9291d9704d23",
   "metadata": {},
   "outputs": [],
   "source": [
    "PATH = ''"
   ]
  },
  {
   "cell_type": "markdown",
   "id": "81670260-ca54-4ad9-a3c7-02339c1d311b",
   "metadata": {},
   "source": [
    "## 0.0 Start Cluster"
   ]
  },
  {
   "cell_type": "code",
   "execution_count": null,
   "id": "dc41362f-2ed2-4c33-acb5-34fc1796c0a7",
   "metadata": {},
   "outputs": [],
   "source": [
    "cluster = dask_jobqueue.SLURMCluster(config_name='slurm')"
   ]
  },
  {
   "cell_type": "code",
   "execution_count": null,
   "id": "5a6231c1-6fa1-496d-b969-9a03c30ad8fd",
   "metadata": {},
   "outputs": [],
   "source": [
    "cluster.scale(jobs=2)"
   ]
  },
  {
   "cell_type": "code",
   "execution_count": null,
   "id": "a0ba075d-a204-4655-8788-f528650035e0",
   "metadata": {},
   "outputs": [],
   "source": [
    "client = dask.distributed.Client(cluster)"
   ]
  },
  {
   "cell_type": "code",
   "execution_count": null,
   "id": "7767c38e-5824-420f-9459-7647616231e8",
   "metadata": {},
   "outputs": [],
   "source": [
    "client"
   ]
  },
  {
   "cell_type": "markdown",
   "id": "41e5dd75-0987-4425-9cc1-e5416e66d066",
   "metadata": {},
   "source": [
    "## 1.0 Load data"
   ]
  },
  {
   "cell_type": "code",
   "execution_count": null,
   "id": "2d1dbce5-a503-41ed-b9b0-1a0580d74287",
   "metadata": {},
   "outputs": [],
   "source": [
    "df = dd.read_parquet(PATH)"
   ]
  },
  {
   "cell_type": "code",
   "execution_count": null,
   "id": "3328d4cb-0a5a-4b8e-867e-0008e119ef39",
   "metadata": {},
   "outputs": [],
   "source": [
    "df"
   ]
  },
  {
   "cell_type": "code",
   "execution_count": null,
   "id": "6b781cc8-3b1b-46cf-a2bd-4c38e48ef440",
   "metadata": {},
   "outputs": [],
   "source": [
    "df = df.persist()"
   ]
  },
  {
   "cell_type": "code",
   "execution_count": null,
   "id": "63c9423a-82d3-41cd-8132-9f9603b6debb",
   "metadata": {},
   "outputs": [],
   "source": [
    "df.head()"
   ]
  },
  {
   "cell_type": "code",
   "execution_count": null,
   "id": "c3e2f53f-0f68-4dfa-8f10-82f368d81002",
   "metadata": {},
   "outputs": [],
   "source": [
    "len(df)"
   ]
  },
  {
   "cell_type": "markdown",
   "id": "a47624b2-696b-47fe-b030-f663fe5cf7eb",
   "metadata": {},
   "source": [
    "## 2.0 Preparation"
   ]
  },
  {
   "cell_type": "code",
   "execution_count": null,
   "id": "1498ee78-f949-497d-84f3-25774218c98e",
   "metadata": {},
   "outputs": [],
   "source": [
    "df['error_2t'] = df['gdps_2t'] - df['obs_2t']\n",
    "df['step_hour'] = df['step'] / 3600\n",
    "df['step_td'] = dd.to_timedelta(df['step'], unit='S')"
   ]
  },
  {
   "cell_type": "code",
   "execution_count": null,
   "id": "3ee4c44f-6b1d-4ffa-a20e-ec638895e64a",
   "metadata": {},
   "outputs": [],
   "source": [
    "df.head()"
   ]
  },
  {
   "cell_type": "code",
   "execution_count": null,
   "id": "d4e94045-5fc1-4b86-9334-a7a8f38e72f6",
   "metadata": {},
   "outputs": [],
   "source": [
    "cat_columns = []\n",
    "cont_columns = ['gdps_prate', 'gdps_prmsl', 'gdps_2t', 'gdps_2d', 'gdps_2r', 'gdps_10u', 'gdps_10v', 'gdps_10si', \n",
    "                'gdps_10wdir', 'gdps_al', 'gdps_t_850', 'gdps_t_500', 'gdps_gh_1000', 'gdps_gh_850', 'gdps_gh_500', \n",
    "                'gdps_u_500', 'gdps_v_500', 'gdps_q_850', 'gdps_q_500', 'gdps_thick']\n",
    "target = 'error_2t'"
   ]
  },
  {
   "cell_type": "markdown",
   "id": "4424bf07-3dbe-47ea-9691-8e55d95e49a8",
   "metadata": {},
   "source": [
    "* Split temporel naïf: on prendre X premières semaines pour train, X suivantes pour valid, X suivantes pour test\n",
    "* 70/10/20\n",
    "* shuffle=False pour garder l'ordre temporel\n",
    "* **Even with shuffle=False, it seems that the way dask parallelize the task still shuffle the instances.**"
   ]
  },
  {
   "cell_type": "code",
   "execution_count": null,
   "id": "fe09e32e-525e-4c2e-9a81-bf6186106fa8",
   "metadata": {},
   "outputs": [],
   "source": [
    "X = df[['date', 'station'] + cat_columns + cont_columns]\n",
    "y = df[target]\n",
    "X_train, X_valid, y_train, y_valid = train_test_split(X, y, test_size=0.30, shuffle=False)\n",
    "X_valid, X_test, y_valid, y_test = train_test_split(X_valid, y_valid, test_size=2/3, shuffle=False)\n",
    "\n",
    "train_counts = X_train.date.value_counts().compute()\n",
    "valid_counts = X_valid.date.value_counts().compute()\n",
    "test_counts = X_test.date.value_counts().compute()\n",
    "\n",
    "fig, ax = plt.subplots()\n",
    "ax.scatter(train_counts.index, train_counts, s=1, c='g')\n",
    "ax.scatter(valid_counts.index, valid_counts, s=1, c='b')\n",
    "ax.scatter(test_counts.index, test_counts, s=1, c='r')"
   ]
  },
  {
   "cell_type": "markdown",
   "id": "e00ec6f6-a8d1-478c-af36-5327b34aee28",
   "metadata": {},
   "source": [
    "* Deal with missing data"
   ]
  },
  {
   "cell_type": "code",
   "execution_count": null,
   "id": "affa577e-c601-44a7-a359-a064ffa0f10e",
   "metadata": {},
   "outputs": [],
   "source": [
    "assert not X.isnull().values.any(), \"There are NaN values in the dataframe\""
   ]
  },
  {
   "cell_type": "markdown",
   "id": "c0b1c36e-0b04-4c1b-8357-2b9f03626e8c",
   "metadata": {},
   "source": [
    "* We do not find all stations that we trained on in the valid and test set"
   ]
  },
  {
   "cell_type": "code",
   "execution_count": null,
   "id": "0b59d564-ce75-42ae-9030-014e6e535142",
   "metadata": {},
   "outputs": [],
   "source": [
    "train_stations = X_train.station.unique()\n",
    "valid_stations = X_valid.station.unique()\n",
    "test_stations = X_test.station.unique()\n",
    "print(f\"{len(set(train_stations) - set(valid_stations))} stations not in valid set\")\n",
    "print(f\"{len(set(train_stations) - set(test_stations))} stations not in test set\")"
   ]
  },
  {
   "cell_type": "markdown",
   "id": "b9fdfd42-2f03-4b82-b312-1d28b8abfad4",
   "metadata": {},
   "source": [
    "## 3.0 Training\n",
    "\n",
    "### 3.0.0 Train XGboost model"
   ]
  },
  {
   "cell_type": "code",
   "execution_count": null,
   "id": "c9b0b0ba-e83e-4673-8968-c88dc8eb005e",
   "metadata": {},
   "outputs": [],
   "source": [
    "X_train = X_train.drop(['date', 'station'], axis=1)\n",
    "X_test = X_test.drop(['date', 'station'], axis=1)\n",
    "X_valid = X_valid.drop(['date', 'station'], axis=1)"
   ]
  },
  {
   "cell_type": "code",
   "execution_count": null,
   "id": "998451db-0e43-40ff-b636-555e91ddb3a8",
   "metadata": {},
   "outputs": [],
   "source": [
    "dtrain = xgb.dask.DaskDMatrix(client, X_train, y_train)\n",
    "dvalid = xgb.dask.DaskDMatrix(client, X_valid, y_valid)\n",
    "dtest = xgb.dask.DaskDMatrix(client, X_test)"
   ]
  },
  {
   "cell_type": "code",
   "execution_count": null,
   "id": "9de1531a-823e-4652-bfab-32f0a790d992",
   "metadata": {},
   "outputs": [],
   "source": [
    "num_boost_round = 100\n",
    "params = {'objective': 'reg:squarederror', \n",
    "          'tree_method': 'hist',\n",
    "          'eval_metric': ['rmse', 'mae'],\n",
    "          'eta': 0.3\n",
    "         }\n",
    "watchlist = [(dtrain, 'train'), (dvalid, 'valid')]"
   ]
  },
  {
   "cell_type": "code",
   "execution_count": null,
   "id": "244cca4b-2a62-4459-ba9f-74922673d68c",
   "metadata": {},
   "outputs": [],
   "source": [
    "model = xgb.dask.train(client, params, dtrain, num_boost_round, evals=watchlist, verbose_eval=10, early_stopping_rounds=10)"
   ]
  },
  {
   "cell_type": "code",
   "execution_count": null,
   "id": "b3c07388-cfeb-46da-8f42-2b9c0d225f06",
   "metadata": {},
   "outputs": [],
   "source": [
    "plt.figure(figsize=(10,6))\n",
    "plt.plot(model['history']['train']['rmse'], label='Train')\n",
    "plt.plot(model['history']['valid']['rmse'], label='Valid')\n",
    "plt.legend()\n",
    "plt.xlabel('Iterations')\n",
    "plt.ylabel('RMSE')\n",
    "plt.title('RMSE Loss')\n",
    "plt.show()"
   ]
  },
  {
   "cell_type": "code",
   "execution_count": null,
   "id": "b4f6812c-d697-4d91-9593-61b5c19294d6",
   "metadata": {},
   "outputs": [],
   "source": [
    "xgb.plot_importance(model['booster']);"
   ]
  },
  {
   "cell_type": "code",
   "execution_count": null,
   "id": "8713bd62-00c6-4bec-b662-284878ff34b2",
   "metadata": {},
   "outputs": [],
   "source": [
    "predictions = xgb.dask.predict(client, model, dtest)\n",
    "print(f'MAE: {mean_absolute_error(y_test, predictions)}')\n",
    "print(f'RMSE: {mean_squared_error(y_test, predictions, squared=False)}')"
   ]
  }
 ],
 "metadata": {
  "kernelspec": {
   "display_name": "Python (smc01-xgb)",
   "language": "python",
   "name": "smc01-xgb"
  },
  "language_info": {
   "codemirror_mode": {
    "name": "ipython",
    "version": 3
   },
   "file_extension": ".py",
   "mimetype": "text/x-python",
   "name": "python",
   "nbconvert_exporter": "python",
   "pygments_lexer": "ipython3",
   "version": "3.8.8"
  }
 },
 "nbformat": 4,
 "nbformat_minor": 5
}
