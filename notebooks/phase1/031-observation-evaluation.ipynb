{
 "cells": [
  {
   "cell_type": "code",
   "execution_count": null,
   "id": "vulnerable-homeless",
   "metadata": {},
   "outputs": [],
   "source": [
    "%load_ext autoreload\n",
    "%autoreload 2"
   ]
  },
  {
   "cell_type": "markdown",
   "id": "lucky-watson",
   "metadata": {},
   "source": [
    "During the conception of 030-mos.ipynb I had problems where there are a lot of NANs in the dataset.\n",
    "I'm thinking this might be due to too much rigidity in our assimilation pipeline.\n",
    "This notebook aims to play around with the queries to the observation database and see if we can fix the problem.\n",
    "\n",
    "\n",
    "### Conclusion\n",
    "\n",
    "My conclusion from this notebook is that there are some gaps in the MESONET database, but they aren't huge. \n",
    "Notably there seems to have been an outage on 2020-10-20.\n",
    "Interpolation for the few missing values I have seems to be the way to go.\n",
    "Xarray has a function for this interpolation. I would only have to build the database into an xarray."
   ]
  },
  {
   "cell_type": "code",
   "execution_count": null,
   "id": "nervous-platform",
   "metadata": {},
   "outputs": [],
   "source": [
    "import calplot\n",
    "import datetime\n",
    "import matplotlib.pyplot as plt\n",
    "import numpy as np\n",
    "import pandas as pd\n",
    "import seaborn as sns\n",
    "import pymongo"
   ]
  },
  {
   "cell_type": "code",
   "execution_count": null,
   "id": "final-market",
   "metadata": {},
   "outputs": [],
   "source": [
    "from smc01.interpolate.obs import MongoIEMDatabase"
   ]
  },
  {
   "cell_type": "code",
   "execution_count": null,
   "outputs": [],
   "source": [
    "MONGO_HOST = 'localhost'\n",
    "MONGO_PORT = 27017\n",
    "MONGO_USER = None\n",
    "MONGO_PASS = None\n",
    "MONGO_DB = 'smc01_raw_obs'\n",
    "MONGO_COLLECTION = 'iem'\n",
    "ADMIN_DB = \"admin\""
   ],
   "metadata": {
    "collapsed": false
   }
  },
  {
   "cell_type": "code",
   "execution_count": null,
   "id": "composed-complex",
   "metadata": {},
   "outputs": [],
   "source": [
    "def dates_to_series(dates, begin, end):\n",
    "    bins = {}\n",
    "    for d in dates:\n",
    "        key = d.date()\n",
    "        current_count = bins.get(key, 0)\n",
    "        bins[key] = current_count + 1\n",
    "        \n",
    "    delta = end - begin\n",
    "    for i in range(delta.days):\n",
    "        current_date = begin + datetime.timedelta(days=i)\n",
    "        \n",
    "        key = current_date.date()\n",
    "        if key not in bins:\n",
    "            bins[key] = 0\n",
    "            \n",
    "    return pd.Series(bins.values(), index=pd.DatetimeIndex(bins.keys()))"
   ]
  },
  {
   "cell_type": "code",
   "execution_count": null,
   "id": "surprised-executive",
   "metadata": {},
   "outputs": [],
   "source": [
    "with pymongo.MongoClient(host=MONGO_HOST, port=MONGO_PORT, username=MONGO_USER, password=MONGO_PASS, authSource=ADMIN_DB) as client:\n",
    "    db = MongoIEMDatabase(client, db=MONGO_DB, collection=MONGO_COLLECTION)\n",
    "    #station_info = db.station_info()"
   ]
  },
  {
   "cell_type": "code",
   "execution_count": null,
   "id": "automated-priority",
   "metadata": {},
   "outputs": [],
   "source": [
    "station_info"
   ]
  },
  {
   "cell_type": "code",
   "execution_count": null,
   "id": "frozen-scottish",
   "metadata": {},
   "outputs": [],
   "source": [
    "['BAD', 'CQC', 'JCT', 'MWA', 'MWC', 'OFP', 'OUN', 'PAVC', 'PSX', 'RKD',\n",
    "       'SEE', 'TQH', 'TZR']"
   ]
  },
  {
   "cell_type": "code",
   "execution_count": null,
   "id": "norman-maple",
   "metadata": {},
   "outputs": [],
   "source": [
    "begin = datetime.datetime(2018, 12, 28)\n",
    "end = datetime.datetime(2021, 1, 1)\n",
    "obs = db.station_observations('UCP', begin, end, tolerance=20)"
   ]
  },
  {
   "cell_type": "code",
   "execution_count": null,
   "id": "aquatic-centre",
   "metadata": {},
   "outputs": [],
   "source": [
    "len(obs)"
   ]
  },
  {
   "cell_type": "code",
   "execution_count": null,
   "id": "several-myrtle",
   "metadata": {},
   "outputs": [],
   "source": [
    "dates = [obs['valid'] for obs in obs]"
   ]
  },
  {
   "cell_type": "code",
   "execution_count": null,
   "id": "suspended-animal",
   "metadata": {},
   "outputs": [],
   "source": [
    "daily_counts = dates_to_series(dates, begin, end)"
   ]
  },
  {
   "cell_type": "code",
   "execution_count": null,
   "id": "engaging-grove",
   "metadata": {},
   "outputs": [],
   "source": [
    "daily_counts"
   ]
  },
  {
   "cell_type": "code",
   "execution_count": null,
   "id": "awful-intellectual",
   "metadata": {},
   "outputs": [],
   "source": [
    "calplot.calplot(daily_counts, suptitle='Observations per day for station UCP')\n",
    "plt.savefig('smc01_calendar.png', dpi=200)"
   ]
  },
  {
   "cell_type": "code",
   "execution_count": null,
   "id": "asian-photography",
   "metadata": {},
   "outputs": [],
   "source": []
  },
  {
   "cell_type": "code",
   "execution_count": null,
   "id": "thick-sheriff",
   "metadata": {},
   "outputs": [],
   "source": [
    "daily_counts[daily_counts < 8]"
   ]
  },
  {
   "cell_type": "markdown",
   "id": "great-shopping",
   "metadata": {},
   "source": [
    "## Check inside the mongo database\n",
    "\n",
    "Check if there is data for every day in the mongo databse."
   ]
  },
  {
   "cell_type": "code",
   "execution_count": null,
   "id": "assigned-footwear",
   "metadata": {},
   "outputs": [],
   "source": [
    "with pymongo.MongoClient(host=MONGO_HOST, port=MONGO_PORT, username=MONGO_USER, password=MONGO_PASS, authSource=ADMIN_DB) as client:\n",
    "    collection = client[MONGO_DB][MONGO_COLLECTION]\n",
    "    \n",
    "    response = collection.find({'station': 'LUF', 'valid': {\n",
    "        '$gte': datetime.datetime(2018, 12, 31),\n",
    "        '$lt': datetime.datetime(2021, 1, 1, 12)\n",
    "    }\n",
    "    })\n",
    "    \n",
    "    obs = list(response)"
   ]
  },
  {
   "cell_type": "code",
   "execution_count": null,
   "id": "atmospheric-indonesia",
   "metadata": {},
   "outputs": [],
   "source": [
    "df = pd.DataFrame(obs)"
   ]
  },
  {
   "cell_type": "code",
   "execution_count": null,
   "id": "amateur-tutorial",
   "metadata": {},
   "outputs": [],
   "source": [
    "df[(df['valid'] >= '2020-01-26') & (df['valid'] < '2020-01-28') & ~df['tmpf'].isna()]"
   ]
  },
  {
   "cell_type": "code",
   "execution_count": null,
   "id": "adequate-granny",
   "metadata": {},
   "outputs": [],
   "source": [
    "counts = dates_to_series(valids, datetime.datetime(2020, 4, 1), datetime.datetime(2020, 12, 31))"
   ]
  },
  {
   "cell_type": "code",
   "execution_count": null,
   "id": "infrared-suite",
   "metadata": {},
   "outputs": [],
   "source": [
    "calplot.calplot(counts)"
   ]
  },
  {
   "cell_type": "code",
   "execution_count": null,
   "id": "bearing-savings",
   "metadata": {},
   "outputs": [],
   "source": [
    "counts.min()"
   ]
  },
  {
   "cell_type": "code",
   "execution_count": null,
   "id": "comparative-schema",
   "metadata": {},
   "outputs": [],
   "source": [
    "counts"
   ]
  },
  {
   "cell_type": "code",
   "execution_count": null,
   "id": "timely-field",
   "metadata": {},
   "outputs": [],
   "source": []
  }
 ],
 "metadata": {
  "kernelspec": {
   "display_name": "Python 3.6",
   "language": "python",
   "name": "python3"
  },
  "language_info": {
   "codemirror_mode": {
    "name": "ipython",
    "version": 3
   },
   "file_extension": ".py",
   "mimetype": "text/x-python",
   "name": "python",
   "nbconvert_exporter": "python",
   "pygments_lexer": "ipython3",
   "version": "3.6.8"
  }
 },
 "nbformat": 4,
 "nbformat_minor": 5
}
