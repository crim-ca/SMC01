{
 "cells": [
  {
   "cell_type": "code",
   "execution_count": null,
   "metadata": {},
   "outputs": [],
   "source": [
    "import os\n",
    "import pathlib\n",
    "import pygrib"
   ]
  },
  {
   "cell_type": "code",
   "execution_count": null,
   "metadata": {},
   "outputs": [],
   "source": [
    "DATA_DIR = pathlib.Path(os.getenv('DATA_DIR'))\n",
    "GDPS_DIR = DATA_DIR / '2021-02-02-one-week-sample/'\n",
    "NETCDF_DIR = DATA_DIR / '2021-02-02-one-week-sample-filtered/'"
   ]
  },
  {
   "cell_type": "code",
   "execution_count": null,
   "metadata": {},
   "outputs": [],
   "source": [
    "gdps_path = pathlib.Path(GDPS_DIR)\n",
    "output_path = pathlib.Path(NETCDF_DIR)"
   ]
  },
  {
   "cell_type": "code",
   "execution_count": null,
   "metadata": {},
   "outputs": [],
   "source": [
    "grib_files = sorted(list(gdps_path.glob('*.grib2')))"
   ]
  },
  {
   "cell_type": "code",
   "execution_count": null,
   "metadata": {},
   "outputs": [],
   "source": [
    "to_extract = [\n",
    "    'prmsl',\n",
    "    'hpbl',\n",
    "    'prate',\n",
    "    '2t',\n",
    "    '2d',\n",
    "    '2r',\n",
    "    '10si',\n",
    "    '10wdir',\n",
    "]"
   ]
  },
  {
   "cell_type": "code",
   "execution_count": null,
   "metadata": {},
   "outputs": [],
   "source": [
    "for gdps_file in grib_files:\n",
    "    grib_file = pygrib.open(str(gdps_file))\n",
    "    \n",
    "    output_file_name = output_path / (gdps_file.stem + '_filtered.grib2')\n",
    "    print(output_file_name)\n",
    "    out_file = pygrib.open(str(output_file_name), mode='wb')\n",
    "    \n",
    "    \n",
    "    grib_file.seek(0)\n",
    "    for message in grib_file:\n",
    "        if message.shortName in to_extract:\n",
    "            print(message)\n",
    "    \n",
    "    grib_file.close()"
   ]
  },
  {
   "cell_type": "code",
   "execution_count": null,
   "metadata": {},
   "outputs": [],
   "source": []
  },
  {
   "cell_type": "code",
   "execution_count": null,
   "metadata": {},
   "outputs": [],
   "source": []
  }
 ],
 "metadata": {
  "kernelspec": {
   "display_name": "Python 3",
   "language": "python",
   "name": "python3"
  },
  "language_info": {
   "codemirror_mode": {
    "name": "ipython",
    "version": 3
   },
   "file_extension": ".py",
   "mimetype": "text/x-python",
   "name": "python",
   "nbconvert_exporter": "python",
   "pygments_lexer": "ipython3",
   "version": "3.9.2"
  }
 },
 "nbformat": 4,
 "nbformat_minor": 4
}
