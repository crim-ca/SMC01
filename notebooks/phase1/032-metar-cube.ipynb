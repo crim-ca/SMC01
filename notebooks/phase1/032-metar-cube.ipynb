{
 "cells": [
  {
   "cell_type": "code",
   "execution_count": null,
   "id": "industrial-istanbul",
   "metadata": {},
   "outputs": [],
   "source": [
    "%load_ext autoreload\n",
    "%autoreload 2"
   ]
  },
  {
   "cell_type": "markdown",
   "id": "explicit-biotechnology",
   "metadata": {},
   "source": [
    "# Metar Cube\n",
    "\n",
    "Build an XArray datacube from the metar observations.\n",
    "The datacube will have 2 dimensions: station and datetime.\n",
    "It will have as many variables as we have fields in the observations."
   ]
  },
  {
   "cell_type": "code",
   "execution_count": null,
   "id": "norman-kitty",
   "metadata": {},
   "outputs": [],
   "source": [
    "import dask\n",
    "import dask.array as da\n",
    "import dask.dataframe as dd\n",
    "import dask.distributed\n",
    "import dask_jobqueue\n",
    "import datetime\n",
    "import multiprocessing\n",
    "import numpy as np\n",
    "import os\n",
    "import pathlib\n",
    "import pandas as pd\n",
    "import pymongo\n",
    "import seaborn as sns\n",
    "import xarray as xr\n",
    "\n",
    "from tqdm.notebook import tqdm\n",
    "\n",
    "from smc01.interpolate.dataset_generator import process_one_iem_obs\n",
    "from smc01.interpolate.obs import MongoIEMDatabase"
   ]
  },
  {
   "cell_type": "code",
   "execution_count": null,
   "id": "dimensional-calgary",
   "metadata": {},
   "outputs": [],
   "source": [
    "DATA_DIR = pathlib.Path(os.getenv('DATA_DIR'))\n",
    "\n",
    "MONGO_HOST = 'localhost'\n",
    "MONGO_USER = None\n",
    "MONGO_PASS = None\n",
    "MONGO_DB = 'smc01_raw_obs'\n",
    "MONGO_COLLECTION = 'iem'"
   ]
  },
  {
   "cell_type": "markdown",
   "id": "useful-wilderness",
   "metadata": {},
   "source": [
    "## Boot dask cluster"
   ]
  },
  {
   "cell_type": "code",
   "execution_count": null,
   "id": "mysterious-layout",
   "metadata": {},
   "outputs": [],
   "source": [
    "cluster = dask_jobqueue.SLURMCluster(\n",
    "    env_extra=['source ~/.bash_profile','conda activate smc01'],\n",
    "    name='smc01-dask',\n",
    ")"
   ]
  },
  {
   "cell_type": "code",
   "execution_count": null,
   "id": "emerging-impression",
   "metadata": {},
   "outputs": [],
   "source": [
    "cluster.scale(jobs=2)"
   ]
  },
  {
   "cell_type": "code",
   "execution_count": null,
   "id": "infrared-destruction",
   "metadata": {},
   "outputs": [],
   "source": [
    "client = dask.distributed.Client(cluster)"
   ]
  },
  {
   "cell_type": "code",
   "execution_count": null,
   "id": "celtic-turkey",
   "metadata": {},
   "outputs": [],
   "source": [
    "client"
   ]
  },
  {
   "cell_type": "markdown",
   "id": "antique-finder",
   "metadata": {},
   "source": [
    "## Utility functions"
   ]
  },
  {
   "cell_type": "code",
   "execution_count": null,
   "id": "retired-monitoring",
   "metadata": {},
   "outputs": [],
   "source": [
    "BEGIN = datetime.datetime(2019, 1, 1)\n",
    "END = datetime.datetime(2021, 1, 1)"
   ]
  },
  {
   "cell_type": "code",
   "execution_count": null,
   "id": "reasonable-costume",
   "metadata": {},
   "outputs": [],
   "source": [
    "def pipeline_of_station(station, begin, end, tolerance=0):\n",
    "    return [\n",
    "        {\n",
    "            '$addFields': {\n",
    "                'minute': {'$minute': '$valid'},\n",
    "                'hour': {'$hour': '$valid'}}\n",
    "        },\n",
    "        {\n",
    "            '$match': {'$or': [\n",
    "                {'minute': {'$lte': tolerance}},\n",
    "                {'minute': {'$gte': 60 - tolerance}}\n",
    "            ],\n",
    "           'station': station,\n",
    "           'valid': {'$gte': BEGIN - datetime.timedelta(days=1),\n",
    "            '$lt': END + datetime.timedelta(days=1)},\n",
    "           'tmpf': {'$exists': True}}}]"
   ]
  },
  {
   "cell_type": "code",
   "execution_count": null,
   "id": "celtic-diamond",
   "metadata": {},
   "outputs": [],
   "source": [
    "pipeline_of_station('YVR', BEGIN, END, tolerance=30)"
   ]
  },
  {
   "cell_type": "code",
   "execution_count": null,
   "id": "important-mailman",
   "metadata": {},
   "outputs": [],
   "source": [
    "def fetch_station_dataframe(station, begin, end):\n",
    "    with pymongo.MongoClient(host=MONGO_HOST, username=MONGO_USER, password=MONGO_PASS) as client:\n",
    "        station_obs = list(client[MONGO_DB][MONGO_COLLECTION].aggregate(pipeline_of_station(station, begin, end, tolerance=30)))\n",
    "    \n",
    "    station_obs = [process_one_iem_obs(obs) for obs in station_obs]\n",
    "            \n",
    "    return pd.DataFrame(station_obs)"
   ]
  },
  {
   "cell_type": "markdown",
   "id": "joined-pennsylvania",
   "metadata": {},
   "source": [
    "## Decide the list of stations\n",
    "\n",
    "We will only keep stations that have good coverage."
   ]
  },
  {
   "cell_type": "code",
   "execution_count": null,
   "id": "valued-advice",
   "metadata": {},
   "outputs": [],
   "source": [
    "with pymongo.MongoClient(host=MONGO_HOST, username=MONGO_USER, password=MONGO_PASS) as client:\n",
    "    db = MongoIEMDatabase(client, db=MONGO_DB, collection=MONGO_COLLECTION)\n",
    "    station_info = db.station_info()"
   ]
  },
  {
   "cell_type": "code",
   "execution_count": null,
   "id": "beginning-canvas",
   "metadata": {},
   "outputs": [],
   "source": [
    "station_info"
   ]
  },
  {
   "cell_type": "markdown",
   "id": "electrical-monster",
   "metadata": {},
   "source": [
    "### Take station from a coverage csv instead\n",
    "\n",
    "See 033-ovservation-coverage.ipybn"
   ]
  },
  {
   "cell_type": "code",
   "execution_count": null,
   "id": "boxed-russia",
   "metadata": {},
   "outputs": [],
   "source": [
    "coverage = pd.read_csv(DATA_DIR / '2021-04-23-coverages.csv')"
   ]
  },
  {
   "cell_type": "code",
   "execution_count": null,
   "id": "personalized-density",
   "metadata": {},
   "outputs": [],
   "source": [
    "coverage.head()"
   ]
  },
  {
   "cell_type": "code",
   "execution_count": null,
   "id": "moved-buyer",
   "metadata": {},
   "outputs": [],
   "source": [
    "len(coverage)"
   ]
  },
  {
   "cell_type": "code",
   "execution_count": null,
   "id": "insured-gilbert",
   "metadata": {},
   "outputs": [],
   "source": [
    "stations = [s for s in coverage[coverage['coverage'] > 0.99]['station']]"
   ]
  },
  {
   "cell_type": "markdown",
   "id": "vulnerable-authority",
   "metadata": {},
   "source": [
    "We remove a small set of stations that have incorrect coverage. There are gaps in their observations even though they have good coverage of the years we target.\n",
    "Ideally we would filter them automatically, but here we are."
   ]
  },
  {
   "cell_type": "code",
   "execution_count": null,
   "id": "mighty-harvey",
   "metadata": {},
   "outputs": [],
   "source": [
    "stations = list(set(stations) - set(['BAD', 'CQC', 'OFP', 'RKD'])) "
   ]
  },
  {
   "cell_type": "code",
   "execution_count": null,
   "id": "quick-facing",
   "metadata": {},
   "outputs": [],
   "source": [
    "len(stations)"
   ]
  },
  {
   "cell_type": "code",
   "execution_count": null,
   "id": "educated-carrier",
   "metadata": {},
   "outputs": [],
   "source": [
    "coverage"
   ]
  },
  {
   "cell_type": "markdown",
   "id": "superior-reducing",
   "metadata": {},
   "source": [
    "## Interpolate observation at correct times"
   ]
  },
  {
   "cell_type": "code",
   "execution_count": null,
   "id": "choice-costume",
   "metadata": {},
   "outputs": [],
   "source": [
    "DATA_COLUMNS = ['obs_2r', 'obs_p01i', 'obs_2t']\n",
    "\n",
    "def station_data(station, begin, end):\n",
    "    df = fetch_station_dataframe(station, begin, end)\n",
    "    \n",
    "    if 'obs_valid' not in df.columns or 'obs_2t' not in df.columns or 'obs_2r' not in df.columns:\n",
    "        return None\n",
    "    \n",
    "    valid = xr.DataArray(df['obs_valid'], dims=['valid'])\n",
    "    station = xr.DataArray([station], dims=['station'])\n",
    "    \n",
    "    series = {}\n",
    "    for col in DATA_COLUMNS:\n",
    "        data_of_variable = df[col].to_numpy()\n",
    "        \n",
    "        series[col] = xr.DataArray(data_of_variable, dims=['valid'])\n",
    "    \n",
    "    dataset = xr.Dataset(series)\n",
    "    return dataset.assign_coords(valid=valid)"
   ]
  },
  {
   "cell_type": "code",
   "execution_count": null,
   "id": "musical-tactics",
   "metadata": {},
   "outputs": [],
   "source": [
    "def obs_of_forecast(station, begin, end):\n",
    "    df = station_data(station, begin, end)\n",
    "    \n",
    "    if not df:\n",
    "        return None\n",
    "    \n",
    "    forecast_valid = pd.date_range(start=BEGIN + datetime.timedelta(hours=3), end=END, freq='3H', closed='left')\n",
    "        \n",
    "    linear = df[['obs_2t', 'obs_2r']]\n",
    "    linear_interp = linear.interp(valid=forecast_valid, method='linear')\n",
    "    \n",
    "    nearest = df[['obs_p01i']]\n",
    "    nearest_interp = nearest.interp(valid=forecast_valid, method='nearest')\n",
    "    \n",
    "    merged = xr.merge([nearest_interp, linear_interp])\n",
    "    \n",
    "    return merged.expand_dims(station=[station])"
   ]
  },
  {
   "cell_type": "code",
   "execution_count": null,
   "id": "indie-macedonia",
   "metadata": {},
   "outputs": [],
   "source": [
    "cyul_interp = obs_of_forecast('CYUL', BEGIN, END)"
   ]
  },
  {
   "cell_type": "code",
   "execution_count": null,
   "id": "immune-starter",
   "metadata": {},
   "outputs": [],
   "source": [
    "cyul_interp"
   ]
  },
  {
   "cell_type": "code",
   "execution_count": null,
   "id": "sixth-sydney",
   "metadata": {},
   "outputs": [],
   "source": [
    "cyul_data = station_data('CYVR', BEGIN, END)"
   ]
  },
  {
   "cell_type": "code",
   "execution_count": null,
   "id": "prompt-atlantic",
   "metadata": {},
   "outputs": [],
   "source": [
    "cyul_data"
   ]
  },
  {
   "cell_type": "markdown",
   "id": "brief-continuity",
   "metadata": {},
   "source": [
    "## Gap to nearest observation\n",
    "\n",
    "This section computes, for every GDPS model output, the nearest observation for every station (in time).\n",
    "The goal is to detect big gaps in the observation data to filter out stations that have gaps in their coverage."
   ]
  },
  {
   "cell_type": "code",
   "execution_count": null,
   "id": "north-grain",
   "metadata": {},
   "outputs": [],
   "source": [
    "def compute_obs_deltas(model_times, observations):\n",
    "    model_times_np = model_times.to_numpy().reshape(1, -1)\n",
    "    obs_times = observations.valid.data.reshape(-1, 1)\n",
    "    \n",
    "    deltas = np.abs(obs_times - model_times_np)\n",
    "    best_delta = np.min(deltas, axis=0)\n",
    "    \n",
    "    return best_delta.astype('timedelta64[m]')"
   ]
  },
  {
   "cell_type": "code",
   "execution_count": null,
   "id": "ceramic-butter",
   "metadata": {},
   "outputs": [],
   "source": [
    "model_times = pd.date_range(start=BEGIN, end=END, freq='3H', closed='left')"
   ]
  },
  {
   "cell_type": "code",
   "execution_count": null,
   "id": "black-speaker",
   "metadata": {},
   "outputs": [],
   "source": [
    "obs = station_data('RKD', BEGIN, END)"
   ]
  },
  {
   "cell_type": "code",
   "execution_count": null,
   "id": "about-namibia",
   "metadata": {},
   "outputs": [],
   "source": [
    "deltas = compute_obs_deltas(model_times, obs)"
   ]
  },
  {
   "cell_type": "code",
   "execution_count": null,
   "id": "rising-version",
   "metadata": {},
   "outputs": [],
   "source": [
    "best_obs_df = pd.DataFrame({'delta': deltas, 'model_time': model_times})"
   ]
  },
  {
   "cell_type": "code",
   "execution_count": null,
   "id": "middle-treasure",
   "metadata": {},
   "outputs": [],
   "source": [
    "best_obs_df['delta'].value_counts().sort_index()"
   ]
  },
  {
   "cell_type": "code",
   "execution_count": null,
   "id": "viral-restriction",
   "metadata": {},
   "outputs": [],
   "source": [
    "(deltas > np.timedelta64(20, 'm')).sum()"
   ]
  },
  {
   "cell_type": "code",
   "execution_count": null,
   "id": "demographic-mumbai",
   "metadata": {},
   "outputs": [],
   "source": [
    "(deltas > np.timedelta64(60, 'm')).sum()"
   ]
  },
  {
   "cell_type": "code",
   "execution_count": null,
   "id": "opened-webmaster",
   "metadata": {},
   "outputs": [],
   "source": [
    "(deltas > np.timedelta64(120, 'm')).sum()"
   ]
  },
  {
   "cell_type": "code",
   "execution_count": null,
   "id": "characteristic-setting",
   "metadata": {},
   "outputs": [],
   "source": [
    "(deltas > np.timedelta64(12, 'h')).sum()"
   ]
  },
  {
   "cell_type": "code",
   "execution_count": null,
   "id": "conservative-updating",
   "metadata": {},
   "outputs": [],
   "source": [
    "pd.DataFrame([{'test': 1}, None])"
   ]
  },
  {
   "cell_type": "code",
   "execution_count": null,
   "id": "actual-percentage",
   "metadata": {},
   "outputs": [],
   "source": [
    "def delta_statistics_of_station(station, model_times):\n",
    "    print(station)\n",
    "    begin = model_times.min() - np.timedelta64(1, 'D')\n",
    "    end = model_times.max() + np.timedelta64(1, 'D')\n",
    "    \n",
    "    obs = station_data(station, begin, end)\n",
    "    \n",
    "    if obs is None:\n",
    "        return None\n",
    "    \n",
    "    deltas = compute_obs_deltas(model_times, obs)\n",
    "    \n",
    "    return {\n",
    "        'station': station,\n",
    "        '5m': (deltas > np.timedelta64(5, 'm')).sum(), \n",
    "        '10m': (deltas > np.timedelta64(10, 'm')).sum(), \n",
    "        '15m': (deltas > np.timedelta64(15, 'm')).sum(), \n",
    "        '20m': (deltas > np.timedelta64(20, 'm')).sum(), \n",
    "        '60m': (deltas > np.timedelta64(60, 'm')).sum(),\n",
    "        '120m': (deltas > np.timedelta64(120, 'm')).sum(),\n",
    "        '6h': (deltas > np.timedelta64(6, 'h')).sum(),\n",
    "        '12h': (deltas > np.timedelta64(12, 'h')).sum(),\n",
    "        '24h': (deltas > np.timedelta64(24, 'h')).sum()\n",
    "    }"
   ]
  },
  {
   "cell_type": "code",
   "execution_count": null,
   "id": "printable-enlargement",
   "metadata": {},
   "outputs": [],
   "source": [
    "delta_statistics_of_station('CYUL', model_times)"
   ]
  },
  {
   "cell_type": "markdown",
   "id": "compliant-judgment",
   "metadata": {},
   "source": [
    "### Run it for all stations"
   ]
  },
  {
   "cell_type": "code",
   "execution_count": null,
   "id": "owned-newcastle",
   "metadata": {
    "tags": []
   },
   "outputs": [],
   "source": [
    "def do_one_station(station):\n",
    "    return delta_statistics_of_station(station, model_times)\n",
    "\n",
    "results = []\n",
    "with multiprocessing.Pool(processes=12) as pool:\n",
    "    for item in tqdm(pool.imap_unordered(do_one_station, coverage['station']), total=len(coverage)):\n",
    "        results.append(item)"
   ]
  },
  {
   "cell_type": "code",
   "execution_count": null,
   "id": "empirical-street",
   "metadata": {},
   "outputs": [],
   "source": [
    "deltas_stats_df = pd.DataFrame([r for r in results if r is not None])"
   ]
  },
  {
   "cell_type": "code",
   "execution_count": null,
   "id": "facial-keeping",
   "metadata": {},
   "outputs": [],
   "source": [
    "delta_statistics_of_station('CYVR', model_times)"
   ]
  },
  {
   "cell_type": "code",
   "execution_count": null,
   "id": "numerous-understanding",
   "metadata": {},
   "outputs": [],
   "source": [
    "deltas_stats_df"
   ]
  },
  {
   "cell_type": "code",
   "execution_count": null,
   "id": "studied-california",
   "metadata": {},
   "outputs": [],
   "source": [
    "deltas_stats_df.to_csv(DATA_DIR / '2021-05-11-delta-statistics.csv', index=False)"
   ]
  },
  {
   "cell_type": "code",
   "execution_count": null,
   "id": "stable-institution",
   "metadata": {},
   "outputs": [],
   "source": [
    "multiprocessing.Pool??"
   ]
  },
  {
   "cell_type": "markdown",
   "id": "liquid-poland",
   "metadata": {},
   "source": [
    "## Run it for all stations"
   ]
  },
  {
   "cell_type": "code",
   "execution_count": null,
   "id": "precious-tokyo",
   "metadata": {},
   "outputs": [],
   "source": [
    "delayed_obs_of_forecast = dask.delayed(obs_of_forecast)"
   ]
  },
  {
   "cell_type": "code",
   "execution_count": null,
   "id": "secure-space",
   "metadata": {},
   "outputs": [],
   "source": [
    "delayed_obs_of_forecast('CYVR', BEGIN, END).compute()"
   ]
  },
  {
   "cell_type": "code",
   "execution_count": null,
   "id": "peaceful-commonwealth",
   "metadata": {},
   "outputs": [],
   "source": [
    "delayeds = [delayed_obs_of_forecast(station, BEGIN, END) for station in stations]"
   ]
  },
  {
   "cell_type": "code",
   "execution_count": null,
   "id": "international-dairy",
   "metadata": {},
   "outputs": [],
   "source": [
    "len(delayeds)"
   ]
  },
  {
   "cell_type": "code",
   "execution_count": null,
   "id": "surprising-irish",
   "metadata": {},
   "outputs": [],
   "source": [
    "station_datasets = dask.compute(*delayeds)"
   ]
  },
  {
   "cell_type": "code",
   "execution_count": null,
   "id": "behavioral-homework",
   "metadata": {},
   "outputs": [],
   "source": [
    "metar_cube = xr.concat(station_datasets, dim='station')"
   ]
  },
  {
   "cell_type": "code",
   "execution_count": null,
   "id": "standing-sampling",
   "metadata": {},
   "outputs": [],
   "source": [
    "metar_cube"
   ]
  },
  {
   "cell_type": "code",
   "execution_count": null,
   "id": "individual-association",
   "metadata": {},
   "outputs": [],
   "source": [
    "metar_cube.isnull().sum(dim='station').obs_2t.plot()"
   ]
  },
  {
   "cell_type": "code",
   "execution_count": null,
   "id": "still-signal",
   "metadata": {},
   "outputs": [],
   "source": [
    "metar_cube.sel(valid=slice(\"2020-12-30\", \"2020-12-31\")).interpolate_na().isnull().sum(dim='station').obs_2t.plot()"
   ]
  },
  {
   "cell_type": "code",
   "execution_count": null,
   "id": "grateful-agreement",
   "metadata": {},
   "outputs": [],
   "source": [
    "null_mask = metar_cube.obs_2t.isnull().sum(dim='valid') > 0"
   ]
  },
  {
   "cell_type": "code",
   "execution_count": null,
   "id": "simple-fusion",
   "metadata": {},
   "outputs": [],
   "source": [
    "stations_with_null = metar_cube.station[null_mask]"
   ]
  },
  {
   "cell_type": "code",
   "execution_count": null,
   "id": "israeli-decision",
   "metadata": {},
   "outputs": [],
   "source": [
    "stations_with_null"
   ]
  },
  {
   "cell_type": "code",
   "execution_count": null,
   "id": "changing-martial",
   "metadata": {},
   "outputs": [],
   "source": [
    "metar_cube.to_netcdf(DATA_DIR / '2021-04-22-metarcube.netcdf')"
   ]
  },
  {
   "cell_type": "code",
   "execution_count": null,
   "id": "ceramic-aspect",
   "metadata": {},
   "outputs": [],
   "source": [
    "metar_cube"
   ]
  },
  {
   "cell_type": "code",
   "execution_count": null,
   "id": "exterior-glucose",
   "metadata": {},
   "outputs": [],
   "source": [
    "coverage[coverage['station'].isin(['BAD', 'CQC', 'OFP', 'RKD'])]"
   ]
  },
  {
   "cell_type": "code",
   "execution_count": null,
   "id": "coral-namibia",
   "metadata": {},
   "outputs": [],
   "source": [
    "coverage['station']"
   ]
  },
  {
   "cell_type": "markdown",
   "id": "indoor-dimension",
   "metadata": {},
   "source": [
    "## Some validation"
   ]
  },
  {
   "cell_type": "code",
   "execution_count": null,
   "id": "strange-channel",
   "metadata": {},
   "outputs": [],
   "source": [
    "metarcube = xr.open_dataset(DATA_DIR / '2021-04-22-metarcube.netcdf')"
   ]
  },
  {
   "cell_type": "code",
   "execution_count": null,
   "id": "color-election",
   "metadata": {},
   "outputs": [],
   "source": [
    "metarcube"
   ]
  },
  {
   "cell_type": "code",
   "execution_count": null,
   "id": "color-organizer",
   "metadata": {},
   "outputs": [],
   "source": [
    "metarcube.obs_p01i.isnull().sum(dim='station').plot()"
   ]
  },
  {
   "cell_type": "code",
   "execution_count": null,
   "id": "demonstrated-rough",
   "metadata": {},
   "outputs": [],
   "source": [
    "metarcube.obs_2t.mean(dim='station').plot()"
   ]
  },
  {
   "cell_type": "code",
   "execution_count": null,
   "id": "virgin-nurse",
   "metadata": {},
   "outputs": [],
   "source": []
  }
 ],
 "metadata": {
  "kernelspec": {
   "display_name": "Python 3",
   "language": "python",
   "name": "python3"
  },
  "language_info": {
   "codemirror_mode": {
    "name": "ipython",
    "version": 3
   },
   "file_extension": ".py",
   "mimetype": "text/x-python",
   "name": "python",
   "nbconvert_exporter": "python",
   "pygments_lexer": "ipython3",
   "version": "3.9.2"
  }
 },
 "nbformat": 4,
 "nbformat_minor": 5
}
