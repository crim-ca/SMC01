{
 "cells": [
  {
   "cell_type": "markdown",
   "id": "275f1504-7399-4438-a6cb-a4746974f3de",
   "metadata": {},
   "source": [
    "# EDA"
   ]
  },
  {
   "cell_type": "code",
   "execution_count": null,
   "id": "9724e158-748e-4e84-9994-e9b105debf4e",
   "metadata": {},
   "outputs": [],
   "source": [
    "%load_ext autoreload\n",
    "%autoreload 2"
   ]
  },
  {
   "cell_type": "code",
   "execution_count": null,
   "id": "34e4d766-8a06-4fee-91eb-3a6ebc1e42c4",
   "metadata": {},
   "outputs": [],
   "source": [
    "import pandas as pd\n",
    "import numpy as np\n",
    "import xgboost as xgb\n",
    "import dask\n",
    "import dask.array as da\n",
    "import dask.dataframe as dd\n",
    "import dask.distributed\n",
    "import dask_jobqueue\n",
    "from dask_ml.model_selection import train_test_split\n",
    "from sklearn.metrics import mean_squared_error, mean_absolute_error\n",
    "import dask_xgboost\n",
    "from collections import OrderedDict\n",
    "import seaborn as sns \n",
    "import matplotlib.pyplot as plt\n",
    "import matplotlib.dates as mdates\n",
    "import datetime\n",
    "\n",
    "sns.set_theme(style=\"white\")\n",
    "sns.set(style='white', context='notebook', rc={'figure.figsize':(14,10)})\n",
    "%matplotlib inline"
   ]
  },
  {
   "cell_type": "code",
   "execution_count": null,
   "id": "12013346-91e2-4eee-a5ae-9291d9704d23",
   "metadata": {},
   "outputs": [],
   "source": [
    "PATH = ''"
   ]
  },
  {
   "cell_type": "markdown",
   "id": "81670260-ca54-4ad9-a3c7-02339c1d311b",
   "metadata": {},
   "source": [
    "## 0.0 Start Cluster"
   ]
  },
  {
   "cell_type": "code",
   "execution_count": null,
   "id": "dc41362f-2ed2-4c33-acb5-34fc1796c0a7",
   "metadata": {},
   "outputs": [],
   "source": [
    "cluster = dask_jobqueue.SLURMCluster(config_name='slurm')"
   ]
  },
  {
   "cell_type": "code",
   "execution_count": null,
   "id": "5a6231c1-6fa1-496d-b969-9a03c30ad8fd",
   "metadata": {},
   "outputs": [],
   "source": [
    "cluster.scale(jobs=4)"
   ]
  },
  {
   "cell_type": "code",
   "execution_count": null,
   "id": "a0ba075d-a204-4655-8788-f528650035e0",
   "metadata": {},
   "outputs": [],
   "source": [
    "client = dask.distributed.Client(cluster)"
   ]
  },
  {
   "cell_type": "code",
   "execution_count": null,
   "id": "7767c38e-5824-420f-9459-7647616231e8",
   "metadata": {},
   "outputs": [],
   "source": [
    "client"
   ]
  },
  {
   "cell_type": "markdown",
   "id": "41e5dd75-0987-4425-9cc1-e5416e66d066",
   "metadata": {},
   "source": [
    "## 1.0 Load data"
   ]
  },
  {
   "cell_type": "code",
   "execution_count": null,
   "id": "2d1dbce5-a503-41ed-b9b0-1a0580d74287",
   "metadata": {},
   "outputs": [],
   "source": [
    "df = dd.read_parquet(PATH)"
   ]
  },
  {
   "cell_type": "code",
   "execution_count": null,
   "id": "3328d4cb-0a5a-4b8e-867e-0008e119ef39",
   "metadata": {},
   "outputs": [],
   "source": [
    "df"
   ]
  },
  {
   "cell_type": "code",
   "execution_count": null,
   "id": "6b781cc8-3b1b-46cf-a2bd-4c38e48ef440",
   "metadata": {},
   "outputs": [],
   "source": [
    "df = df.persist()"
   ]
  },
  {
   "cell_type": "code",
   "execution_count": null,
   "id": "63c9423a-82d3-41cd-8132-9f9603b6debb",
   "metadata": {},
   "outputs": [],
   "source": [
    "df.head()"
   ]
  },
  {
   "cell_type": "code",
   "execution_count": null,
   "id": "c3e2f53f-0f68-4dfa-8f10-82f368d81002",
   "metadata": {},
   "outputs": [],
   "source": [
    "len(df)"
   ]
  },
  {
   "cell_type": "markdown",
   "id": "a47624b2-696b-47fe-b030-f663fe5cf7eb",
   "metadata": {},
   "source": [
    "## 2.0 Preparation"
   ]
  },
  {
   "cell_type": "code",
   "execution_count": null,
   "id": "1498ee78-f949-497d-84f3-25774218c98e",
   "metadata": {},
   "outputs": [],
   "source": [
    "df['error_2t'] = df['gdps_2t'] - df['obs_2t']\n",
    "df['step_hour'] = df['step'] / 3600\n",
    "df['step_td'] = dd.to_timedelta(df['step'], unit='S')"
   ]
  },
  {
   "cell_type": "code",
   "execution_count": null,
   "id": "3ee4c44f-6b1d-4ffa-a20e-ec638895e64a",
   "metadata": {},
   "outputs": [],
   "source": [
    "df.head()"
   ]
  },
  {
   "cell_type": "code",
   "execution_count": null,
   "id": "d4e94045-5fc1-4b86-9334-a7a8f38e72f6",
   "metadata": {},
   "outputs": [],
   "source": [
    "cat_columns = []\n",
    "cont_columns = ['gdps_prate', 'gdps_prmsl', 'gdps_2t', 'gdps_2d', 'gdps_2r', 'gdps_10u', 'gdps_10v', 'gdps_10si', \n",
    "                'gdps_10wdir', 'gdps_al', 'gdps_t_850', 'gdps_t_500', 'gdps_gh_1000', 'gdps_gh_850', 'gdps_gh_500', \n",
    "                'gdps_u_500', 'gdps_v_500', 'gdps_q_850', 'gdps_q_500', 'gdps_thick']\n",
    "target = 'error_2t'"
   ]
  },
  {
   "cell_type": "markdown",
   "id": "d801c35f-e80c-4965-8d8e-e92e0766c25e",
   "metadata": {},
   "source": [
    "* Let's keep 2019-01-01 to 2020-07-01 as train set (18 months)\n",
    "* 2020-07-01 to 2020-10-01 as valid set (3 months)\n",
    "* 2020-10-01 to 2020-12-31 as test set (3 months)"
   ]
  },
  {
   "cell_type": "code",
   "execution_count": null,
   "id": "821f2d38-1127-45ec-9f67-b0bf0daf1f78",
   "metadata": {},
   "outputs": [],
   "source": [
    "print(f'min: {df.date.min().compute()}')\n",
    "print(f'max: {df.date.max().compute()}')"
   ]
  },
  {
   "cell_type": "code",
   "execution_count": null,
   "id": "7c5dcdbe-586d-4766-8f84-f2fffbe7635e",
   "metadata": {},
   "outputs": [],
   "source": [
    "X_train = df[df.date <= '2020-07-01'][['date', 'station'] + cat_columns + cont_columns]\n",
    "y_train = df[df.date <= '2020-07-01'][target]\n",
    "X_valid = df[(df.date > '2020-07-01') & (df.date <= '2020-10-01')][['date', 'station'] + cat_columns + cont_columns]\n",
    "y_valid = df[(df.date > '2020-07-01') & (df.date <= '2020-10-01')][target]\n",
    "X_test = df[df.date > '2020-10-01'][['date', 'station'] + cat_columns + cont_columns]\n",
    "y_test = df[df.date > '2020-10-01'][target]\n",
    "\n",
    "print(f'train: {len(X_train)/len(df)}, valid: {len(X_valid)/len(df)}, test: {len(X_test)/len(df)}')\n",
    "\n",
    "train_counts = X_train.date.value_counts().compute()\n",
    "valid_counts = X_valid.date.value_counts().compute()\n",
    "test_counts = X_test.date.value_counts().compute()\n",
    "\n",
    "fig, ax = plt.subplots()\n",
    "ax.scatter(train_counts.index, train_counts, s=1, c='g')\n",
    "ax.scatter(valid_counts.index, valid_counts, s=1, c='b')\n",
    "ax.scatter(test_counts.index, test_counts, s=1, c='r');\n",
    "\n",
    "print(f'Train: {X_train.date.min().compute()} -> {X_train.date.max().compute()}, Valid: {X_valid.date.min().compute()} -> {X_valid.date.max().compute()}, Test: {X_test.date.min().compute()} -> {X_test.date.max().compute()}')"
   ]
  },
  {
   "cell_type": "markdown",
   "id": "e00ec6f6-a8d1-478c-af36-5327b34aee28",
   "metadata": {},
   "source": [
    "* Deal with missing data"
   ]
  },
  {
   "cell_type": "code",
   "execution_count": null,
   "id": "f7c8aeeb-2ffd-4f60-b2d7-bb5169b9dd85",
   "metadata": {},
   "outputs": [],
   "source": [
    "assert not X_train.isnull().values.any(), \"There are NaN values in the dataframe\"\n",
    "assert not X_valid.isnull().values.any(), \"There are NaN values in the dataframe\"\n",
    "assert not X_test.isnull().values.any(), \"There are NaN values in the dataframe\""
   ]
  },
  {
   "cell_type": "markdown",
   "id": "c0b1c36e-0b04-4c1b-8357-2b9f03626e8c",
   "metadata": {},
   "source": [
    "* We do not find all stations that we trained on in the valid and test set"
   ]
  },
  {
   "cell_type": "code",
   "execution_count": null,
   "id": "9fbacf12-2136-41a7-8088-b8d635bef277",
   "metadata": {},
   "outputs": [],
   "source": [
    "train_stations = X_train.station.unique()\n",
    "valid_stations = X_valid.station.unique()\n",
    "test_stations = X_test.station.unique()\n",
    "print(f\"{len(set(train_stations) - set(valid_stations))} stations not in valid set\")\n",
    "print(f\"{len(set(train_stations) - set(test_stations))} stations not in test set\")"
   ]
  },
  {
   "cell_type": "markdown",
   "id": "37ca1ea0-9ac1-4648-b58f-94afb5b74c49",
   "metadata": {},
   "source": [
    "## 3.0 Training\n",
    "\n",
    "### 3.0.2 Train XGboost model, split temporal by dates"
   ]
  },
  {
   "cell_type": "code",
   "execution_count": null,
   "id": "50971dc9-52b4-40aa-9500-0c5784409931",
   "metadata": {},
   "outputs": [],
   "source": [
    "X_train = X_train.drop(['date', 'station'], axis=1)\n",
    "X_test = X_test.drop(['date', 'station'], axis=1)\n",
    "X_valid = X_valid.drop(['date', 'station'], axis=1)"
   ]
  },
  {
   "cell_type": "markdown",
   "id": "34beeaf2-8f1e-439b-8011-4fab56c46459",
   "metadata": {},
   "source": [
    "* DMatrix is an internal data structure that is used by XGBoost."
   ]
  },
  {
   "cell_type": "code",
   "execution_count": null,
   "id": "262d29c7-16d6-4a6e-aba8-40d94098cee2",
   "metadata": {},
   "outputs": [],
   "source": [
    "dtrain = xgb.dask.DaskDMatrix(client, X_train, y_train)\n",
    "dvalid = xgb.dask.DaskDMatrix(client, X_valid, y_valid)\n",
    "dtest = xgb.dask.DaskDMatrix(client, X_test)"
   ]
  },
  {
   "cell_type": "code",
   "execution_count": null,
   "id": "d51565cd-298a-405b-9b31-fd8822ea5dfb",
   "metadata": {},
   "outputs": [],
   "source": [
    "num_boost_round = 100\n",
    "params = {'objective': 'reg:squarederror', \n",
    "          'tree_method': 'hist',\n",
    "          'eval_metric': ['rmse', 'mae'],\n",
    "          'eta': 0.3\n",
    "         }\n",
    "watchlist = [(dtrain, 'train'), (dvalid, 'valid')]"
   ]
  },
  {
   "cell_type": "code",
   "execution_count": null,
   "id": "0bced7cc-5800-4f04-bab9-88d760831e0d",
   "metadata": {},
   "outputs": [],
   "source": [
    "model = xgb.dask.train(client, params, dtrain, num_boost_round, evals=watchlist, verbose_eval=10, early_stopping_rounds=10)"
   ]
  },
  {
   "cell_type": "markdown",
   "id": "ce418003-14f1-43e0-8500-3933ccb200d0",
   "metadata": {},
   "source": [
    "* Why is loss lower for Valid?"
   ]
  },
  {
   "cell_type": "code",
   "execution_count": null,
   "id": "40bd97cc-31f5-4f5c-bf54-fb3634623099",
   "metadata": {},
   "outputs": [],
   "source": [
    "plt.figure(figsize=(10,6))\n",
    "plt.plot(model['history']['train']['rmse'], label='Train')\n",
    "plt.plot(model['history']['valid']['rmse'], label='Valid')\n",
    "plt.legend()\n",
    "plt.xlabel('Iterations')\n",
    "plt.ylabel('RMSE')\n",
    "plt.title('RMSE Loss')\n",
    "plt.show()"
   ]
  },
  {
   "cell_type": "code",
   "execution_count": null,
   "id": "d05e436f-7462-4033-aca9-9f1b2eef83a2",
   "metadata": {},
   "outputs": [],
   "source": [
    "xgb.plot_importance(model['booster']);"
   ]
  },
  {
   "cell_type": "markdown",
   "id": "645f5478-a8ed-4dc7-b32a-0deec915ee23",
   "metadata": {},
   "source": [
    "* But loss is higher for test, as expected?"
   ]
  },
  {
   "cell_type": "code",
   "execution_count": null,
   "id": "6a30a917-3803-4563-ad25-8e8835f81c65",
   "metadata": {},
   "outputs": [],
   "source": [
    "predictions = xgb.dask.predict(client, model, dtest)\n",
    "print(f'MAE: {mean_absolute_error(y_test, predictions)}')\n",
    "print(f'RMSE: {mean_squared_error(y_test, predictions, squared=False)}')"
   ]
  },
  {
   "cell_type": "code",
   "execution_count": null,
   "id": "ca483442-dac0-4844-b5e6-85320433d7f6",
   "metadata": {},
   "outputs": [],
   "source": []
  }
 ],
 "metadata": {
  "kernelspec": {
   "display_name": "Python (smc01-xgb)",
   "language": "python",
   "name": "smc01-xgb"
  },
  "language_info": {
   "codemirror_mode": {
    "name": "ipython",
    "version": 3
   },
   "file_extension": ".py",
   "mimetype": "text/x-python",
   "name": "python",
   "nbconvert_exporter": "python",
   "pygments_lexer": "ipython3",
   "version": "3.8.8"
  }
 },
 "nbformat": 4,
 "nbformat_minor": 5
}
