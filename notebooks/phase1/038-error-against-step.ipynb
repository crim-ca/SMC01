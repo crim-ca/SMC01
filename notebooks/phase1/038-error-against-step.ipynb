{
 "cells": [
  {
   "cell_type": "code",
   "execution_count": null,
   "id": "reasonable-simple",
   "metadata": {},
   "outputs": [],
   "source": [
    "%load_ext autoreload\n",
    "%autoreload 2"
   ]
  },
  {
   "cell_type": "markdown",
   "id": "flying-unknown",
   "metadata": {},
   "source": [
    "# Error against step\n",
    "\n",
    "One very useful graph is the mean error against the step.\n",
    "We plot it in this notebook"
   ]
  },
  {
   "cell_type": "code",
   "execution_count": null,
   "id": "minus-current",
   "metadata": {},
   "outputs": [],
   "source": [
    "import dask\n",
    "import dask.array as da\n",
    "import dask.dataframe as dd\n",
    "import dask.distributed\n",
    "import dask_jobqueue\n",
    "import matplotlib.pyplot as plt\n",
    "import numpy as np\n",
    "import os\n",
    "import pathlib\n",
    "import pandas as pd\n",
    "import seaborn as sns"
   ]
  },
  {
   "cell_type": "code",
   "execution_count": null,
   "id": "strategic-means",
   "metadata": {},
   "outputs": [],
   "source": [
    "sns.set_theme()"
   ]
  },
  {
   "cell_type": "markdown",
   "id": "banned-anthropology",
   "metadata": {},
   "source": [
    "# Boot cluster"
   ]
  },
  {
   "cell_type": "code",
   "execution_count": null,
   "id": "assumed-country",
   "metadata": {},
   "outputs": [],
   "source": [
    "cluster = dask_jobqueue.SLURMCluster(\n",
    "    env_extra=['source ~/.bash_profile','conda activate smc01'],\n",
    "    name='smc01-dask',\n",
    ")"
   ]
  },
  {
   "cell_type": "code",
   "execution_count": null,
   "id": "successful-baseline",
   "metadata": {},
   "outputs": [],
   "source": [
    "cluster.scale(jobs=6)"
   ]
  },
  {
   "cell_type": "code",
   "execution_count": null,
   "id": "usual-telephone",
   "metadata": {},
   "outputs": [],
   "source": [
    "client = dask.distributed.Client(cluster)"
   ]
  },
  {
   "cell_type": "code",
   "execution_count": null,
   "id": "adjacent-arkansas",
   "metadata": {},
   "outputs": [],
   "source": [
    "client"
   ]
  },
  {
   "cell_type": "markdown",
   "id": "imposed-prescription",
   "metadata": {},
   "source": [
    "# Read dataset"
   ]
  },
  {
   "cell_type": "code",
   "execution_count": null,
   "id": "veterinary-purse",
   "metadata": {},
   "outputs": [],
   "source": [
    "DATA_DIR = pathlib.Path(os.getenv('DATA_DIR'))\n",
    "INPUT = DATA_DIR / 'interpolated/2021-05-11-ppdataset/*.parquet'"
   ]
  },
  {
   "cell_type": "code",
   "execution_count": null,
   "id": "touched-candy",
   "metadata": {},
   "outputs": [],
   "source": [
    "df = dd.read_parquet(INPUT)"
   ]
  },
  {
   "cell_type": "code",
   "execution_count": null,
   "id": "introductory-assumption",
   "metadata": {},
   "outputs": [],
   "source": [
    "df['step_hour'] = df['step'] / 3600\n",
    "df['error_2t'] = df['obs_2t'] - df['gdps_2t']\n",
    "df['squared_error_2t'] = (df['gdps_2t'] - df['obs_2t']) ** 2\n",
    "df['rmse_2t'] = da.sqrt(df['squared_error_2t'])\n",
    "df['mabs_2t'] = np.abs(df['error_2t'])\n",
    "df['step_td'] = dd.to_timedelta(df['step'], unit='S')\n",
    "df['valid'] = df['date'] + df['step_td']"
   ]
  },
  {
   "cell_type": "code",
   "execution_count": null,
   "id": "f3d01937-7492-481f-a9c4-1ffe2e2de5d1",
   "metadata": {},
   "outputs": [],
   "source": [
    "head = df.head()"
   ]
  },
  {
   "cell_type": "code",
   "execution_count": null,
   "id": "70652ccf-2ab0-419b-a7c8-8eaa34854f16",
   "metadata": {},
   "outputs": [],
   "source": [
    "head"
   ]
  },
  {
   "cell_type": "code",
   "execution_count": null,
   "id": "bde97e52-0be7-4fba-9236-e0aeaf1d147b",
   "metadata": {},
   "outputs": [],
   "source": [
    "head.columns"
   ]
  },
  {
   "cell_type": "code",
   "execution_count": null,
   "id": "latin-prince",
   "metadata": {},
   "outputs": [],
   "source": [
    "by_step_mean = df.groupby('step_hour').mean()"
   ]
  },
  {
   "cell_type": "code",
   "execution_count": null,
   "id": "loved-pennsylvania",
   "metadata": {},
   "outputs": [],
   "source": [
    "by_step_count = df[df['station'] == 'CYUL'].groupby('step_hour').count()"
   ]
  },
  {
   "cell_type": "code",
   "execution_count": null,
   "id": "junior-reflection",
   "metadata": {},
   "outputs": [],
   "source": [
    "step_counts = by_step_count['rmse_2t'].compute()"
   ]
  },
  {
   "cell_type": "code",
   "execution_count": null,
   "id": "billion-nashville",
   "metadata": {},
   "outputs": [],
   "source": [
    "step_counts"
   ]
  },
  {
   "cell_type": "code",
   "execution_count": null,
   "id": "guided-creator",
   "metadata": {},
   "outputs": [],
   "source": [
    "by_step_comp = by_step.compute()"
   ]
  },
  {
   "cell_type": "code",
   "execution_count": null,
   "id": "iraqi-cutting",
   "metadata": {},
   "outputs": [],
   "source": [
    "by_step_comp['rmse_2t']"
   ]
  },
  {
   "cell_type": "code",
   "execution_count": null,
   "id": "protective-cruise",
   "metadata": {},
   "outputs": [],
   "source": [
    "sns.lineplot(x='step_hour', y='rmse_2t', data=step_counts)"
   ]
  },
  {
   "cell_type": "code",
   "execution_count": null,
   "id": "proprietary-combat",
   "metadata": {},
   "outputs": [],
   "source": [
    "sns.lineplot(data=step_counts)"
   ]
  },
  {
   "cell_type": "code",
   "execution_count": null,
   "id": "different-standing",
   "metadata": {},
   "outputs": [],
   "source": [
    "obs_count_by_station = df.groupby('station').count().compute()"
   ]
  },
  {
   "cell_type": "code",
   "execution_count": null,
   "id": "baa1b9b2-6b2a-47fe-ad54-0e4d2d9b225e",
   "metadata": {},
   "outputs": [],
   "source": [
    "obs_count_by_station"
   ]
  },
  {
   "cell_type": "code",
   "execution_count": null,
   "id": "subtle-solid",
   "metadata": {},
   "outputs": [],
   "source": [
    "sns.ecdfplot(data=obs_count_by_station, y='rmse_2t')"
   ]
  },
  {
   "cell_type": "code",
   "execution_count": null,
   "id": "alive-postcard",
   "metadata": {},
   "outputs": [],
   "source": [
    "good_stations = obs_count_by_station[obs_count_by_station['rmse_2t'] > 110000].index"
   ]
  },
  {
   "cell_type": "code",
   "execution_count": null,
   "id": "addressed-treaty",
   "metadata": {},
   "outputs": [],
   "source": [
    "len(good_stations)"
   ]
  },
  {
   "cell_type": "code",
   "execution_count": null,
   "id": "premium-partner",
   "metadata": {},
   "outputs": [],
   "source": [
    "#by_step_mean = df[(df['station'] == 'CYUL') & (df['date'].dt.hour == 12)].groupby('step_hour').mean()\n",
    "by_step_mean = df.groupby('step_hour').mean()"
   ]
  },
  {
   "cell_type": "code",
   "execution_count": null,
   "id": "lasting-desire",
   "metadata": {},
   "outputs": [],
   "source": [
    "by_step_mean_comp = by_step_mean.compute()"
   ]
  },
  {
   "cell_type": "code",
   "execution_count": null,
   "id": "royal-maria",
   "metadata": {},
   "outputs": [],
   "source": [
    "by_step_mean_comp"
   ]
  },
  {
   "cell_type": "code",
   "execution_count": null,
   "id": "confident-migration",
   "metadata": {},
   "outputs": [],
   "source": [
    "fig, ax = plt.subplots()\n",
    "sns.lineplot(x='step_hour', y='rmse_2t', data=by_step_mean_comp, ax=ax)\n",
    "ax.set_title('GDPS RMSE through steps for 2t')\n",
    "ax.set_xlabel('Step (hours)')\n",
    "ax.set_ylabel('RMSE (°C)')\n",
    "plt.savefig(DATA_DIR / 'rmse.png', dpi=300)"
   ]
  },
  {
   "cell_type": "markdown",
   "id": "sublime-major",
   "metadata": {},
   "source": [
    "## Time series for one station"
   ]
  },
  {
   "cell_type": "code",
   "execution_count": null,
   "id": "consecutive-massage",
   "metadata": {},
   "outputs": [],
   "source": [
    "cyul = df[(df['station'] == 'CYUL') & (df['date'] > '2020-1-1') & (df['date'] < '2020-2-1')].compute()"
   ]
  },
  {
   "cell_type": "code",
   "execution_count": null,
   "id": "athletic-pride",
   "metadata": {},
   "outputs": [],
   "source": [
    "cyul"
   ]
  },
  {
   "cell_type": "code",
   "execution_count": null,
   "id": "neutral-giant",
   "metadata": {},
   "outputs": [],
   "source": [
    "fig, ax = plt.subplots()\n",
    "sns.lineplot(x='valid', y='squared_error_2t', hue='step_hour', data=cyul[(cyul['step_hour'] ==228) | (cyul['step_hour'] == 48.0)], ax=ax)\n",
    "ax.set_xlabel('Validity time')\n",
    "ax.set_ylabel('2t (°C)')\n",
    "ax.set_title('2t at CYUL')\n",
    "plt.xticks(rotation=45)\n",
    "plt.savefig(DATA_DIR / 'obs2t.png', dpi=300, bbox_inches='tight')"
   ]
  },
  {
   "cell_type": "code",
   "execution_count": null,
   "id": "juvenile-carol",
   "metadata": {},
   "outputs": [],
   "source": []
  }
 ],
 "metadata": {
  "kernelspec": {
   "display_name": "SMC01",
   "language": "python",
   "name": "smc01"
  },
  "language_info": {
   "codemirror_mode": {
    "name": "ipython",
    "version": 3
   },
   "file_extension": ".py",
   "mimetype": "text/x-python",
   "name": "python",
   "nbconvert_exporter": "python",
   "pygments_lexer": "ipython3",
   "version": "3.9.2"
  }
 },
 "nbformat": 4,
 "nbformat_minor": 5
}
