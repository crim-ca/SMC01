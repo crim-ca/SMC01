{
 "cells": [
  {
   "cell_type": "code",
   "execution_count": null,
   "metadata": {},
   "outputs": [],
   "source": [
    "%load_ext autoreload\n",
    "%autoreload 2"
   ]
  },
  {
   "cell_type": "code",
   "execution_count": null,
   "metadata": {},
   "outputs": [],
   "source": [
    "#!conda install -y psycopg2"
   ]
  },
  {
   "cell_type": "code",
   "execution_count": null,
   "metadata": {},
   "outputs": [],
   "source": [
    "import dask\n",
    "import dask.bag as db\n",
    "import dask.dataframe as dd\n",
    "import os\n",
    "import pathlib\n",
    "import pandas as pd\n",
    "import xml.dom.minidom\n",
    "import seaborn as sns\n",
    "\n",
    "import psycopg2\n",
    "import psycopg2.extras"
   ]
  },
  {
   "cell_type": "code",
   "execution_count": null,
   "metadata": {},
   "outputs": [],
   "source": [
    "DATA_DIR = pathlib.Path(os.getenv('DATA_DIR'))\n",
    "SWOB_DIR = DATA_DIR / 'data/test_download/swob/'"
   ]
  },
  {
   "cell_type": "code",
   "execution_count": null,
   "outputs": [],
   "source": [
    "def string_to_dict(obs_xml_string):\n",
    "    obs_data = xml.dom.minidom.parseString(obs_xml_string)\n",
    "    metadata = obs_data.getElementsByTagName('identification-elements')[0]\n",
    "\n",
    "    metadata_dict = {}\n",
    "\n",
    "    for element in metadata.childNodes:\n",
    "        variable = element.attributes['name'].value\n",
    "        value = element.attributes['value'].value\n",
    "        metadata_dict[variable] = value\n",
    "\n",
    "    obs_dict = {}\n",
    "\n",
    "    elements = obs_data.getElementsByTagName('elements')[0]\n",
    "    for element in elements.childNodes:\n",
    "        variable = element.attributes['name'].value\n",
    "        value = element.attributes['value'].value\n",
    "        obs_dict[variable] = value\n",
    "\n",
    "    return {**metadata_dict, **obs_dict}"
   ],
   "metadata": {
    "collapsed": false
   }
  },
  {
   "cell_type": "code",
   "execution_count": null,
   "metadata": {},
   "outputs": [],
   "source": [
    "bag = db.read_text(DATA_DIR / 'data/test_download/swob/20201129/*/*.xml')"
   ]
  },
  {
   "cell_type": "code",
   "execution_count": null,
   "metadata": {},
   "outputs": [],
   "source": [
    "obs_dicts = bag.map(string_to_dict)"
   ]
  },
  {
   "cell_type": "code",
   "execution_count": null,
   "metadata": {},
   "outputs": [],
   "source": [
    "connection = psycopg2.connect(database='obs', user='postgres', password=None, host='localhost', port=5432)\n"
   ]
  },
  {
   "cell_type": "code",
   "execution_count": null,
   "metadata": {},
   "outputs": [],
   "source": [
    "cursor = connection.cursor()\n",
    "psycopg2.extras.execute_values(\n",
    "    cursor, \n",
    "    \"\"\"INSERT \n",
    "    INTO obs(network, valid_time, latitude, longitude, elevation, air_temperature, station_pressure, visibility, wmo_synop_id, geog) \n",
    "    VALUES %s\"\"\",\n",
    "    obs_dicts, template=\"('swob', %(date_tm)s, %(lat)s, %(long)s, %(stn_elev)s, %(air_temp)s, %(stn_pres)s, %(vis)s, %(wmo_synop_id)s, ST_SetSRID(ST_MakePoint(%(long)s, %(lat)s),4326))\")"
   ]
  },
  {
   "cell_type": "code",
   "execution_count": null,
   "metadata": {},
   "outputs": [],
   "source": [
    "connection.commit()\n"
   ]
  }
 ],
 "metadata": {
  "kernelspec": {
   "display_name": "Python 3.6",
   "language": "python",
   "name": "python3"
  },
  "language_info": {
   "codemirror_mode": {
    "name": "ipython",
    "version": 3
   },
   "file_extension": ".py",
   "mimetype": "text/x-python",
   "name": "python",
   "nbconvert_exporter": "python",
   "pygments_lexer": "ipython3",
   "version": "3.6.8"
  }
 },
 "nbformat": 4,
 "nbformat_minor": 4
}
