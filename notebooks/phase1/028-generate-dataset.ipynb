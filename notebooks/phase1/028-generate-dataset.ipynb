{
 "cells": [
  {
   "cell_type": "code",
   "execution_count": null,
   "id": "thrown-nation",
   "metadata": {},
   "outputs": [],
   "source": [
    "%load_ext autoreload\n",
    "%autoreload 2"
   ]
  },
  {
   "cell_type": "markdown",
   "id": "available-empire",
   "metadata": {},
   "source": [
    "Export a dataset suitable for machine learning to the HDF5 format.\n",
    "The target dataset should have the following features both for validation and train:\n",
    "\n",
    "* Numerical station ID, to be expanded to one-hot on training.\n",
    "* Temporal features\n",
    "* Station features\n",
    "* Target value (in this case the 2t error)"
   ]
  },
  {
   "cell_type": "code",
   "execution_count": null,
   "id": "operating-formation",
   "metadata": {},
   "outputs": [],
   "source": [
    "import dask\n",
    "import dask.array as da\n",
    "import dask.dataframe as dd\n",
    "import dask.distributed\n",
    "import dask_jobqueue\n",
    "import numpy as np\n",
    "import os\n",
    "import pathlib\n",
    "import pandas as pd\n",
    "import seaborn as sns"
   ]
  },
  {
   "cell_type": "code",
   "execution_count": null,
   "outputs": [],
   "source": [
    "DATA_DIR = pathlib.Path(os.getenv('DATA_DIR'))"
   ],
   "metadata": {
    "collapsed": false
   }
  },
  {
   "cell_type": "markdown",
   "id": "strange-voice",
   "metadata": {},
   "source": [
    "# Boot cluster"
   ]
  },
  {
   "cell_type": "code",
   "execution_count": null,
   "id": "reflected-implement",
   "metadata": {},
   "outputs": [],
   "source": [
    "cluster = dask_jobqueue.SLURMCluster(\n",
    "    env_extra=['source ~/.bash_profile','conda activate smc01'],\n",
    "    name='smc01-dask',\n",
    ")"
   ]
  },
  {
   "cell_type": "code",
   "execution_count": null,
   "id": "honest-calendar",
   "metadata": {},
   "outputs": [],
   "source": [
    "cluster.scale(jobs=2)"
   ]
  },
  {
   "cell_type": "code",
   "execution_count": null,
   "id": "special-editor",
   "metadata": {},
   "outputs": [],
   "source": [
    "client = dask.distributed.Client(cluster)"
   ]
  },
  {
   "cell_type": "code",
   "execution_count": null,
   "id": "dried-participation",
   "metadata": {},
   "outputs": [],
   "source": [
    "client"
   ]
  },
  {
   "cell_type": "markdown",
   "id": "indirect-ground",
   "metadata": {},
   "source": [
    "# Read dataset"
   ]
  },
  {
   "cell_type": "code",
   "execution_count": null,
   "id": "stainless-programmer",
   "metadata": {},
   "outputs": [],
   "source": [
    "INPUT_DIR = DATA_DIR / '2021-03-17-ppdataset/'"
   ]
  },
  {
   "cell_type": "code",
   "execution_count": null,
   "id": "certified-musical",
   "metadata": {},
   "outputs": [],
   "source": [
    "df = dd.read_parquet(DATA_DIR / '2021-03-17-ppdataset/*.parquet')"
   ]
  },
  {
   "cell_type": "code",
   "execution_count": null,
   "id": "central-photograph",
   "metadata": {},
   "outputs": [],
   "source": [
    "df"
   ]
  },
  {
   "cell_type": "code",
   "execution_count": null,
   "id": "inappropriate-scott",
   "metadata": {},
   "outputs": [],
   "source": [
    "df.head()"
   ]
  },
  {
   "cell_type": "code",
   "execution_count": null,
   "id": "wireless-encoding",
   "metadata": {},
   "outputs": [],
   "source": [
    "#df = df.persist()"
   ]
  },
  {
   "cell_type": "markdown",
   "id": "white-panama",
   "metadata": {},
   "source": [
    "Adding pertinent fields"
   ]
  },
  {
   "cell_type": "code",
   "execution_count": null,
   "id": "spectacular-trading",
   "metadata": {},
   "outputs": [],
   "source": [
    "df['error_2t'] = df['gdps_2t'] - df['obs_2t']\n",
    "df['squared_error_2t'] = (df['gdps_2t'] - df['obs_2t']) ** 2\n",
    "df['step_hour'] = df['step'] / 3600\n",
    "df['step_td'] = dd.to_timedelta(df['step'], unit='S')\n",
    "df['valid'] = df['date'] + df['step_td']\n",
    "df['forecast_hour'] = df['date'].dt.hour"
   ]
  },
  {
   "cell_type": "code",
   "execution_count": null,
   "id": "dress-vocabulary",
   "metadata": {},
   "outputs": [],
   "source": [
    "df['abs_error_2t'] = np.abs(df['error_2t'])"
   ]
  },
  {
   "cell_type": "code",
   "execution_count": null,
   "id": "latest-sheet",
   "metadata": {},
   "outputs": [],
   "source": []
  },
  {
   "cell_type": "markdown",
   "id": "grand-margin",
   "metadata": {},
   "source": [
    "Selection the stations which have a certain number of total observations."
   ]
  },
  {
   "cell_type": "code",
   "execution_count": null,
   "id": "wrapped-mineral",
   "metadata": {},
   "outputs": [],
   "source": [
    "obs_counts = df['station'].value_counts().compute()"
   ]
  },
  {
   "cell_type": "code",
   "execution_count": null,
   "id": "furnished-integration",
   "metadata": {},
   "outputs": [],
   "source": [
    "obs_counts"
   ]
  },
  {
   "cell_type": "code",
   "execution_count": null,
   "id": "arbitrary-singing",
   "metadata": {},
   "outputs": [],
   "source": [
    "stations_with_obs = obs_counts.index[obs_counts > 30].tolist()"
   ]
  },
  {
   "cell_type": "code",
   "execution_count": null,
   "id": "liquid-moscow",
   "metadata": {},
   "outputs": [],
   "source": [
    "subset = df[df['station'].isin(stations_with_obs)]"
   ]
  },
  {
   "cell_type": "code",
   "execution_count": null,
   "id": "altered-egypt",
   "metadata": {},
   "outputs": [],
   "source": [
    "subset"
   ]
  },
  {
   "cell_type": "code",
   "execution_count": null,
   "id": "positive-harbor",
   "metadata": {},
   "outputs": [],
   "source": [
    "subset = subset.persist()"
   ]
  },
  {
   "cell_type": "code",
   "execution_count": null,
   "id": "million-cooperative",
   "metadata": {},
   "outputs": [],
   "source": [
    "subset.groupby('step')['abs_error_2t'].mean().compute().plot()"
   ]
  },
  {
   "cell_type": "code",
   "execution_count": null,
   "id": "educational-mattress",
   "metadata": {},
   "outputs": [],
   "source": [
    "grouped = subset[subset['step_hour'] < 48].groupby(['step', 'forecast_hour']).mean().compute()"
   ]
  },
  {
   "cell_type": "code",
   "execution_count": null,
   "id": "tender-drilling",
   "metadata": {},
   "outputs": [],
   "source": [
    "sns.set_theme()"
   ]
  },
  {
   "cell_type": "code",
   "execution_count": null,
   "id": "straight-radiation",
   "metadata": {},
   "outputs": [],
   "source": [
    "sns.scatterplot(x='step_hour', y='squared_error_2t', hue='forecast_hour', markers=True, data=grouped)"
   ]
  },
  {
   "cell_type": "code",
   "execution_count": null,
   "id": "figured-living",
   "metadata": {},
   "outputs": [],
   "source": [
    "counts = subset[subset['step_hour'] < 48].groupby(['step_hour', 'forecast_hour']).count().compute()"
   ]
  },
  {
   "cell_type": "code",
   "execution_count": null,
   "id": "moving-samuel",
   "metadata": {},
   "outputs": [],
   "source": [
    "counts"
   ]
  },
  {
   "cell_type": "code",
   "execution_count": null,
   "id": "outstanding-brief",
   "metadata": {},
   "outputs": [],
   "source": [
    "sns.scatterplot(x='step_hour', y='squared_error_2t', hue='forecast_hour', data=counts)"
   ]
  },
  {
   "cell_type": "markdown",
   "id": "elementary-arthur",
   "metadata": {},
   "source": [
    "## Generating station ids"
   ]
  },
  {
   "cell_type": "code",
   "execution_count": null,
   "id": "municipal-bloom",
   "metadata": {},
   "outputs": [],
   "source": [
    "stations = subset['station'].compute()"
   ]
  },
  {
   "cell_type": "code",
   "execution_count": null,
   "id": "driven-playing",
   "metadata": {},
   "outputs": [],
   "source": [
    "stations = stations.astype('category')"
   ]
  },
  {
   "cell_type": "code",
   "execution_count": null,
   "id": "grateful-spanish",
   "metadata": {},
   "outputs": [],
   "source": [
    "station_ids = stations.cat.codes"
   ]
  },
  {
   "cell_type": "code",
   "execution_count": null,
   "id": "eight-thought",
   "metadata": {},
   "outputs": [],
   "source": [
    "station_ids = np.array(station_ids)"
   ]
  },
  {
   "cell_type": "markdown",
   "id": "electrical-permit",
   "metadata": {},
   "source": [
    "## Generating features"
   ]
  },
  {
   "cell_type": "code",
   "execution_count": null,
   "id": "south-ridge",
   "metadata": {},
   "outputs": [],
   "source": [
    "subset.columns"
   ]
  },
  {
   "cell_type": "code",
   "execution_count": null,
   "id": "invisible-granny",
   "metadata": {},
   "outputs": [],
   "source": [
    "feature_columns = [c for c in subset.columns if c.startswith('gdps')]"
   ]
  },
  {
   "cell_type": "code",
   "execution_count": null,
   "id": "unexpected-correlation",
   "metadata": {},
   "outputs": [],
   "source": [
    "feature_columns = ['latitude', 'longitude', 'elevation', *feature_columns]"
   ]
  },
  {
   "cell_type": "code",
   "execution_count": null,
   "id": "agricultural-blanket",
   "metadata": {},
   "outputs": [],
   "source": [
    "feature_columns"
   ]
  },
  {
   "cell_type": "code",
   "execution_count": null,
   "id": "wrong-faculty",
   "metadata": {},
   "outputs": [],
   "source": [
    "features = subset[feature_columns]"
   ]
  },
  {
   "cell_type": "code",
   "execution_count": null,
   "id": "informational-syndrome",
   "metadata": {},
   "outputs": [],
   "source": [
    "features_array = features.to_dask_array()"
   ]
  },
  {
   "cell_type": "markdown",
   "id": "combined-funeral",
   "metadata": {},
   "source": [
    "Apply a very crude rescaling of the values.\n",
    "Some columns might warrant a dedicated rescaling (wdirs which are angles, prate which have an exponential distribution)"
   ]
  },
  {
   "cell_type": "code",
   "execution_count": null,
   "id": "common-ideal",
   "metadata": {},
   "outputs": [],
   "source": [
    "features_array = (features_array - features_array.mean(axis=0)) / features_array.std(axis=0)"
   ]
  },
  {
   "cell_type": "code",
   "execution_count": null,
   "id": "concrete-muslim",
   "metadata": {},
   "outputs": [],
   "source": [
    "features_array"
   ]
  },
  {
   "cell_type": "code",
   "execution_count": null,
   "id": "transparent-cocktail",
   "metadata": {},
   "outputs": [],
   "source": [
    "subset['error_2t'].groupby('step').mean()"
   ]
  },
  {
   "cell_type": "markdown",
   "id": "prerequisite-checklist",
   "metadata": {},
   "source": [
    "## Timestamps for future reference"
   ]
  },
  {
   "cell_type": "code",
   "execution_count": null,
   "id": "severe-maldives",
   "metadata": {},
   "outputs": [],
   "source": [
    "subset['timestamp'] = subset['date'].astype('int64') // 10**9"
   ]
  },
  {
   "cell_type": "code",
   "execution_count": null,
   "id": "varying-poker",
   "metadata": {},
   "outputs": [],
   "source": [
    "subset['step'].head()"
   ]
  },
  {
   "cell_type": "code",
   "execution_count": null,
   "id": "arabic-anderson",
   "metadata": {},
   "outputs": [],
   "source": [
    "time_reference = subset[['timestamp', 'step']].to_dask_array()"
   ]
  },
  {
   "cell_type": "code",
   "execution_count": null,
   "id": "diverse-thermal",
   "metadata": {},
   "outputs": [],
   "source": [
    "time_reference"
   ]
  },
  {
   "cell_type": "markdown",
   "id": "federal-teach",
   "metadata": {},
   "source": [
    "## Temporal features"
   ]
  },
  {
   "cell_type": "code",
   "execution_count": null,
   "id": "racial-diploma",
   "metadata": {},
   "outputs": [],
   "source": [
    "subset['yearly_component'] = da.sin((subset['valid'].dt.dayofyear / 366) * 2*np.pi )"
   ]
  },
  {
   "cell_type": "code",
   "execution_count": null,
   "id": "approved-experience",
   "metadata": {},
   "outputs": [],
   "source": [
    "subset['daily_component'] = da.sin((subset['valid'].dt.hour / 24) * 2*np.pi)"
   ]
  },
  {
   "cell_type": "code",
   "execution_count": null,
   "id": "civilian-external",
   "metadata": {},
   "outputs": [],
   "source": [
    "subset['step_component'] = (subset['step'] / (237 * 60 * 60))"
   ]
  },
  {
   "cell_type": "code",
   "execution_count": null,
   "id": "identified-presence",
   "metadata": {},
   "outputs": [],
   "source": [
    "temporal_features = subset[['yearly_component', 'daily_component', 'step_component']].to_dask_array()"
   ]
  },
  {
   "cell_type": "markdown",
   "id": "valid-birmingham",
   "metadata": {},
   "source": [
    "## Target value\n",
    "\n",
    "In this case 2t error."
   ]
  },
  {
   "cell_type": "code",
   "execution_count": null,
   "id": "specified-spelling",
   "metadata": {},
   "outputs": [],
   "source": [
    "target_features = subset[['obs_2t']].to_dask_array()"
   ]
  },
  {
   "cell_type": "code",
   "execution_count": null,
   "id": "usual-russell",
   "metadata": {},
   "outputs": [],
   "source": [
    "target_features"
   ]
  },
  {
   "cell_type": "code",
   "execution_count": null,
   "id": "structural-print",
   "metadata": {},
   "outputs": [],
   "source": [
    "target_features.mean().compute()"
   ]
  },
  {
   "cell_type": "code",
   "execution_count": null,
   "id": "arbitrary-debut",
   "metadata": {},
   "outputs": [],
   "source": [
    "target_features.std().compute()"
   ]
  },
  {
   "cell_type": "code",
   "execution_count": null,
   "id": "affected-postage",
   "metadata": {},
   "outputs": [],
   "source": [
    "target_features = target_features / 15.0"
   ]
  },
  {
   "cell_type": "markdown",
   "id": "loving-gospel",
   "metadata": {},
   "source": [
    "## Get sizes of arrays"
   ]
  },
  {
   "cell_type": "code",
   "execution_count": null,
   "id": "nuclear-omaha",
   "metadata": {},
   "outputs": [],
   "source": [
    "temporal_features.compute_chunk_sizes()"
   ]
  },
  {
   "cell_type": "code",
   "execution_count": null,
   "id": "metric-robert",
   "metadata": {},
   "outputs": [],
   "source": [
    "features_array.compute_chunk_sizes()"
   ]
  },
  {
   "cell_type": "code",
   "execution_count": null,
   "id": "expired-bouquet",
   "metadata": {},
   "outputs": [],
   "source": [
    "target_features.compute_chunk_sizes()"
   ]
  },
  {
   "cell_type": "code",
   "execution_count": null,
   "id": "individual-stable",
   "metadata": {},
   "outputs": [],
   "source": [
    "time_reference.compute_chunk_sizes()"
   ]
  },
  {
   "cell_type": "code",
   "execution_count": null,
   "id": "dutch-vacation",
   "metadata": {},
   "outputs": [],
   "source": [
    "station_ids_compute = station_ids"
   ]
  },
  {
   "cell_type": "markdown",
   "id": "fitted-disposition",
   "metadata": {},
   "source": [
    "## Merging everything together"
   ]
  },
  {
   "cell_type": "code",
   "execution_count": null,
   "id": "logical-toilet",
   "metadata": {},
   "outputs": [],
   "source": [
    "features_array = da.concatenate([temporal_features, features_array], axis=1)"
   ]
  },
  {
   "cell_type": "code",
   "execution_count": null,
   "id": "furnished-dakota",
   "metadata": {},
   "outputs": [],
   "source": [
    "features_array = features_array.rechunk((100000, 26))"
   ]
  },
  {
   "cell_type": "markdown",
   "id": "rental-mongolia",
   "metadata": {},
   "source": [
    "Train val split"
   ]
  },
  {
   "cell_type": "code",
   "execution_count": null,
   "id": "accessory-operator",
   "metadata": {},
   "outputs": [],
   "source": [
    "train_mask = (subset['date'].dt.year == 2019).values"
   ]
  },
  {
   "cell_type": "code",
   "execution_count": null,
   "id": "underlying-jordan",
   "metadata": {},
   "outputs": [],
   "source": [
    "val_mask = (subset['date'].dt.year == 2020).values"
   ]
  },
  {
   "cell_type": "code",
   "execution_count": null,
   "id": "serious-rover",
   "metadata": {},
   "outputs": [],
   "source": [
    "train_mask.compute_chunk_sizes()"
   ]
  },
  {
   "cell_type": "code",
   "execution_count": null,
   "id": "published-kentucky",
   "metadata": {},
   "outputs": [],
   "source": [
    "val_mask.compute_chunk_sizes()"
   ]
  },
  {
   "cell_type": "code",
   "execution_count": null,
   "id": "fresh-birthday",
   "metadata": {},
   "outputs": [],
   "source": [
    "train_features = features_array[train_mask]\n",
    "train_targets = target_features[train_mask]\n",
    "train_stations = station_ids[train_mask]\n",
    "train_time = time_reference[train_mask]"
   ]
  },
  {
   "cell_type": "code",
   "execution_count": null,
   "id": "excess-macintosh",
   "metadata": {},
   "outputs": [],
   "source": [
    "val_features = features_array[val_mask]\n",
    "val_targets = target_features[val_mask]\n",
    "val_stations = station_ids[val_mask]\n",
    "val_time = time_reference[val_mask]"
   ]
  },
  {
   "cell_type": "markdown",
   "id": "traditional-digit",
   "metadata": {},
   "source": [
    "# Export to HDF5"
   ]
  },
  {
   "cell_type": "code",
   "execution_count": null,
   "id": "urban-question",
   "metadata": {},
   "outputs": [],
   "source": [
    "import h5py"
   ]
  },
  {
   "cell_type": "code",
   "execution_count": null,
   "id": "downtown-import",
   "metadata": {},
   "outputs": [],
   "source": [
    "f = h5py.File(DATA_DIR / '2021-03-17-ppdataset/full.hdf', 'w')"
   ]
  },
  {
   "cell_type": "code",
   "execution_count": null,
   "id": "wrong-diving",
   "metadata": {},
   "outputs": [],
   "source": [
    "f.create_dataset('/train/x', data=train_features, compression='lzf', chunks=(10000,26))"
   ]
  },
  {
   "cell_type": "code",
   "execution_count": null,
   "id": "informative-elephant",
   "metadata": {},
   "outputs": [],
   "source": [
    "f.create_dataset('/train/stations', data=train_stations, compression='lzf', chunks=(10000,))"
   ]
  },
  {
   "cell_type": "code",
   "execution_count": null,
   "id": "specified-french",
   "metadata": {},
   "outputs": [],
   "source": [
    "f.create_dataset('/train/y', data=train_targets, compression='lzf', chunks=(10000,1))"
   ]
  },
  {
   "cell_type": "code",
   "execution_count": null,
   "id": "intellectual-coating",
   "metadata": {},
   "outputs": [],
   "source": [
    "f.create_dataset('/train/time', data=train_time, compression='lzf', chunks=(10000,2))"
   ]
  },
  {
   "cell_type": "code",
   "execution_count": null,
   "id": "desirable-flush",
   "metadata": {},
   "outputs": [],
   "source": [
    "f.create_dataset('/val/x', data=val_features, compression='lzf', chunks=(10000,26))"
   ]
  },
  {
   "cell_type": "code",
   "execution_count": null,
   "id": "compliant-decrease",
   "metadata": {},
   "outputs": [],
   "source": [
    "f.create_dataset('/val/stations', data=val_stations, compression='lzf', chunks=(10000,))"
   ]
  },
  {
   "cell_type": "code",
   "execution_count": null,
   "id": "coordinate-greece",
   "metadata": {},
   "outputs": [],
   "source": [
    "f.create_dataset('/val/y', data=val_targets, compression='lzf', chunks=(10000,1))"
   ]
  },
  {
   "cell_type": "code",
   "execution_count": null,
   "id": "surface-cholesterol",
   "metadata": {},
   "outputs": [],
   "source": [
    "f.create_dataset('/val/time', data=val_time, compression='lzf', chunks=(10000,2))"
   ]
  },
  {
   "cell_type": "code",
   "execution_count": null,
   "id": "imported-blame",
   "metadata": {},
   "outputs": [],
   "source": [
    "f.close()"
   ]
  },
  {
   "cell_type": "code",
   "execution_count": null,
   "id": "thermal-exchange",
   "metadata": {},
   "outputs": [],
   "source": []
  },
  {
   "cell_type": "code",
   "execution_count": null,
   "id": "elect-classic",
   "metadata": {},
   "outputs": [],
   "source": [
    "station_ids.max()"
   ]
  },
  {
   "cell_type": "code",
   "execution_count": null,
   "id": "cardiac-quick",
   "metadata": {},
   "outputs": [],
   "source": []
  }
 ],
 "metadata": {
  "kernelspec": {
   "display_name": "Python 3",
   "language": "python",
   "name": "python3"
  },
  "language_info": {
   "codemirror_mode": {
    "name": "ipython",
    "version": 3
   },
   "file_extension": ".py",
   "mimetype": "text/x-python",
   "name": "python",
   "nbconvert_exporter": "python",
   "pygments_lexer": "ipython3",
   "version": "3.9.2"
  }
 },
 "nbformat": 4,
 "nbformat_minor": 5
}
