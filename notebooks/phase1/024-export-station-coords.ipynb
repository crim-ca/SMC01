{
 "cells": [
  {
   "cell_type": "markdown",
   "id": "renewable-modem",
   "metadata": {},
   "source": [
    "# Export station coords\n",
    "\n",
    "Export station coordinates to a file to that it is readily available when we perform interpolation.\n",
    "This is better than rerunning the query to the mongodb every time, because it's kind of expensive to \n",
    "look at 2 years of data to find all the possible stations."
   ]
  },
  {
   "cell_type": "code",
   "execution_count": null,
   "id": "spatial-curtis",
   "metadata": {},
   "outputs": [],
   "source": [
    "%load_ext autoreload\n",
    "%autoreload 2"
   ]
  },
  {
   "cell_type": "code",
   "execution_count": null,
   "id": "beneficial-gates",
   "metadata": {},
   "outputs": [],
   "source": [
    "import csv\n",
    "import datetime\n",
    "import os\n",
    "import pathlib\n",
    "import pandas as pd\n",
    "import pymongo"
   ]
  },
  {
   "cell_type": "code",
   "execution_count": null,
   "id": "moving-digest",
   "metadata": {},
   "outputs": [],
   "source": [
    "DATA_DIR = pathlib.Path(os.getenv('DATA_DIR'))\n",
    "\n",
    "MONGO_URL = 'localhost'\n",
    "MONGO_PORT = 27017\n",
    "USERNAME = None\n",
    "PASSWORD = None\n",
    "ADMIN_DB = 'admin'\n",
    "COLLECTION = 'iem'\n",
    "DB = 'smc01_raw_obs'"
   ]
  },
  {
   "cell_type": "code",
   "execution_count": null,
   "id": "spiritual-liabilities",
   "metadata": {},
   "outputs": [],
   "source": [
    "begin_date = datetime.datetime(2019, 1, 1, tzinfo=datetime.timezone.utc)\n",
    "end_date = datetime.datetime(2021, 1, 1, tzinfo=datetime.timezone.utc)"
   ]
  },
  {
   "cell_type": "code",
   "execution_count": null,
   "id": "moved-universe",
   "metadata": {},
   "outputs": [],
   "source": [
    "end_date - begin_date"
   ]
  },
  {
   "cell_type": "code",
   "execution_count": null,
   "id": "instructional-summer",
   "metadata": {},
   "outputs": [],
   "source": [
    "mongo_client = pymongo.MongoClient(host=MONGO_URL, port=MONGO_PORT, username=USERNAME, password=PASSWORD, authSource=ADMIN_DB)\n",
    "db = mongo_client[DB]\n",
    "collection = db[COLLECTION]"
   ]
  },
  {
   "cell_type": "code",
   "execution_count": null,
   "id": "intended-syndication",
   "metadata": {},
   "outputs": [],
   "source": [
    "query_filter = {\n",
    "    'valid': {\n",
    "        '$gte': begin_date,\n",
    "        '$lt': end_date\n",
    "}}"
   ]
  },
  {
   "cell_type": "code",
   "execution_count": null,
   "id": "inside-throat",
   "metadata": {},
   "outputs": [],
   "source": [
    "stations = set(collection.distinct('station'))"
   ]
  },
  {
   "cell_type": "code",
   "execution_count": null,
   "id": "annual-aviation",
   "metadata": {},
   "outputs": [],
   "source": [
    "station_info = []\n",
    "for station in stations:\n",
    "    one_obs = collection.find_one({'station': station})\n",
    "    station_info.append({\n",
    "        'station': station,\n",
    "        'lat': one_obs['lat'],\n",
    "        'lon': one_obs['lon'],\n",
    "    })"
   ]
  },
  {
   "cell_type": "code",
   "execution_count": null,
   "id": "impaired-republic",
   "metadata": {},
   "outputs": [],
   "source": [
    "with open(DATA_DIR / 'metar_stations.csv', 'w') as csv_file:\n",
    "    writer = csv.DictWriter(csv_file, ['station', 'lat', 'lon'], )\n",
    "    writer.writeheader()\n",
    "    \n",
    "    for station in sorted(station_info, key=lambda x: x['station']):\n",
    "        writer.writerow(station)"
   ]
  },
  {
   "cell_type": "code",
   "execution_count": null,
   "id": "hungarian-belfast",
   "metadata": {},
   "outputs": [],
   "source": [
    "!head ${DATA_DIR}/metar_stations.csv"
   ]
  },
  {
   "cell_type": "code",
   "execution_count": null,
   "id": "emerging-giving",
   "metadata": {},
   "outputs": [],
   "source": []
  }
 ],
 "metadata": {
  "kernelspec": {
   "display_name": "Python 3.6",
   "language": "python",
   "name": "python3"
  },
  "language_info": {
   "codemirror_mode": {
    "name": "ipython",
    "version": 3
   },
   "file_extension": ".py",
   "mimetype": "text/x-python",
   "name": "python",
   "nbconvert_exporter": "python",
   "pygments_lexer": "ipython3",
   "version": "3.6.8"
  }
 },
 "nbformat": 4,
 "nbformat_minor": 5
}
