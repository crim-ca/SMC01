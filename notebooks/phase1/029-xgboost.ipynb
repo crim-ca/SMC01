{
 "cells": [
  {
   "cell_type": "code",
   "execution_count": null,
   "id": "acting-working",
   "metadata": {},
   "outputs": [],
   "source": [
    "%load_ext autoreload\n",
    "%autoreload 2"
   ]
  },
  {
   "cell_type": "markdown",
   "id": "flexible-cylinder",
   "metadata": {},
   "source": [
    "Use the HDF5 file generated in notebook 28 to train an XGBoost model."
   ]
  },
  {
   "cell_type": "code",
   "execution_count": null,
   "id": "great-diesel",
   "metadata": {},
   "outputs": [],
   "source": [
    "import h5py\n",
    "import numpy as np\n",
    "import os\n",
    "import pathlib\n",
    "import xgboost as xgb"
   ]
  },
  {
   "cell_type": "code",
   "execution_count": null,
   "id": "recorded-graphic",
   "metadata": {},
   "outputs": [],
   "source": [
    "DATA_DIR = pathlib.Path(os.getenv('DATA_DIR'))\n",
    "INPUT_FILE = DATA_DIR / '2021-03-17-ppdataset/test.hdf'"
   ]
  },
  {
   "cell_type": "code",
   "execution_count": null,
   "id": "freelance-hostel",
   "metadata": {},
   "outputs": [],
   "source": [
    "dataset = h5py.File(INPUT_FILE, 'r')"
   ]
  },
  {
   "cell_type": "code",
   "execution_count": null,
   "id": "linear-karen",
   "metadata": {},
   "outputs": [],
   "source": [
    "dataset_x = dataset['/train/x']"
   ]
  },
  {
   "cell_type": "code",
   "execution_count": null,
   "id": "aquatic-background",
   "metadata": {},
   "outputs": [],
   "source": [
    "dataset_x.shape"
   ]
  },
  {
   "cell_type": "code",
   "execution_count": null,
   "id": "faced-northwest",
   "metadata": {},
   "outputs": [],
   "source": [
    "dataset_y = dataset['/train/y']"
   ]
  },
  {
   "cell_type": "code",
   "execution_count": null,
   "id": "aerial-fitness",
   "metadata": {},
   "outputs": [],
   "source": [
    "dataset_stations = dataset['/train/stations']"
   ]
  },
  {
   "cell_type": "code",
   "execution_count": null,
   "id": "genetic-newman",
   "metadata": {},
   "outputs": [],
   "source": [
    "one_hot = np.zeros((100000, 2359), dtype=bool)\n",
    "one_hot[np.arange(100000),dataset_stations[:100000]] = True"
   ]
  },
  {
   "cell_type": "code",
   "execution_count": null,
   "id": "coordinate-custody",
   "metadata": {},
   "outputs": [],
   "source": [
    "one_hot.sum(axis=1)"
   ]
  },
  {
   "cell_type": "code",
   "execution_count": null,
   "id": "innovative-mission",
   "metadata": {},
   "outputs": [],
   "source": [
    "in_features = np.concatenate((one_hot, dataset_x[:100000]), axis=1)"
   ]
  },
  {
   "cell_type": "code",
   "execution_count": null,
   "id": "decent-malaysia",
   "metadata": {},
   "outputs": [],
   "source": [
    "one_hot.shape"
   ]
  },
  {
   "cell_type": "code",
   "execution_count": null,
   "id": "pending-remove",
   "metadata": {},
   "outputs": [],
   "source": [
    "in_features.shape"
   ]
  },
  {
   "cell_type": "code",
   "execution_count": null,
   "id": "numerous-editor",
   "metadata": {},
   "outputs": [],
   "source": [
    "feature_names = [f'stn{i}' for i in range(2359)]\n",
    "feature_names.extend([\n",
    " 'year',\n",
    "    'hour',\n",
    "    'step',\n",
    " 'latitude',\n",
    " 'longitude',\n",
    " 'elevation',\n",
    " 'gdps_prate',\n",
    " 'gdps_prmsl',\n",
    " 'gdps_2t',\n",
    " 'gdps_2d',\n",
    " 'gdps_2r',\n",
    " 'gdps_10u',\n",
    " 'gdps_10v',\n",
    " 'gdps_10si',\n",
    " 'gdps_10wdir',\n",
    " 'gdps_al',\n",
    " 'gdps_t_850',\n",
    " 'gdps_t_500',\n",
    " 'gdps_gh_1000',\n",
    " 'gdps_gh_850',\n",
    " 'gdps_gh_500',\n",
    " 'gdps_u_500',\n",
    " 'gdps_v_500',\n",
    " 'gdps_q_850',\n",
    " 'gdps_q_500',\n",
    " 'gdps_thick'])"
   ]
  },
  {
   "cell_type": "code",
   "execution_count": null,
   "id": "august-career",
   "metadata": {},
   "outputs": [],
   "source": [
    "dtrain = xgb.DMatrix(in_features, label=dataset_y[:100000], feature_names=feature_names)"
   ]
  },
  {
   "cell_type": "code",
   "execution_count": null,
   "id": "funded-restoration",
   "metadata": {},
   "outputs": [],
   "source": [
    "param = {'max_depth':4, 'eta':1, 'objective':'reg:squarederror', 'eval_metric': ['rmse', 'mae'] }"
   ]
  },
  {
   "cell_type": "code",
   "execution_count": null,
   "id": "improved-party",
   "metadata": {},
   "outputs": [],
   "source": [
    "booster = xgb.train(param, dtrain)"
   ]
  },
  {
   "cell_type": "code",
   "execution_count": null,
   "id": "faced-coupon",
   "metadata": {},
   "outputs": [],
   "source": [
    "booster.eval(dtrain)"
   ]
  },
  {
   "cell_type": "code",
   "execution_count": null,
   "id": "controversial-myanmar",
   "metadata": {},
   "outputs": [],
   "source": [
    "val_x = dataset['/val/x'][:100000]"
   ]
  },
  {
   "cell_type": "code",
   "execution_count": null,
   "id": "basic-protest",
   "metadata": {},
   "outputs": [],
   "source": [
    "val_y = dataset['/val/y'][:100000]"
   ]
  },
  {
   "cell_type": "code",
   "execution_count": null,
   "id": "toxic-cancellation",
   "metadata": {},
   "outputs": [],
   "source": [
    "val_one_hot = np.zeros((100000, 2359), dtype=bool)\n",
    "val_one_hot[np.arange(100000),dataset['/val/stations'][:100000]] = True"
   ]
  },
  {
   "cell_type": "code",
   "execution_count": null,
   "id": "selective-facing",
   "metadata": {},
   "outputs": [],
   "source": [
    "val_x = np.concatenate((val_one_hot, val_x), axis=1)"
   ]
  },
  {
   "cell_type": "code",
   "execution_count": null,
   "id": "signal-headline",
   "metadata": {},
   "outputs": [],
   "source": [
    "len(feature_names)"
   ]
  },
  {
   "cell_type": "code",
   "execution_count": null,
   "id": "backed-practitioner",
   "metadata": {},
   "outputs": [],
   "source": [
    "val_x.shape"
   ]
  },
  {
   "cell_type": "code",
   "execution_count": null,
   "id": "molecular-blood",
   "metadata": {},
   "outputs": [],
   "source": [
    "dval = xgb.DMatrix(val_x, label=val_y, feature_names=feature_names)"
   ]
  },
  {
   "cell_type": "code",
   "execution_count": null,
   "id": "graduate-times",
   "metadata": {},
   "outputs": [],
   "source": [
    "booster.eval(dval)"
   ]
  },
  {
   "cell_type": "code",
   "execution_count": null,
   "id": "bound-advance",
   "metadata": {},
   "outputs": [],
   "source": [
    "xgb.plot_importance(booster)"
   ]
  },
  {
   "cell_type": "code",
   "execution_count": null,
   "id": "forward-panama",
   "metadata": {},
   "outputs": [],
   "source": [
    "booster.get_score(importance_type='weight')"
   ]
  },
  {
   "cell_type": "code",
   "execution_count": null,
   "id": "controlling-watershed",
   "metadata": {},
   "outputs": [],
   "source": [
    "xgb.plot_tree(booster)"
   ]
  },
  {
   "cell_type": "code",
   "execution_count": null,
   "id": "temporal-september",
   "metadata": {},
   "outputs": [],
   "source": []
  }
 ],
 "metadata": {
  "kernelspec": {
   "display_name": "Python 3",
   "language": "python",
   "name": "python3"
  },
  "language_info": {
   "codemirror_mode": {
    "name": "ipython",
    "version": 3
   },
   "file_extension": ".py",
   "mimetype": "text/x-python",
   "name": "python",
   "nbconvert_exporter": "python",
   "pygments_lexer": "ipython3",
   "version": "3.9.2"
  }
 },
 "nbformat": 4,
 "nbformat_minor": 5
}
