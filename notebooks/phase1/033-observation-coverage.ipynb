{
 "cells": [
  {
   "cell_type": "code",
   "execution_count": null,
   "id": "fresh-joseph",
   "metadata": {},
   "outputs": [],
   "source": [
    "%load_ext autoreload\n",
    "%autoreload 2"
   ]
  },
  {
   "cell_type": "markdown",
   "id": "handy-weekend",
   "metadata": {},
   "source": [
    "# Observation coverage\n",
    "\n",
    "Compute the coverage of station observations -- how well a period is covered by the observations.\n",
    "The way we are going to do this is by counting the amount of days that are sufficiently covered. \n",
    "For instance, to evaluate a GDPS output, we need at least 8 observations in a day.\n",
    "Thus, we could count the number of days that have at least 8 observations and considered these are well covered.\n",
    "The percentage of well covered days will give us a good indication of which stations are usable and which aren't."
   ]
  },
  {
   "cell_type": "code",
   "execution_count": null,
   "id": "sized-protection",
   "metadata": {},
   "outputs": [],
   "source": [
    "import dask\n",
    "import dask.array as da\n",
    "import dask.dataframe as dd\n",
    "import dask.distributed\n",
    "import dask_jobqueue\n",
    "import datetime\n",
    "import numpy as np\n",
    "import os\n",
    "import pathlib\n",
    "import pandas as pd\n",
    "import pymongo\n",
    "import xarray as xr\n",
    "\n",
    "from tqdm.notebook import tqdm\n",
    "\n",
    "from smc01.interpolate.dataset_generator import process_one_iem_obs\n",
    "from smc01.interpolate.obs import MongoIEMDatabase"
   ]
  },
  {
   "cell_type": "code",
   "execution_count": null,
   "id": "split-beverage",
   "metadata": {},
   "outputs": [],
   "source": [
    "DATA_DIR = pathlib.Path(os.getenv('DATA_DIR'))\n",
    "\n",
    "MONGO_HOST = 'localhost'\n",
    "MONGO_USER = None\n",
    "MONGO_PASS = None\n",
    "MONGO_DB = 'smc01_raw_obs'\n",
    "MONGO_COLLECTION = 'iem'"
   ]
  },
  {
   "cell_type": "code",
   "execution_count": null,
   "id": "quarterly-camera",
   "metadata": {},
   "outputs": [],
   "source": [
    "BEGIN = datetime.datetime(2018, 12, 31)\n",
    "END = datetime.datetime(2021, 1, 2)"
   ]
  },
  {
   "cell_type": "markdown",
   "id": "latest-sydney",
   "metadata": {},
   "source": [
    "## Boot dask cluster"
   ]
  },
  {
   "cell_type": "code",
   "execution_count": null,
   "id": "minor-duplicate",
   "metadata": {},
   "outputs": [],
   "source": [
    "cluster = dask_jobqueue.SLURMCluster(\n",
    "    env_extra=['source ~/.bash_profile','conda activate smc01'],\n",
    "    name='smc01-dask',\n",
    ")"
   ]
  },
  {
   "cell_type": "code",
   "execution_count": null,
   "id": "quality-stand",
   "metadata": {},
   "outputs": [],
   "source": [
    "cluster.scale(jobs=1)"
   ]
  },
  {
   "cell_type": "code",
   "execution_count": null,
   "id": "individual-macro",
   "metadata": {},
   "outputs": [],
   "source": [
    "client = dask.distributed.Client(cluster)"
   ]
  },
  {
   "cell_type": "code",
   "execution_count": null,
   "id": "interior-fortune",
   "metadata": {},
   "outputs": [],
   "source": [
    "client"
   ]
  },
  {
   "cell_type": "markdown",
   "id": "behavioral-passage",
   "metadata": {},
   "source": [
    "## Utility functions"
   ]
  },
  {
   "cell_type": "code",
   "execution_count": null,
   "id": "fleet-crystal",
   "metadata": {},
   "outputs": [],
   "source": [
    "def pipeline_of_station(station, begin, end, tolerance=0):\n",
    "    return [\n",
    "        {\n",
    "            '$addFields': {\n",
    "                'minute': {'$minute': '$valid'},\n",
    "                'hour': {'$hour': '$valid'}}\n",
    "        },\n",
    "        {\n",
    "            '$match': {'$or': [\n",
    "                {'minute': {'$lte': tolerance}},\n",
    "                {'minute': {'$gte': 60 - tolerance}}\n",
    "            ],\n",
    "           'station': station,\n",
    "           'valid': {'$gte': BEGIN - datetime.timedelta(minutes=tolerance),\n",
    "            '$lt': END + datetime.timedelta(minutes=tolerance)},\n",
    "           'tmpf': {'$exists': True}\n",
    "        }}]"
   ]
  },
  {
   "cell_type": "code",
   "execution_count": null,
   "id": "protective-velvet",
   "metadata": {},
   "outputs": [],
   "source": [
    "def fetch_station_dataframe(station, begin, end):\n",
    "    with pymongo.MongoClient(host=MONGO_HOST, username=MONGO_USER, password=MONGO_PASS) as client:\n",
    "        station_obs = list(client[MONGO_DB][MONGO_COLLECTION].aggregate(pipeline_of_station(station, begin, end, tolerance=10)))\n",
    "    \n",
    "    station_obs = [process_one_iem_obs(obs) for obs in station_obs]\n",
    "            \n",
    "    return pd.DataFrame(station_obs)"
   ]
  },
  {
   "cell_type": "code",
   "execution_count": null,
   "id": "amateur-fantasy",
   "metadata": {},
   "outputs": [],
   "source": [
    "def robust_fetch(station, begin, end):\n",
    "    station_df = fetch_station_dataframe(station, begin, end)\n",
    "    \n",
    "    present_columns = set(station_df.columns)\n",
    "    desired_columns = ['station', 'obs_valid', 'obs_2t']\n",
    "                \n",
    "    if set(desired_columns).issubset(present_columns):\n",
    "        return station_df[desired_columns]\n",
    "    else:\n",
    "        return pd.DataFrame(columns=desired_columns)"
   ]
  },
  {
   "cell_type": "code",
   "execution_count": null,
   "id": "patient-doctrine",
   "metadata": {},
   "outputs": [],
   "source": [
    "def one_station_coverage(station, begin, end):\n",
    "    station_df = robust_fetch(station, begin, end)\n",
    "    \n",
    "    if len(station_df) == 0:\n",
    "        return station, 0.0\n",
    "    \n",
    "    counts = station_df.groupby(station_df.obs_valid.dt.date).agg('count')\n",
    "    coverage = counts[counts['obs_2t'] > 8].count() / (END - BEGIN).days\n",
    "    \n",
    "    return station, coverage['obs_2t']"
   ]
  },
  {
   "cell_type": "markdown",
   "id": "legislative-reply",
   "metadata": {},
   "source": [
    "## Compute coverage"
   ]
  },
  {
   "cell_type": "markdown",
   "id": "every-honolulu",
   "metadata": {},
   "source": [
    "### Get full list of stations"
   ]
  },
  {
   "cell_type": "code",
   "execution_count": null,
   "id": "tropical-absence",
   "metadata": {},
   "outputs": [],
   "source": [
    "with pymongo.MongoClient(host=MONGO_HOST, username=MONGO_USER, password=MONGO_PASS) as client:\n",
    "    db = MongoIEMDatabase(client, db=MONGO_DB, collection=MONGO_COLLECTION)\n",
    "    station_info = db.station_info()"
   ]
  },
  {
   "cell_type": "markdown",
   "id": "foreign-escape",
   "metadata": {},
   "source": [
    "### Compute coverage for each"
   ]
  },
  {
   "cell_type": "code",
   "execution_count": null,
   "id": "satisfied-thermal",
   "metadata": {},
   "outputs": [],
   "source": [
    "coverage_delayed = dask.delayed(one_station_coverage)"
   ]
  },
  {
   "cell_type": "code",
   "execution_count": null,
   "id": "clinical-yukon",
   "metadata": {},
   "outputs": [],
   "source": [
    "delayeds = [coverage_delayed(s, BEGIN, END) for s in station_info['station']]"
   ]
  },
  {
   "cell_type": "code",
   "execution_count": null,
   "id": "hybrid-vietnam",
   "metadata": {},
   "outputs": [],
   "source": [
    "coverages = dask.compute(*delayeds)"
   ]
  },
  {
   "cell_type": "code",
   "execution_count": null,
   "id": "enhanced-bargain",
   "metadata": {},
   "outputs": [],
   "source": [
    "coverage_df = pd.DataFrame([{'station': x[0], 'coverage': x[1]} for x in coverages])"
   ]
  },
  {
   "cell_type": "code",
   "execution_count": null,
   "id": "dedicated-animation",
   "metadata": {},
   "outputs": [],
   "source": [
    "(coverage_df == 1.0).sum()"
   ]
  },
  {
   "cell_type": "code",
   "execution_count": null,
   "id": "chief-arnold",
   "metadata": {},
   "outputs": [],
   "source": [
    "coverage_df.to_csv(DATA_DIR / '2021-04-23-coverages.csv', index=False)"
   ]
  },
  {
   "cell_type": "code",
   "execution_count": null,
   "id": "demographic-simulation",
   "metadata": {},
   "outputs": [],
   "source": []
  },
  {
   "cell_type": "markdown",
   "id": "american-pride",
   "metadata": {},
   "source": [
    "## Make station info list with stations that have good coverage."
   ]
  },
  {
   "cell_type": "code",
   "execution_count": null,
   "id": "square-prison",
   "metadata": {},
   "outputs": [],
   "source": [
    "coverages = pd.read_csv(DATA_DIR / '2021-04-23-coverages.csv')"
   ]
  },
  {
   "cell_type": "code",
   "execution_count": null,
   "id": "informal-saying",
   "metadata": {},
   "outputs": [],
   "source": [
    "coverages"
   ]
  },
  {
   "cell_type": "code",
   "execution_count": null,
   "id": "sunset-oliver",
   "metadata": {},
   "outputs": [],
   "source": [
    "selection = coverages[coverages['coverage'] > 0.995]"
   ]
  },
  {
   "cell_type": "code",
   "execution_count": null,
   "id": "sophisticated-vintage",
   "metadata": {},
   "outputs": [],
   "source": [
    "selection"
   ]
  },
  {
   "cell_type": "code",
   "execution_count": null,
   "id": "funky-beginning",
   "metadata": {},
   "outputs": [],
   "source": [
    "documents = []\n",
    "\n",
    "with pymongo.MongoClient(host=MONGO_HOST, username=MONGO_USER, password=MONGO_PASS) as client:\n",
    "    db = MongoIEMDatabase(client, db=MONGO_DB, collection=MONGO_COLLECTION)\n",
    "\n",
    "    documents = db.station_info(selection['station'])"
   ]
  },
  {
   "cell_type": "code",
   "execution_count": null,
   "id": "prescribed-punishment",
   "metadata": {},
   "outputs": [],
   "source": [
    "documents"
   ]
  },
  {
   "cell_type": "code",
   "execution_count": null,
   "id": "confident-trace",
   "metadata": {},
   "outputs": [],
   "source": [
    "documents.to_csv(DATA_DIR / '2021-05-11-selected-stations.csv', index=None)"
   ]
  },
  {
   "cell_type": "code",
   "execution_count": null,
   "id": "latter-commercial",
   "metadata": {},
   "outputs": [],
   "source": [
    "!cat ${DATA_DIR}/2021-05-11-selected-stations.csv | head"
   ]
  },
  {
   "cell_type": "code",
   "execution_count": null,
   "id": "binary-ticket",
   "metadata": {},
   "outputs": [],
   "source": [
    "begin = datetime.datetime(2020, 1, 26)\n",
    "end = datetime.datetime(2020, 1, 28)\n",
    "\n",
    "with pymongo.MongoClient(host=MONGO_HOST, username=MONGO_USER, password=MONGO_PASS) as client:\n",
    "    db = MongoIEMDatabase(client, db=MONGO_DB, collection=MONGO_COLLECTION)\n",
    "\n",
    "    documents = db.station_observations('CYUL', begin, end, tolerance=20)"
   ]
  },
  {
   "cell_type": "code",
   "execution_count": null,
   "id": "technical-sense",
   "metadata": {},
   "outputs": [],
   "source": [
    "documents"
   ]
  },
  {
   "cell_type": "code",
   "execution_count": null,
   "id": "distant-heater",
   "metadata": {},
   "outputs": [],
   "source": []
  }
 ],
 "metadata": {
  "kernelspec": {
   "display_name": "Python 3",
   "language": "python",
   "name": "python3"
  },
  "language_info": {
   "codemirror_mode": {
    "name": "ipython",
    "version": 3
   },
   "file_extension": ".py",
   "mimetype": "text/x-python",
   "name": "python",
   "nbconvert_exporter": "python",
   "pygments_lexer": "ipython3",
   "version": "3.9.2"
  }
 },
 "nbformat": 4,
 "nbformat_minor": 5
}
