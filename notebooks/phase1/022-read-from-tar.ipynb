{
 "cells": [
  {
   "cell_type": "code",
   "execution_count": null,
   "id": "behavioral-forestry",
   "metadata": {},
   "outputs": [],
   "source": [
    "import eccodes"
   ]
  },
  {
   "cell_type": "code",
   "execution_count": null,
   "id": "proper-coupon",
   "metadata": {},
   "outputs": [],
   "source": [
    "import os\n",
    "import pathlib\n",
    "import pygrib\n",
    "import tarfile"
   ]
  },
  {
   "cell_type": "code",
   "execution_count": null,
   "id": "anticipated-absorption",
   "metadata": {},
   "outputs": [],
   "source": [
    "DATA_DIR = pathlib.Path(os.getenv('DATA_DIR'))\n",
    "GRIB_DIR = DATA_DIR / '2021-02-02-one-week-sample/'\n",
    "RUN = '2020072912'"
   ]
  },
  {
   "cell_type": "code",
   "execution_count": null,
   "id": "appropriate-smart",
   "metadata": {},
   "outputs": [],
   "source": [
    "grib_path = pathlib.Path(GRIB_DIR)\n",
    "file_list = list(grib_path.glob(f'*{RUN}*.grib2'))"
   ]
  },
  {
   "cell_type": "code",
   "execution_count": null,
   "id": "crucial-light",
   "metadata": {},
   "outputs": [],
   "source": [
    "def grib_iterator(f):\n",
    "    cursor = 0\n",
    "    while True:\n",
    "        gid = eccodes.codes_grib_new_from_file(f)\n",
    "        \n",
    "        print(eccodes.codes_get(gid, 'shortName'))\n",
    "        \n",
    "        if gid:\n",
    "            cursor += eccodes.codes_get(gid, 'totalLength')\n",
    "            yield gid\n",
    "        else:\n",
    "            break"
   ]
  },
  {
   "cell_type": "code",
   "execution_count": null,
   "id": "moderate-adams",
   "metadata": {},
   "outputs": [],
   "source": [
    "def grib_iterator(f):\n",
    "    cursor = 0\n",
    "    while True:\n",
    "        gid = eccodes.codes_new_from_message(f[cursor:])\n",
    "        \n",
    "        print(eccodes.codes_get(gid, 'shortName'))\n",
    "        \n",
    "        if gid:\n",
    "            cursor += eccodes.codes_get(gid, 'totalLength')\n",
    "            yield gid\n",
    "        else:\n",
    "            break"
   ]
  },
  {
   "cell_type": "code",
   "execution_count": null,
   "id": "shaped-coating",
   "metadata": {},
   "outputs": [],
   "source": [
    "def read_2t_from_stream(stream):\n",
    "    it = grib_iterator(stream)\n",
    "\n",
    "    for gid in it:\n",
    "        shortName = eccodes.codes_get(gid, 'shortName')\n",
    "\n",
    "        if shortName == '2t':\n",
    "            values = eccodes.codes_get_values(gid)\n",
    "            print(values)\n",
    "        eccodes.codes_release(gid)"
   ]
  },
  {
   "cell_type": "code",
   "execution_count": null,
   "id": "based-court",
   "metadata": {},
   "outputs": [],
   "source": [
    "with open(file_list[0], 'rb') as f:\n",
    "    read_2t_from_stream(f)"
   ]
  },
  {
   "cell_type": "code",
   "execution_count": null,
   "id": "portuguese-andorra",
   "metadata": {},
   "outputs": [],
   "source": [
    "tarball = tarfile.open(DATA_DIR / 'incoming/2020072912_latlon.24x.24.tar')"
   ]
  },
  {
   "cell_type": "code",
   "execution_count": null,
   "id": "chubby-oakland",
   "metadata": {},
   "outputs": [],
   "source": [
    "tarfile = next(iter(tarball))\n",
    "print(tarfile)"
   ]
  },
  {
   "cell_type": "code",
   "execution_count": null,
   "id": "approximate-craps",
   "metadata": {},
   "outputs": [],
   "source": [
    "tarfile_handle = tarball.extractfile(tarfile)"
   ]
  },
  {
   "cell_type": "code",
   "execution_count": null,
   "id": "personalized-words",
   "metadata": {},
   "outputs": [],
   "source": [
    "b = tarfile_handle.read()"
   ]
  },
  {
   "cell_type": "code",
   "execution_count": null,
   "id": "dying-judge",
   "metadata": {},
   "outputs": [],
   "source": [
    "type(b)"
   ]
  },
  {
   "cell_type": "code",
   "execution_count": null,
   "id": "protecting-hospital",
   "metadata": {},
   "outputs": [],
   "source": [
    "read_2t_from_stream(b)"
   ]
  },
  {
   "cell_type": "code",
   "execution_count": null,
   "id": "alone-tamil",
   "metadata": {},
   "outputs": [],
   "source": [
    "tarball.close()"
   ]
  },
  {
   "cell_type": "code",
   "execution_count": null,
   "id": "formal-straight",
   "metadata": {},
   "outputs": [],
   "source": []
  }
 ],
 "metadata": {
  "kernelspec": {
   "display_name": "Python 3",
   "language": "python",
   "name": "python3"
  },
  "language_info": {
   "codemirror_mode": {
    "name": "ipython",
    "version": 3
   },
   "file_extension": ".py",
   "mimetype": "text/x-python",
   "name": "python",
   "nbconvert_exporter": "python",
   "pygments_lexer": "ipython3",
   "version": "3.9.2"
  }
 },
 "nbformat": 4,
 "nbformat_minor": 5
}
