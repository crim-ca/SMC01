{
 "cells": [
  {
   "cell_type": "code",
   "execution_count": null,
   "id": "included-recruitment",
   "metadata": {},
   "outputs": [],
   "source": [
    "%load_ext autoreload\n",
    "%autoreload 2"
   ]
  },
  {
   "cell_type": "markdown",
   "id": "designing-thread",
   "metadata": {},
   "source": [
    "# Observation delta\n",
    "\n",
    "The purpose of this notebook is to compute the delta, in minutes, between a model output and the closest observation for a station.\n",
    "This data is useful to decide when it is reasonable to interpolate between two observations, and when there are large gaps in the observations that make the data invalid.\n",
    "\n",
    "Using this data, in the second part of the notebook we make a selection of stations that we will keep for our post processing dataset, because they don't show huge gaps."
   ]
  },
  {
   "cell_type": "code",
   "execution_count": null,
   "id": "accredited-terrorist",
   "metadata": {},
   "outputs": [],
   "source": [
    "import cartopy.crs as ccrs\n",
    "import cartopy.feature as cfeature \n",
    "import matplotlib.pyplot as plt\n",
    "import os\n",
    "import pathlib\n",
    "import numpy as np\n",
    "import pandas as pd\n",
    "import pymongo\n",
    "import seaborn as sns\n",
    "\n",
    "from smc01.interpolate.obs import MongoIEMDatabase"
   ]
  },
  {
   "cell_type": "code",
   "execution_count": null,
   "outputs": [],
   "source": [
    "DATA_DIR = pathlib.Path(os.getenv('DATA_DIR'))\n",
    "\n",
    "MONGO_HOST = 'localhost'\n",
    "MONGO_PORT = 27017\n",
    "MONGO_USER = None\n",
    "MONGO_PASS = None\n",
    "MONGO_DB = 'smc01_raw_obs'\n",
    "MONGO_COLLECTION = 'iem'\n",
    "ADMIN_DB = \"admin\""
   ],
   "metadata": {
    "collapsed": false
   }
  },
  {
   "cell_type": "code",
   "execution_count": null,
   "id": "interior-paintball",
   "metadata": {},
   "outputs": [],
   "source": [
    "def compute_obs_deltas(model_times, observations):\n",
    "    model_times_np = model_times.to_numpy().reshape(1, -1)\n",
    "    obs_times = observations.valid.data.reshape(-1, 1)\n",
    "    \n",
    "    deltas = np.abs(obs_times - model_times_np)\n",
    "    best_delta = np.min(deltas, axis=0)\n",
    "    \n",
    "    return best_delta.astype('timedelta64[m]')"
   ]
  },
  {
   "cell_type": "code",
   "execution_count": null,
   "id": "artistic-spending",
   "metadata": {},
   "outputs": [],
   "source": [
    "def delta_statistics_of_station(station, model_times):\n",
    "    print(station)\n",
    "    begin = model_times.min() - np.timedelta64(1, 'D')\n",
    "    end = model_times.max() + np.timedelta64(1, 'D')\n",
    "    \n",
    "    obs = station_data(station, begin, end)\n",
    "    \n",
    "    if obs is None:\n",
    "        return None\n",
    "    \n",
    "    deltas = compute_obs_deltas(model_times, obs)\n",
    "    \n",
    "    return {\n",
    "        'station': station,\n",
    "        '5m': (deltas > np.timedelta64(5, 'm')).sum(), \n",
    "        '10m': (deltas > np.timedelta64(10, 'm')).sum(), \n",
    "        '15m': (deltas > np.timedelta64(15, 'm')).sum(), \n",
    "        '20m': (deltas > np.timedelta64(20, 'm')).sum(), \n",
    "        '60m': (deltas > np.timedelta64(60, 'm')).sum(),\n",
    "        '120m': (deltas > np.timedelta64(120, 'm')).sum(),\n",
    "        '6h': (deltas > np.timedelta64(6, 'h')).sum(),\n",
    "        '12h': (deltas > np.timedelta64(12, 'h')).sum(),\n",
    "        '24h': (deltas > np.timedelta64(24, 'h')).sum()\n",
    "    }"
   ]
  },
  {
   "cell_type": "markdown",
   "id": "heard-sentence",
   "metadata": {},
   "source": [
    "# Make selection"
   ]
  },
  {
   "cell_type": "code",
   "execution_count": null,
   "id": "classical-simple",
   "metadata": {},
   "outputs": [],
   "source": [
    "df = pd.read_csv(DATA_DIR / '2021-05-11-delta-statistics.csv')"
   ]
  },
  {
   "cell_type": "code",
   "execution_count": null,
   "id": "blond-calendar",
   "metadata": {},
   "outputs": [],
   "source": [
    "df"
   ]
  },
  {
   "cell_type": "code",
   "execution_count": null,
   "id": "determined-efficiency",
   "metadata": {},
   "outputs": [],
   "source": [
    "filtered = df[df['24h'] == 0]  # We can't have gaps of more than 24hrs."
   ]
  },
  {
   "cell_type": "code",
   "execution_count": null,
   "id": "tutorial-blast",
   "metadata": {},
   "outputs": [],
   "source": [
    "filtered"
   ]
  },
  {
   "cell_type": "code",
   "execution_count": null,
   "id": "proprietary-mauritius",
   "metadata": {},
   "outputs": [],
   "source": [
    "filtered = filtered[filtered['60m'] < 48]  # We allow a 1hrs gap about twice a month."
   ]
  },
  {
   "cell_type": "code",
   "execution_count": null,
   "id": "interracial-intersection",
   "metadata": {},
   "outputs": [],
   "source": [
    "filtered"
   ]
  },
  {
   "cell_type": "code",
   "execution_count": null,
   "id": "involved-bruce",
   "metadata": {},
   "outputs": [],
   "source": [
    "filtered = filtered[filtered['12h'] < 2]  # We allow a 12hrs gap about once a year."
   ]
  },
  {
   "cell_type": "code",
   "execution_count": null,
   "id": "precious-honolulu",
   "metadata": {},
   "outputs": [],
   "source": [
    "filtered"
   ]
  },
  {
   "cell_type": "code",
   "execution_count": null,
   "id": "built-placement",
   "metadata": {},
   "outputs": [],
   "source": [
    "filtered[filtered['station'] == 'CYUL']"
   ]
  },
  {
   "cell_type": "code",
   "execution_count": null,
   "id": "fancy-mills",
   "metadata": {},
   "outputs": [],
   "source": [
    "filtered['20m'].value_counts()"
   ]
  },
  {
   "cell_type": "code",
   "execution_count": null,
   "id": "looking-encyclopedia",
   "metadata": {},
   "outputs": [],
   "source": [
    "filtered"
   ]
  },
  {
   "cell_type": "code",
   "execution_count": null,
   "id": "comparative-stupid",
   "metadata": {},
   "outputs": [],
   "source": [
    "filtered.to_csv(DATA_DIR / '2021-05-11-selected-with-statistics.csv', index=False)"
   ]
  },
  {
   "cell_type": "markdown",
   "id": "gentle-blank",
   "metadata": {},
   "source": [
    "### Visualize selection"
   ]
  },
  {
   "cell_type": "code",
   "execution_count": null,
   "id": "incorrect-asbestos",
   "metadata": {},
   "outputs": [],
   "source": [
    "with pymongo.MongoClient(host=MONGO_HOST, port=MONGO_PORT, username=MONGO_USER, password=MONGO_PASS, authSource=ADMIN_DB) as client:\n",
    "    db = MongoIEMDatabase(client, db=MONGO_DB, collection=MONGO_COLLECTION)\n",
    "    station_info = db.station_info(stations=filtered['station'])"
   ]
  },
  {
   "cell_type": "code",
   "execution_count": null,
   "id": "successful-major",
   "metadata": {},
   "outputs": [],
   "source": [
    "station_info.columns"
   ]
  },
  {
   "cell_type": "code",
   "execution_count": null,
   "id": "favorite-distinction",
   "metadata": {},
   "outputs": [],
   "source": [
    "proj = ccrs.NearsidePerspective(central_longitude=-73.0, central_latitude=48)\n"
   ]
  },
  {
   "cell_type": "code",
   "execution_count": null,
   "id": "ordinary-mills",
   "metadata": {},
   "outputs": [],
   "source": [
    "ax = plt.axes(projection=proj)\n",
    "plt.gcf().set_size_inches(12,9)\n",
    "\n",
    "ax.add_feature(cfeature.LAND) \n",
    "ax.scatter(x=station_info['lon'], y=station_info['lat'], transform=ccrs.PlateCarree())\n",
    "ax.set_title('Location of selected stations')\n",
    "plt.gcf().savefig('smc01_stations.png', dpi=200)"
   ]
  },
  {
   "cell_type": "code",
   "execution_count": null,
   "id": "visible-buying",
   "metadata": {},
   "outputs": [],
   "source": []
  },
  {
   "cell_type": "code",
   "execution_count": null,
   "id": "charming-explorer",
   "metadata": {},
   "outputs": [],
   "source": [
    "plt.gfc().savefig??"
   ]
  },
  {
   "cell_type": "code",
   "execution_count": null,
   "id": "stone-mauritius",
   "metadata": {},
   "outputs": [],
   "source": [
    "plt.gfc().savefig"
   ]
  },
  {
   "cell_type": "code",
   "execution_count": null,
   "id": "secondary-short",
   "metadata": {},
   "outputs": [],
   "source": []
  }
 ],
 "metadata": {
  "kernelspec": {
   "display_name": "Python 3",
   "language": "python",
   "name": "python3"
  },
  "language_info": {
   "codemirror_mode": {
    "name": "ipython",
    "version": 3
   },
   "file_extension": ".py",
   "mimetype": "text/x-python",
   "name": "python",
   "nbconvert_exporter": "python",
   "pygments_lexer": "ipython3",
   "version": "3.9.2"
  }
 },
 "nbformat": 4,
 "nbformat_minor": 5
}
