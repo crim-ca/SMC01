{
 "cells": [
  {
   "cell_type": "markdown",
   "metadata": {},
   "source": [
    "# GDPS Assimilation\n",
    "\n",
    "Given a small set of GDPS files, assimilate them in a format we like.\n",
    "This assimilation will then be packaged in a crawler that assimilates all incoming GDPS files."
   ]
  },
  {
   "cell_type": "code",
   "execution_count": null,
   "metadata": {},
   "outputs": [],
   "source": [
    "import cfgrib\n",
    "import os\n",
    "import pathlib\n",
    "import xarray as xr"
   ]
  },
  {
   "cell_type": "code",
   "execution_count": null,
   "metadata": {},
   "outputs": [],
   "source": [
    "DATA_DIR = pathlib.Path(os.getenv('DATA_DIR'))\n",
    "GDPS_SAMPLE_PATH = DATA_DIR / '2021-01-28-incoming-sample'\n",
    "DATABASE_PATH = DATA_DIR / '2021-01-28-test-assimilation'"
   ]
  },
  {
   "cell_type": "code",
   "execution_count": null,
   "metadata": {},
   "outputs": [],
   "source": [
    "gdps_files = list(pathlib.Path(GDPS_SAMPLE_PATH).glob('*.grib2'))\n",
    "gdps_files = gdps_files[0:20]"
   ]
  },
  {
   "cell_type": "code",
   "execution_count": null,
   "metadata": {},
   "outputs": [],
   "source": [
    "gdps_sample = xr.open_dataset(gdps_files[1], engine='cfgrib', backend_kwargs={'filter_by_keys': {'typeOfLevel': 'surface', 'stepType': 'instant'}})"
   ]
  },
  {
   "cell_type": "code",
   "execution_count": null,
   "metadata": {},
   "outputs": [],
   "source": [
    "gdps_sample"
   ]
  },
  {
   "cell_type": "code",
   "execution_count": null,
   "metadata": {},
   "outputs": [],
   "source": [
    "gdps_sample = xr.open_mfdataset(gdps_files, engine='cfgrib', concat_dim='step', combine='nested', parallel=True, backend_kwargs={'filter_by_keys': {'shortName': 'gh'}})"
   ]
  },
  {
   "cell_type": "code",
   "execution_count": null,
   "metadata": {},
   "outputs": [],
   "source": [
    "gdps_sample.sel(isobaricInhPa=[1000, 925, 850, 700, 500])"
   ]
  },
  {
   "cell_type": "code",
   "execution_count": null,
   "metadata": {},
   "outputs": [],
   "source": [
    "gdps_sample.t.shape"
   ]
  },
  {
   "cell_type": "code",
   "execution_count": null,
   "metadata": {},
   "outputs": [],
   "source": [
    "gdps_sample.t2m.isel(step=0).plot()"
   ]
  },
  {
   "cell_type": "markdown",
   "metadata": {},
   "source": [
    "The variables I wish to grab (at least at first) are the ones used by UMOS \n",
    "\n",
    "```\n",
    "000       MOS 059253   1\n",
    "004        NT 020010   1\n",
    "008        PR 059174   1\n",
    "009        PC 059175   1\n",
    "012   TT12000 059047   1\n",
    "013    TT1000 059048   1\n",
    "014     TT925 059049   1\n",
    "015     TT850 059050   1\n",
    "016     TT700 059051   1\n",
    "017     TT500 059052   1\n",
    "018   TX12000 059059   1\n",
    "019    TX1000 059060   1\n",
    "022     TX700 059063   1\n",
    "024   TY12000 059065   1\n",
    "025    TY1000 059066   1\n",
    "032     ES925 059055   1\n",
    "033     ES850 059056   1\n",
    "048   UU12000 059035   1\n",
    "049    UU1000 059036   1\n",
    "054   VV12000 059041   1\n",
    "096    WW1000 059020   1\n",
    "097     WW925 059021   1\n",
    "099     WW700 059023   1\n",
    "104     GZ700 059018   1\n",
    "122   UV12000 059124   1\n",
    "123    UV1000 059125   1\n",
    "125     UV850 059127   1\n",
    "134   AT12000 059151   1\n",
    "135    AT1000 059152   1\n",
    "136     AT925 059153   1\n",
    "137     AT850 059154   1\n",
    "138     AT700 059155   1\n",
    "140   AD12000 059157   1\n",
    "146   HR12000 059163   1\n",
    "147    HR1000 059164   1\n",
    "148     HR925 059165   1\n",
    "149     HR850 059166   1\n",
    "150     HR700 059167   1\n",
    "152    UG1000 059130   1\n",
    "157    VG1000 059135   1\n",
    "158     VG925 059136   1\n",
    "169        EC 059008   1\n",
    "170        ED 059009   1\n",
    "176        KI 059005   1\n",
    "177    SUNFAC 059178   1\n",
    "179 PERS SPOT 012004   1\n",
    "```\n"
   ]
  },
  {
   "cell_type": "markdown",
   "metadata": {},
   "source": [
    "# The easy ones"
   ]
  },
  {
   "cell_type": "code",
   "execution_count": null,
   "metadata": {},
   "outputs": [],
   "source": [
    "datasets = []\n",
    "for short_name in ['gh', 'q', 't', 'u', 'v']:\n",
    "    print(short_name)\n",
    "    datasets.append(\n",
    "        xr.open_mfdataset(\n",
    "            gdps_files, engine='cfgrib', concat_dim='step', combine='nested', parallel=True, \n",
    "            backend_kwargs={'filter_by_keys': {\n",
    "                'shortName': short_name, \n",
    "                'typeOfLevel': 'isobaricInhPa'\n",
    "            }}))\n"
   ]
  },
  {
   "cell_type": "code",
   "execution_count": null,
   "metadata": {},
   "outputs": [],
   "source": [
    "datasets[0]"
   ]
  },
  {
   "cell_type": "code",
   "execution_count": null,
   "metadata": {},
   "outputs": [],
   "source": [
    "merged = xr.merge(datasets)"
   ]
  },
  {
   "cell_type": "code",
   "execution_count": null,
   "metadata": {},
   "outputs": [],
   "source": [
    "merged"
   ]
  },
  {
   "cell_type": "code",
   "execution_count": null,
   "metadata": {},
   "outputs": [],
   "source": [
    "merged.to_netcdf(GDPS_SAMPLE_PATH + '/_filtered_117.nc')"
   ]
  },
  {
   "cell_type": "code",
   "execution_count": null,
   "metadata": {},
   "outputs": [],
   "source": [
    "compression_options = {var: {'zlib': True, 'complevel': 9} for var in ['gh', 'q', 't', 'u', 'v']}"
   ]
  },
  {
   "cell_type": "code",
   "execution_count": null,
   "metadata": {},
   "outputs": [],
   "source": [
    "compression_options"
   ]
  },
  {
   "cell_type": "code",
   "execution_count": null,
   "metadata": {},
   "outputs": [],
   "source": [
    "merged.isel(step=1).to_netcdf(GDPS_SAMPLE_PATH + '/_filtered_117_for_real_comp_9.nc', encoding=compression_options)"
   ]
  },
  {
   "cell_type": "code",
   "execution_count": null,
   "metadata": {},
   "outputs": [],
   "source": []
  }
 ],
 "metadata": {
  "kernelspec": {
   "display_name": "Python 3",
   "language": "python",
   "name": "python3"
  },
  "language_info": {
   "codemirror_mode": {
    "name": "ipython",
    "version": 3
   },
   "file_extension": ".py",
   "mimetype": "text/x-python",
   "name": "python",
   "nbconvert_exporter": "python",
   "pygments_lexer": "ipython3",
   "version": "3.8.5"
  }
 },
 "nbformat": 4,
 "nbformat_minor": 4
}
