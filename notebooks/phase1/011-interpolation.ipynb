{
 "cells": [
  {
   "cell_type": "code",
   "execution_count": null,
   "metadata": {},
   "outputs": [],
   "source": [
    "import dask\n",
    "import dask.bag as db\n",
    "import numpy as np\n",
    "import pandas as pd\n",
    "import os\n",
    "import pathlib\n",
    "import xarray as xr\n",
    "import xml\n",
    "import seaborn as sns\n",
    "import pyinterp\n",
    "import pyinterp.backends.xarray\n",
    "import pynanoflann"
   ]
  },
  {
   "cell_type": "code",
   "execution_count": null,
   "outputs": [],
   "source": [
    "DATA_DIR = pathlib.Path(os.getenv('DATA_DIR'))\n",
    "SWOB_DIR = DATA_DIR / '2021-01-05-datamart-sample/swob/'\n",
    "RDPS_DIR = DATA_DIR / '2021-01-05-datamart-sample/rdps/'"
   ],
   "metadata": {
    "collapsed": false
   }
  },
  {
   "cell_type": "markdown",
   "metadata": {},
   "source": [
    "# Read OBS"
   ]
  },
  {
   "cell_type": "code",
   "execution_count": null,
   "metadata": {},
   "outputs": [],
   "source": [
    "def string_to_dict(obs_xml_string):\n",
    "    obs_data = xml.dom.minidom.parseString(obs_xml_string)\n",
    "    metadata = obs_data.getElementsByTagName('identification-elements')[0]\n",
    "\n",
    "    metadata_dict = {}\n",
    "\n",
    "    for element in metadata.childNodes:\n",
    "        variable = element.attributes['name'].value\n",
    "        value = element.attributes['value'].value\n",
    "        metadata_dict[variable] = value\n",
    "        \n",
    "    obs_dict = {}\n",
    "\n",
    "    elements = obs_data.getElementsByTagName('elements')[0]\n",
    "    for element in elements.childNodes:\n",
    "        variable = element.attributes['name'].value\n",
    "        value = element.attributes['value'].value\n",
    "        obs_dict[variable] = value\n",
    "        \n",
    "    return {**metadata_dict, **obs_dict}"
   ]
  },
  {
   "cell_type": "code",
   "execution_count": null,
   "metadata": {},
   "outputs": [],
   "source": [
    "swob_dir = pathlib.Path(SWOB_DIR)"
   ]
  },
  {
   "cell_type": "code",
   "execution_count": null,
   "metadata": {},
   "outputs": [],
   "source": [
    "obs_files = [\n",
    "    *list(swob_dir.glob('20201126/CYUL/*.xml')),\n",
    "    *list(swob_dir.glob('20201127/CYVR/*.xml')),\n",
    "    *list(swob_dir.glob('20201128/CYQB/*.xml')),\n",
    "]"
   ]
  },
  {
   "cell_type": "code",
   "execution_count": null,
   "metadata": {},
   "outputs": [],
   "source": [
    "bag = db.read_text(obs_files)\n",
    "obs_dicts = bag.map(string_to_dict)\n",
    "obs_df = obs_dicts.to_dataframe()"
   ]
  },
  {
   "cell_type": "code",
   "execution_count": null,
   "metadata": {},
   "outputs": [],
   "source": [
    "computed = obs_df.compute()"
   ]
  },
  {
   "cell_type": "code",
   "execution_count": null,
   "metadata": {},
   "outputs": [],
   "source": [
    "computed.head()"
   ]
  },
  {
   "cell_type": "code",
   "execution_count": null,
   "metadata": {},
   "outputs": [],
   "source": [
    "for col in ['lat', 'long', 'air_temp']:  \n",
    "    computed[col] = pd.to_numeric(computed[col])\n",
    "    \n",
    "computed['date_tm'] = pd.to_datetime(computed['date_tm'])"
   ]
  },
  {
   "cell_type": "code",
   "execution_count": null,
   "metadata": {},
   "outputs": [],
   "source": [
    "tt_obs = computed.sort_values('date_tm')\n",
    "tt_obs[['date_tm', 'lat', 'long', 'air_temp']]"
   ]
  },
  {
   "cell_type": "code",
   "execution_count": null,
   "metadata": {},
   "outputs": [],
   "source": [
    "sns.scatterplot(data=tt_obs, x='date_tm', y='air_temp', hue='stn_nam')"
   ]
  },
  {
   "cell_type": "markdown",
   "metadata": {},
   "source": [
    "# Interpolate with K nearest neighbors + linear on time domain"
   ]
  },
  {
   "cell_type": "code",
   "execution_count": null,
   "metadata": {},
   "outputs": [],
   "source": [
    "rdps_path = pathlib.Path(RDPS_DIR)\n",
    "temperature_files = [\n",
    "    *[rdps_path / '2020112600' / 'CMC_reg_TMP_TGL_2_ps10km_2020112600_P{:03}.grib2'.format(t) for t in range(12, 37)],\n",
    "]"
   ]
  },
  {
   "cell_type": "code",
   "execution_count": null,
   "metadata": {},
   "outputs": [],
   "source": [
    "tt = xr.open_mfdataset(temperature_files, engine='cfgrib', concat_dim='step', combine='nested')"
   ]
  },
  {
   "cell_type": "code",
   "execution_count": null,
   "metadata": {},
   "outputs": [],
   "source": [
    "tt"
   ]
  },
  {
   "cell_type": "code",
   "execution_count": null,
   "metadata": {},
   "outputs": [],
   "source": [
    "axis1 = pyinterp.Axis(tt.latitude.data)"
   ]
  },
  {
   "cell_type": "code",
   "execution_count": null,
   "metadata": {},
   "outputs": [],
   "source": [
    "interpolator = pyinterp.backends.xarray.Grid2D()"
   ]
  },
  {
   "cell_type": "code",
   "execution_count": null,
   "metadata": {},
   "outputs": [],
   "source": [
    "nn = pynanoflann.KDTree(n_neighbors=1, metric='L1', radius=2)"
   ]
  },
  {
   "cell_type": "code",
   "execution_count": null,
   "metadata": {},
   "outputs": [],
   "source": [
    "lat_lons = np.stack([tt.latitude, tt.longitude], axis=-1).reshape(-1, 2)"
   ]
  },
  {
   "cell_type": "code",
   "execution_count": null,
   "metadata": {},
   "outputs": [],
   "source": []
  },
  {
   "cell_type": "code",
   "execution_count": null,
   "metadata": {},
   "outputs": [],
   "source": [
    "lat_lons.shape"
   ]
  },
  {
   "cell_type": "code",
   "execution_count": null,
   "metadata": {},
   "outputs": [],
   "source": [
    "nn.fit(lat_lons)"
   ]
  },
  {
   "cell_type": "code",
   "execution_count": null,
   "metadata": {},
   "outputs": [],
   "source": [
    "distance, index = nn.kneighbors(np.array([[48., 290.]]))"
   ]
  },
  {
   "cell_type": "code",
   "execution_count": null,
   "metadata": {},
   "outputs": [],
   "source": [
    "coords = np.unravel_index(index.squeeze(), shape=tt.latitude.shape)"
   ]
  },
  {
   "cell_type": "code",
   "execution_count": null,
   "metadata": {},
   "outputs": [],
   "source": [
    "tt.latitude[coords].compute()"
   ]
  },
  {
   "cell_type": "code",
   "execution_count": null,
   "metadata": {},
   "outputs": [],
   "source": [
    "tt.longitude[coords].compute()"
   ]
  },
  {
   "cell_type": "code",
   "execution_count": null,
   "metadata": {},
   "outputs": [],
   "source": [
    "before = tt.t2m.isel(step=0, y=coords[0], x=coords[1]).compute()\n",
    "after = tt.t2m.isel(step=1, y=coords[0], x=coords[1]).compute()"
   ]
  },
  {
   "cell_type": "code",
   "execution_count": null,
   "metadata": {},
   "outputs": [],
   "source": [
    "before"
   ]
  },
  {
   "cell_type": "code",
   "execution_count": null,
   "metadata": {},
   "outputs": [],
   "source": [
    "after"
   ]
  },
  {
   "cell_type": "code",
   "execution_count": null,
   "metadata": {},
   "outputs": [],
   "source": []
  }
 ],
 "metadata": {
  "kernelspec": {
   "display_name": "SMC01",
   "language": "python",
   "name": "smc01"
  },
  "language_info": {
   "codemirror_mode": {
    "name": "ipython",
    "version": 3
   },
   "file_extension": ".py",
   "mimetype": "text/x-python",
   "name": "python",
   "nbconvert_exporter": "python",
   "pygments_lexer": "ipython3",
   "version": "3.8.5"
  }
 },
 "nbformat": 4,
 "nbformat_minor": 4
}
