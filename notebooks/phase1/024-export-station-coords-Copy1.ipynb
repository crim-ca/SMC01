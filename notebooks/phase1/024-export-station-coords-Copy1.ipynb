{
 "cells": [
  {
   "cell_type": "markdown",
   "id": "conceptual-import",
   "metadata": {},
   "source": [
    "# Export station coords\n",
    "\n",
    "Export station coordinates to a file to that it is readily available when we perform interpolation.\n",
    "This is better than rerunning the query to the mongodb every time, because it's kind of expensive to \n",
    "look at 2 years of data to find all the possible stations."
   ]
  },
  {
   "cell_type": "code",
   "execution_count": null,
   "id": "meaning-science",
   "metadata": {},
   "outputs": [],
   "source": [
    "%load_ext autoreload\n",
    "%autoreload 2"
   ]
  },
  {
   "cell_type": "code",
   "execution_count": null,
   "id": "supported-frost",
   "metadata": {},
   "outputs": [],
   "source": [
    "import datetime\n",
    "import pymongo\n",
    "import random"
   ]
  },
  {
   "cell_type": "code",
   "execution_count": null,
   "id": "complete-buying",
   "metadata": {},
   "outputs": [],
   "source": [
    "MONGO_URL = 'localhost'\n",
    "MONGO_PORT = 27017\n",
    "USERNAME = None\n",
    "PASSWORD = None\n",
    "ADMIN_DB = 'admin'\n",
    "COLLECTION = 'iem'\n",
    "DB = 'smc01_raw_obs'"
   ]
  },
  {
   "cell_type": "code",
   "execution_count": null,
   "id": "transsexual-prevention",
   "metadata": {},
   "outputs": [],
   "source": [
    "begin_date = datetime.datetime(2019, 1, 1, tzinfo=datetime.timezone.utc)\n",
    "end_date = datetime.datetime(2021, 1, 1, tzinfo=datetime.timezone.utc)"
   ]
  },
  {
   "cell_type": "code",
   "execution_count": null,
   "id": "logical-nursery",
   "metadata": {},
   "outputs": [],
   "source": [
    "n_days = end_date - begin_date"
   ]
  },
  {
   "cell_type": "code",
   "execution_count": null,
   "id": "technological-booth",
   "metadata": {},
   "outputs": [],
   "source": [
    "days = list(range(n_days.days))"
   ]
  },
  {
   "cell_type": "code",
   "execution_count": null,
   "id": "quality-painting",
   "metadata": {},
   "outputs": [],
   "source": [
    "random.shuffle(days)"
   ]
  },
  {
   "cell_type": "code",
   "execution_count": null,
   "id": "japanese-infection",
   "metadata": {},
   "outputs": [],
   "source": [
    "days_sample"
   ]
  },
  {
   "cell_type": "code",
   "execution_count": null,
   "id": "graphic-harvey",
   "metadata": {},
   "outputs": [],
   "source": [
    "mongo_client = pymongo.MongoClient(host=MONGO_URL, port=MONGO_PORT, username=USERNAME, password=PASSWORD, authSource=ADMIN_DB)\n",
    "db = mongo_client[DB]\n",
    "collection = db[COLLECTION]"
   ]
  },
  {
   "cell_type": "code",
   "execution_count": null,
   "id": "exempt-conversation",
   "metadata": {},
   "outputs": [],
   "source": [
    "for d in days[:1]:\n",
    "    query_filter = {\n",
    "    'valid': {\n",
    "        '$gte': begin_date + datetime.timedelta(days=d),\n",
    "        '$lt': begin_date + datetime.timedelta(days=d+1)\n",
    "    }}\n",
    "    \n",
    "    response = collection.distinct('station', filter=query_filter)"
   ]
  },
  {
   "cell_type": "code",
   "execution_count": null,
   "id": "italic-exclusion",
   "metadata": {},
   "outputs": [],
   "source": [
    "stations = set(response)"
   ]
  },
  {
   "cell_type": "code",
   "execution_count": null,
   "id": "sensitive-differential",
   "metadata": {},
   "outputs": [],
   "source": [
    "len(stations)"
   ]
  },
  {
   "cell_type": "code",
   "execution_count": null,
   "id": "binary-skirt",
   "metadata": {},
   "outputs": [],
   "source": [
    "query_filter = {\n",
    "    'valid': {\n",
    "        '$gte': begin_date,\n",
    "        '$lt': end_date\n",
    "}}"
   ]
  },
  {
   "cell_type": "code",
   "execution_count": null,
   "id": "copyrighted-attack",
   "metadata": {},
   "outputs": [],
   "source": [
    "response = collection.distinct('station', filter=query_filter)"
   ]
  },
  {
   "cell_type": "code",
   "execution_count": null,
   "id": "dated-shopping",
   "metadata": {},
   "outputs": [],
   "source": [
    "for station in stations:\n",
    "    one_obs = collection.find_one({'station': station})\n",
    "    station_infos.append({\n",
    "        'station': station,\n",
    "        'lat': one_obs['lat'],\n",
    "        'lon': one_obs['lon'],\n",
    "    })\n"
   ]
  }
 ],
 "metadata": {
  "kernelspec": {
   "display_name": "Python 3",
   "language": "python",
   "name": "python3"
  },
  "language_info": {
   "codemirror_mode": {
    "name": "ipython",
    "version": 3
   },
   "file_extension": ".py",
   "mimetype": "text/x-python",
   "name": "python",
   "nbconvert_exporter": "python",
   "pygments_lexer": "ipython3",
   "version": "3.9.2"
  }
 },
 "nbformat": 4,
 "nbformat_minor": 5
}
