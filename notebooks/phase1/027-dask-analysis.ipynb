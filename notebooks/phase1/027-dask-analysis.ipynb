{
 "cells": [
  {
   "cell_type": "code",
   "execution_count": null,
   "id": "overhead-label",
   "metadata": {},
   "outputs": [],
   "source": [
    "%load_ext autoreload\n",
    "%autoreload 2"
   ]
  },
  {
   "cell_type": "markdown",
   "id": "historical-charlotte",
   "metadata": {},
   "source": [
    "Perform analysis of the parquet exported data using a Dask cluster."
   ]
  },
  {
   "cell_type": "code",
   "execution_count": null,
   "id": "entertaining-canal",
   "metadata": {},
   "outputs": [],
   "source": [
    "import dask\n",
    "import dask.array as da\n",
    "import dask.dataframe as dd\n",
    "import dask.distributed\n",
    "import dask_jobqueue\n",
    "import numpy as np\n",
    "import os\n",
    "import pathlib\n",
    "import pandas as pd"
   ]
  },
  {
   "cell_type": "code",
   "execution_count": null,
   "outputs": [],
   "source": [
    "DATA_DIR = pathlib.Path(os.getenv('DATA_DIR'))"
   ],
   "metadata": {
    "collapsed": false
   }
  },
  {
   "cell_type": "markdown",
   "id": "bigger-preparation",
   "metadata": {},
   "source": [
    "# Boot cluster"
   ]
  },
  {
   "cell_type": "code",
   "execution_count": null,
   "id": "disciplinary-kuwait",
   "metadata": {},
   "outputs": [],
   "source": [
    "cluster = dask_jobqueue.SLURMCluster(\n",
    "    env_extra=['source ~/.bash_profile','conda activate smc01'],\n",
    "    name='smc01-dask',\n",
    ")"
   ]
  },
  {
   "cell_type": "code",
   "execution_count": null,
   "id": "personal-helen",
   "metadata": {},
   "outputs": [],
   "source": [
    "cluster.scale(jobs=2)"
   ]
  },
  {
   "cell_type": "code",
   "execution_count": null,
   "id": "american-shanghai",
   "metadata": {},
   "outputs": [],
   "source": [
    "client = dask.distributed.Client(cluster)"
   ]
  },
  {
   "cell_type": "code",
   "execution_count": null,
   "id": "civic-graphics",
   "metadata": {},
   "outputs": [],
   "source": [
    "client"
   ]
  },
  {
   "cell_type": "markdown",
   "id": "together-walter",
   "metadata": {},
   "source": [
    "# Read dataset"
   ]
  },
  {
   "cell_type": "code",
   "execution_count": null,
   "id": "unexpected-ladder",
   "metadata": {},
   "outputs": [],
   "source": [
    "INPUT_DIR = DATA_DIR / '2021-03-17-ppdataset/'"
   ]
  },
  {
   "cell_type": "code",
   "execution_count": null,
   "id": "excellent-alarm",
   "metadata": {},
   "outputs": [],
   "source": [
    "df = dd.read_parquet(DATA_DIR / '2021-03-17-ppdataset/*.parquet')"
   ]
  },
  {
   "cell_type": "code",
   "execution_count": null,
   "id": "sonic-spice",
   "metadata": {},
   "outputs": [],
   "source": [
    "df"
   ]
  },
  {
   "cell_type": "code",
   "execution_count": null,
   "id": "economic-income",
   "metadata": {},
   "outputs": [],
   "source": [
    "df = df.persist()"
   ]
  },
  {
   "cell_type": "code",
   "execution_count": null,
   "id": "alert-specific",
   "metadata": {},
   "outputs": [],
   "source": [
    "(df['date'] == '2019-06-01').sum().compute()"
   ]
  },
  {
   "cell_type": "code",
   "execution_count": null,
   "id": "czech-wings",
   "metadata": {},
   "outputs": [],
   "source": [
    "subset = df[df['date'] == '2019-06-01'].compute()"
   ]
  },
  {
   "cell_type": "code",
   "execution_count": null,
   "id": "paperback-postcard",
   "metadata": {},
   "outputs": [],
   "source": [
    "df['error_2t'] = df['gdps_2t'] - df['obs_2t']\n",
    "df['squared_error_2t'] = (df['gdps_2t'] - df['obs_2t']) ** 2\n",
    "df['step_hour'] = df['step'] / 3600\n",
    "df['step_td'] = dd.to_timedelta(df['step'], unit='S')\n",
    "df['valid'] = df['date'] + df['step_td']"
   ]
  },
  {
   "cell_type": "code",
   "execution_count": null,
   "id": "peaceful-technology",
   "metadata": {},
   "outputs": [],
   "source": [
    "error_by_step = df.groupby('step_hour').mean()['squared_error_2t'].compute()"
   ]
  },
  {
   "cell_type": "code",
   "execution_count": null,
   "id": "prescription-gospel",
   "metadata": {},
   "outputs": [],
   "source": [
    "error_by_step.plot()"
   ]
  },
  {
   "cell_type": "code",
   "execution_count": null,
   "id": "advance-shanghai",
   "metadata": {},
   "outputs": [],
   "source": [
    "error_by_run = df.groupby('date').mean()['squared_error_2t'].compute()"
   ]
  },
  {
   "cell_type": "code",
   "execution_count": null,
   "id": "blessed-blackberry",
   "metadata": {},
   "outputs": [],
   "source": [
    "np.sqrt(error_by_run).plot()"
   ]
  },
  {
   "cell_type": "code",
   "execution_count": null,
   "id": "welsh-organic",
   "metadata": {},
   "outputs": [],
   "source": [
    "obs_counts = df['station'].value_counts().compute()"
   ]
  },
  {
   "cell_type": "code",
   "execution_count": null,
   "id": "brazilian-learning",
   "metadata": {},
   "outputs": [],
   "source": [
    "obs_counts"
   ]
  },
  {
   "cell_type": "code",
   "execution_count": null,
   "id": "comic-victor",
   "metadata": {},
   "outputs": [],
   "source": [
    "obs_counts > 30"
   ]
  },
  {
   "cell_type": "code",
   "execution_count": null,
   "id": "swedish-minimum",
   "metadata": {},
   "outputs": [],
   "source": [
    "type(obs_counts)"
   ]
  },
  {
   "cell_type": "code",
   "execution_count": null,
   "id": "adapted-reminder",
   "metadata": {},
   "outputs": [],
   "source": [
    "stations_with_obs = obs_counts.index[obs_counts > 30].tolist()"
   ]
  },
  {
   "cell_type": "code",
   "execution_count": null,
   "id": "global-fabric",
   "metadata": {},
   "outputs": [],
   "source": [
    "subset = df[df['station'].isin(stations_with_obs)]"
   ]
  },
  {
   "cell_type": "code",
   "execution_count": null,
   "id": "accepting-boston",
   "metadata": {},
   "outputs": [],
   "source": [
    "subset"
   ]
  },
  {
   "cell_type": "code",
   "execution_count": null,
   "id": "administrative-emission",
   "metadata": {},
   "outputs": [],
   "source": [
    "subset['station'].value_counts().compute().min()"
   ]
  },
  {
   "cell_type": "code",
   "execution_count": null,
   "id": "functional-panama",
   "metadata": {},
   "outputs": [],
   "source": [
    "subset = subset.categorize(columns=['station'])"
   ]
  },
  {
   "cell_type": "code",
   "execution_count": null,
   "id": "aerial-latitude",
   "metadata": {},
   "outputs": [],
   "source": [
    "subset = subset.persist()"
   ]
  },
  {
   "cell_type": "code",
   "execution_count": null,
   "id": "familiar-plant",
   "metadata": {},
   "outputs": [],
   "source": [
    "station_ids = subset['station'].cat.codes.values"
   ]
  },
  {
   "cell_type": "code",
   "execution_count": null,
   "id": "later-residence",
   "metadata": {},
   "outputs": [],
   "source": [
    "station_ids"
   ]
  },
  {
   "cell_type": "code",
   "execution_count": null,
   "id": "junior-lancaster",
   "metadata": {},
   "outputs": [],
   "source": [
    "feature_columns = [c for c in subset.columns if c.startswith('gdps')]"
   ]
  },
  {
   "cell_type": "code",
   "execution_count": null,
   "id": "heated-bibliography",
   "metadata": {},
   "outputs": [],
   "source": [
    "feature_columns"
   ]
  },
  {
   "cell_type": "code",
   "execution_count": null,
   "id": "objective-baltimore",
   "metadata": {},
   "outputs": [],
   "source": [
    "features = subset[feature_columns]"
   ]
  },
  {
   "cell_type": "code",
   "execution_count": null,
   "id": "bottom-passing",
   "metadata": {},
   "outputs": [],
   "source": [
    "features.mean().compute()"
   ]
  },
  {
   "cell_type": "code",
   "execution_count": null,
   "id": "single-blake",
   "metadata": {},
   "outputs": [],
   "source": [
    "features.std().compute()"
   ]
  },
  {
   "cell_type": "code",
   "execution_count": null,
   "id": "studied-tower",
   "metadata": {},
   "outputs": [],
   "source": [
    "one_hot_station = dd.get_dummies(subset['station'])"
   ]
  },
  {
   "cell_type": "code",
   "execution_count": null,
   "id": "vanilla-working",
   "metadata": {},
   "outputs": [],
   "source": [
    "one_hot_station"
   ]
  },
  {
   "cell_type": "code",
   "execution_count": null,
   "id": "israeli-designer",
   "metadata": {},
   "outputs": [],
   "source": [
    "subset['valid']"
   ]
  },
  {
   "cell_type": "code",
   "execution_count": null,
   "id": "dress-chrome",
   "metadata": {},
   "outputs": [],
   "source": [
    "subset['yearly_component'] = da.sin((subset['valid'].dt.dayofyear / 366) * 2*np.pi )"
   ]
  },
  {
   "cell_type": "code",
   "execution_count": null,
   "id": "removable-fellowship",
   "metadata": {},
   "outputs": [],
   "source": [
    "subset['daily_component'] = da.sin((subset['valid'].dt.hour / 24) * 2*np.pi)"
   ]
  },
  {
   "cell_type": "code",
   "execution_count": null,
   "id": "coordinate-office",
   "metadata": {},
   "outputs": [],
   "source": [
    "subset['step_component'] = (subset['step'] / (237 * 60 * 60))"
   ]
  },
  {
   "cell_type": "code",
   "execution_count": null,
   "id": "contemporary-optics",
   "metadata": {},
   "outputs": [],
   "source": [
    "temporal_features = subset[['yearly_component', 'daily_component', 'step_component']]"
   ]
  },
  {
   "cell_type": "code",
   "execution_count": null,
   "id": "christian-revolution",
   "metadata": {},
   "outputs": [],
   "source": [
    "temporal_features.describe().compute()"
   ]
  },
  {
   "cell_type": "code",
   "execution_count": null,
   "id": "trained-construction",
   "metadata": {},
   "outputs": [],
   "source": [
    "temporal_features_array = temporal_features.to_dask_array()"
   ]
  },
  {
   "cell_type": "code",
   "execution_count": null,
   "id": "supposed-module",
   "metadata": {},
   "outputs": [],
   "source": [
    "temporal_features_array"
   ]
  },
  {
   "cell_type": "code",
   "execution_count": null,
   "id": "efficient-limit",
   "metadata": {},
   "outputs": [],
   "source": [
    "station_ids"
   ]
  },
  {
   "cell_type": "code",
   "execution_count": null,
   "id": "secondary-irrigation",
   "metadata": {},
   "outputs": [],
   "source": [
    "features_array = da.concatenate([temporal_features_array, features.to_dask_array()], axis=1, allow_unknown_chunksizes=True)"
   ]
  },
  {
   "cell_type": "code",
   "execution_count": null,
   "id": "adolescent-birth",
   "metadata": {},
   "outputs": [],
   "source": [
    "features_array.compute_chunk_sizes()"
   ]
  },
  {
   "cell_type": "code",
   "execution_count": null,
   "id": "ancient-settle",
   "metadata": {},
   "outputs": [],
   "source": [
    "train_mask = (subset['date'].dt.year == 2019).values"
   ]
  },
  {
   "cell_type": "code",
   "execution_count": null,
   "id": "peaceful-yield",
   "metadata": {},
   "outputs": [],
   "source": [
    "val_mask = (subset['date'].dt.year == 2020).values"
   ]
  },
  {
   "cell_type": "code",
   "execution_count": null,
   "id": "international-championship",
   "metadata": {},
   "outputs": [],
   "source": [
    "train_mask.compute_chunk_sizes()"
   ]
  },
  {
   "cell_type": "code",
   "execution_count": null,
   "id": "traditional-point",
   "metadata": {},
   "outputs": [],
   "source": [
    "val_mask.compute_chunk_sizes()"
   ]
  },
  {
   "cell_type": "code",
   "execution_count": null,
   "id": "manufactured-seeker",
   "metadata": {},
   "outputs": [],
   "source": [
    "train_features = features_array[train_mask]"
   ]
  },
  {
   "cell_type": "code",
   "execution_count": null,
   "id": "following-documentation",
   "metadata": {},
   "outputs": [],
   "source": [
    "val_features = features_array[val_mask]"
   ]
  },
  {
   "cell_type": "code",
   "execution_count": null,
   "id": "entire-sender",
   "metadata": {},
   "outputs": [],
   "source": [
    "train_features.compute_chunk_sizes()\n",
    "train_features = train_features.rechunk()"
   ]
  },
  {
   "cell_type": "code",
   "execution_count": null,
   "id": "christian-tower",
   "metadata": {},
   "outputs": [],
   "source": [
    "train_features"
   ]
  },
  {
   "cell_type": "code",
   "execution_count": null,
   "id": "complicated-climate",
   "metadata": {},
   "outputs": [],
   "source": [
    "train_features_comp = train_features.compute()"
   ]
  },
  {
   "cell_type": "code",
   "execution_count": null,
   "id": "angry-organization",
   "metadata": {},
   "outputs": [],
   "source": [
    "train_features_comp.to_hdf5(DATA_DIR / '2021-03-17-ppdataset/test.hdf', '/train/x')"
   ]
  },
  {
   "cell_type": "code",
   "execution_count": null,
   "id": "sharp-distance",
   "metadata": {},
   "outputs": [],
   "source": [
    "station_ids_comp = station_ids.compute()"
   ]
  },
  {
   "cell_type": "code",
   "execution_count": null,
   "id": "higher-chapel",
   "metadata": {},
   "outputs": [],
   "source": [
    "import h5py"
   ]
  },
  {
   "cell_type": "code",
   "execution_count": null,
   "id": "similar-lexington",
   "metadata": {},
   "outputs": [],
   "source": [
    "f = h5py.File(DATA_DIR / '2021-03-17-ppdataset/test.hdf', 'w')"
   ]
  },
  {
   "cell_type": "code",
   "execution_count": null,
   "id": "undefined-romantic",
   "metadata": {},
   "outputs": [],
   "source": [
    "f.create_dataset('/train/x/', shape=train_features_comp.shape, dtype=train_features_comp.dtype, data=train_features_comp, compression='lzf')"
   ]
  },
  {
   "cell_type": "code",
   "execution_count": null,
   "id": "unauthorized-religious",
   "metadata": {},
   "outputs": [],
   "source": [
    "def array_to_hdf(file, name, array):\n",
    "    file.create_dataset(name, shape=array.shape, dtype=array.dtype, data=array)"
   ]
  },
  {
   "cell_type": "code",
   "execution_count": null,
   "id": "spectacular-professor",
   "metadata": {},
   "outputs": [],
   "source": [
    "f.create_dataset('/train/stations', shape=train_features_comp.shape, dtype=train_features_comp.dtype, data=train_features_comp, compression='lzf')"
   ]
  },
  {
   "cell_type": "code",
   "execution_count": null,
   "id": "frank-beads",
   "metadata": {},
   "outputs": [],
   "source": [
    "array_to_hdf(f, '/train/stations', station_ids_comp)"
   ]
  },
  {
   "cell_type": "code",
   "execution_count": null,
   "id": "promising-pricing",
   "metadata": {},
   "outputs": [],
   "source": [
    "train_y = subset['error_2t'].to_dask_array()"
   ]
  },
  {
   "cell_type": "code",
   "execution_count": null,
   "id": "foreign-questionnaire",
   "metadata": {},
   "outputs": [],
   "source": [
    "train_y.compute_chunk_sizes()"
   ]
  },
  {
   "cell_type": "code",
   "execution_count": null,
   "id": "continuing-candy",
   "metadata": {},
   "outputs": [],
   "source": [
    "train_y_comput = train_y[train_mask].compute()"
   ]
  },
  {
   "cell_type": "code",
   "execution_count": null,
   "id": "coral-liberal",
   "metadata": {},
   "outputs": [],
   "source": [
    "array_to_hdf(f, '/train/y', train_y_comput)"
   ]
  },
  {
   "cell_type": "code",
   "execution_count": null,
   "id": "plastic-france",
   "metadata": {},
   "outputs": [],
   "source": []
  },
  {
   "cell_type": "code",
   "execution_count": null,
   "id": "colored-mother",
   "metadata": {},
   "outputs": [],
   "source": []
  },
  {
   "cell_type": "code",
   "execution_count": null,
   "id": "prepared-quebec",
   "metadata": {},
   "outputs": [],
   "source": [
    "val_x_compute = val_features.compute()"
   ]
  },
  {
   "cell_type": "code",
   "execution_count": null,
   "id": "reverse-asian",
   "metadata": {},
   "outputs": [],
   "source": [
    "val_mask.compute_chunk_size()"
   ]
  },
  {
   "cell_type": "code",
   "execution_count": null,
   "id": "northern-township",
   "metadata": {},
   "outputs": [],
   "source": [
    "station_ids.compute_chunk_sizes()"
   ]
  },
  {
   "cell_type": "code",
   "execution_count": null,
   "id": "knowing-mobile",
   "metadata": {},
   "outputs": [],
   "source": [
    "val_stations = station_ids[val_mask]"
   ]
  },
  {
   "cell_type": "code",
   "execution_count": null,
   "id": "african-spring",
   "metadata": {},
   "outputs": [],
   "source": [
    "array_to_hdf(f, '/val/x', )"
   ]
  },
  {
   "cell_type": "code",
   "execution_count": null,
   "id": "sharing-teddy",
   "metadata": {},
   "outputs": [],
   "source": [
    "f.close()"
   ]
  },
  {
   "cell_type": "code",
   "execution_count": null,
   "id": "attended-particular",
   "metadata": {},
   "outputs": [],
   "source": []
  }
 ],
 "metadata": {
  "kernelspec": {
   "display_name": "Python 3",
   "language": "python",
   "name": "python3"
  },
  "language_info": {
   "codemirror_mode": {
    "name": "ipython",
    "version": 3
   },
   "file_extension": ".py",
   "mimetype": "text/x-python",
   "name": "python",
   "nbconvert_exporter": "python",
   "pygments_lexer": "ipython3",
   "version": "3.9.2"
  }
 },
 "nbformat": 4,
 "nbformat_minor": 5
}
