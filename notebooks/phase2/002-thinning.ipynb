{
 "cells": [
  {
   "cell_type": "code",
   "execution_count": null,
   "metadata": {},
   "outputs": [],
   "source": [
    "%load_ext autoreload\n",
    "%autoreload 2"
   ]
  },
  {
   "cell_type": "markdown",
   "metadata": {},
   "source": [
    "# Thinning\n",
    "\n",
    "Decide which variable to keep and which ones to thin out in our dataset.\n",
    "The objective is to save a little bit of space where possible/appropriatae."
   ]
  },
  {
   "cell_type": "code",
   "execution_count": null,
   "metadata": {},
   "outputs": [],
   "source": [
    "import os\n",
    "import pathlib\n",
    "import pygrib\n",
    "import xarray as xr"
   ]
  },
  {
   "cell_type": "code",
   "execution_count": null,
   "metadata": {},
   "outputs": [],
   "source": [
    "DATA_DIR = pathlib.Path(os.getenv('DATA_DIR'))\n",
    "GDPS_DIR = DATA_DIR /  'data/gdps'\n"
   ]
  },
  {
   "cell_type": "code",
   "execution_count": null,
   "metadata": {},
   "outputs": [],
   "source": [
    "gdps_passes = list(pathlib.Path(GDPS_DIR).iterdir())\n",
    "sample1 = list(gdps_passes[0].iterdir())[2]\n",
    "sample2 = list(gdps_passes[-2].iterdir())[14]"
   ]
  },
  {
   "cell_type": "code",
   "execution_count": null,
   "metadata": {},
   "outputs": [],
   "source": [
    "sample1"
   ]
  },
  {
   "cell_type": "code",
   "execution_count": null,
   "metadata": {},
   "outputs": [],
   "source": [
    "grb = pygrib.open(str(sample1))"
   ]
  },
  {
   "cell_type": "code",
   "execution_count": null,
   "metadata": {},
   "outputs": [],
   "source": [
    "m = next(iter(grb))"
   ]
  },
  {
   "cell_type": "code",
   "execution_count": null,
   "metadata": {},
   "outputs": [],
   "source": [
    "sorted(m.keys())"
   ]
  },
  {
   "cell_type": "code",
   "execution_count": null,
   "metadata": {},
   "outputs": [],
   "source": [
    "m.paramId"
   ]
  },
  {
   "cell_type": "code",
   "execution_count": null,
   "metadata": {},
   "outputs": [],
   "source": [
    "grb.seek(340)\n",
    "m = next(grb)\n",
    "sorted(m.keys())"
   ]
  },
  {
   "cell_type": "code",
   "execution_count": null,
   "metadata": {
    "tags": []
   },
   "outputs": [],
   "source": [
    "grb.seek(0)\n",
    "for i, m in enumerate(grb):\n",
    "    print(m)"
   ]
  },
  {
   "cell_type": "code",
   "execution_count": null,
   "metadata": {
    "tags": []
   },
   "outputs": [],
   "source": [
    "grb.seek(0)\n",
    "for i, m in enumerate(grb):\n",
    "    if m.levelType == 'pl' and m.level not in [1000, 925, 850, 700, 500, 250]:\n",
    "        print(m)"
   ]
  },
  {
   "cell_type": "code",
   "execution_count": null,
   "metadata": {
    "tags": []
   },
   "outputs": [],
   "source": [
    "grb.seek(0)\n",
    "for i, m in enumerate(grb):\n",
    "    print(i, m.name, m.localTablesVersion, m.parameterCategory, m.parameterName, m.parameter, m.paramId, m.unitsECMF, 'level', m.level)"
   ]
  },
  {
   "cell_type": "markdown",
   "metadata": {},
   "source": [
    "## With ECCODES"
   ]
  },
  {
   "cell_type": "code",
   "execution_count": null,
   "metadata": {},
   "outputs": [],
   "source": [
    "import eccodes"
   ]
  },
  {
   "cell_type": "code",
   "execution_count": null,
   "metadata": {
    "tags": []
   },
   "outputs": [],
   "source": [
    "try:\n",
    "    infile = open(sample2, 'rb')\n",
    "    \n",
    "    keep_going = True\n",
    "    while keep_going:\n",
    "        msg_begin = infile.tell()\n",
    "        msg_id = eccodes.codes_grib_new_from_file(infile)\n",
    "        if msg_id:\n",
    "            typeOfLevel = eccodes.codes_get(msg_id, 'typeOfLevel')\n",
    "            level = eccodes.codes_get(msg_id, 'level')\n",
    "            print(level, typeOfLevel)\n",
    "        else:\n",
    "            keep_going = False\n",
    "finally:\n",
    "    infile.close()"
   ]
  },
  {
   "cell_type": "code",
   "execution_count": null,
   "metadata": {},
   "outputs": [],
   "source": [
    "from smc01.grib import GribFile"
   ]
  },
  {
   "cell_type": "code",
   "execution_count": null,
   "metadata": {},
   "outputs": [],
   "source": [
    "sample2"
   ]
  },
  {
   "cell_type": "code",
   "execution_count": null,
   "metadata": {
    "tags": []
   },
   "outputs": [],
   "source": [
    "with GribFile(sample2, 'rb') as f:\n",
    "    for msg in f:\n",
    "        print(msg)"
   ]
  },
  {
   "cell_type": "code",
   "execution_count": null,
   "metadata": {
    "tags": []
   },
   "outputs": [],
   "source": [
    "with open('outfile.grib2', 'wb') as outfile:\n",
    "    with GribFile(sample2) as f:\n",
    "        for msg in f:\n",
    "            if msg['typeOfLevel'] == 'isobaricInhPa' and msg['level'] not in [1000, 925, 850, 700, 500]:\n",
    "                print(msg)\n",
    "            else:\n",
    "                eccodes.codes_write(msg.msg_id, outfile)"
   ]
  },
  {
   "cell_type": "code",
   "execution_count": null,
   "metadata": {},
   "outputs": [],
   "source": [
    "with GribFile('outfile.grib2', 'rb') as f:\n",
    "    msgs = list(f)"
   ]
  },
  {
   "cell_type": "code",
   "execution_count": null,
   "metadata": {},
   "outputs": [],
   "source": [
    "outfile_path = pathlib.Path('outfile.grib2')"
   ]
  },
  {
   "cell_type": "code",
   "execution_count": null,
   "metadata": {},
   "outputs": [],
   "source": [
    "if outfile_path.is_file():\n",
    "    outfile_path.unlink()"
   ]
  },
  {
   "cell_type": "code",
   "execution_count": null,
   "metadata": {},
   "outputs": [],
   "source": [
    "msgs[0]['level']\n"
   ]
  }
 ],
 "metadata": {
  "kernelspec": {
   "display_name": "SMC01",
   "language": "python",
   "name": "smc01"
  },
  "language_info": {
   "codemirror_mode": {
    "name": "ipython",
    "version": 3
   },
   "file_extension": ".py",
   "mimetype": "text/x-python",
   "name": "python",
   "nbconvert_exporter": "python",
   "pygments_lexer": "ipython3",
   "version": "3.9.2"
  }
 },
 "nbformat": 4,
 "nbformat_minor": 4
}
