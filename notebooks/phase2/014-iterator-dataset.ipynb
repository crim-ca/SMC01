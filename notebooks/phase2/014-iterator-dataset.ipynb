{
 "cells": [
  {
   "cell_type": "markdown",
   "metadata": {},
   "source": [
    "# Iterator dataset\n",
    "\n",
    "We need a version of the dataset that is an iterator and that provides a lesser amount of lines for each batch.\n",
    "This will allow us to study more variations of the EMOS model."
   ]
  },
  {
   "cell_type": "code",
   "execution_count": null,
   "metadata": {},
   "outputs": [],
   "source": [
    "%load_ext autoreload\n",
    "%autoreload 2"
   ]
  },
  {
   "cell_type": "code",
   "execution_count": null,
   "metadata": {},
   "outputs": [],
   "source": [
    "import hydra\n",
    "import itertools\n",
    "import os\n",
    "import pathlib\n",
    "import pandas as pd\n",
    "\n",
    "from smc01.postprocessing.dataset import SMCParquetDataset\n",
    "from smc01.postprocessing.util import load_checkpoint_from_run, PandasBatchIteratorDataset"
   ]
  },
  {
   "cell_type": "code",
   "execution_count": null,
   "metadata": {},
   "outputs": [],
   "source": [
    "with hydra.initialize_config_module('smc01.postprocessing.conf'):\n",
    "    cfg = hydra.compose('train', ['experiment=emos_gdps_metar'])"
   ]
  },
  {
   "cell_type": "code",
   "execution_count": null,
   "metadata": {},
   "outputs": [],
   "source": [
    "dataset = hydra.utils.instantiate(cfg.experiment.dataset)"
   ]
  },
  {
   "cell_type": "code",
   "execution_count": null,
   "metadata": {},
   "outputs": [],
   "source": [
    "dataset[0]"
   ]
  },
  {
   "cell_type": "code",
   "execution_count": null,
   "metadata": {},
   "outputs": [],
   "source": [
    "DATA_DIR = pathlib.Path(os.getenv(\"DATA_DIR\"))\n",
    "DATASET_DIR = DATA_DIR / '2021-12-20-gdps-metar/'"
   ]
  },
  {
   "cell_type": "code",
   "execution_count": null,
   "metadata": {},
   "outputs": [],
   "source": [
    "dataset = SMCParquetDataset(DATASET_DIR, years=[2021])"
   ]
  },
  {
   "cell_type": "code",
   "execution_count": null,
   "metadata": {},
   "outputs": [],
   "source": [
    "iterator_dataset = PandasBatchIteratorDataset(dataset, 50000)"
   ]
  },
  {
   "cell_type": "code",
   "execution_count": null,
   "metadata": {
    "tags": []
   },
   "outputs": [],
   "source": [
    "batch = next(iter(iterator_dataset))\n",
    "print('len of batch', len(batch.index))"
   ]
  },
  {
   "cell_type": "markdown",
   "metadata": {},
   "source": [
    "# Test implementation\n",
    "\n",
    "I want to test that we get the same amount of examples if we use the iterator or not."
   ]
  },
  {
   "cell_type": "code",
   "execution_count": null,
   "metadata": {},
   "outputs": [],
   "source": [
    "from smc01.postprocessing.train import make_datasets, make_dataloader"
   ]
  },
  {
   "cell_type": "code",
   "execution_count": null,
   "metadata": {},
   "outputs": [],
   "source": [
    "sample_dir = DATA_DIR / 'interpolated/2022-02-08-sample'\n",
    "with hydra.initialize_config_module('smc01.postprocessing.conf'):\n",
    "    cfg = hydra.compose('train', [\n",
    "        'experiment=emos_gdps_metar',\n",
    "        'experiment.limit_dataframe_size=5000',\n",
    "        'num_workers=8',\n",
    "        'experiment.batch_size=1',\n",
    "        f'experiment.dataset.dataset_dir={sample_dir!s}',\n",
    "    ])"
   ]
  },
  {
   "cell_type": "code",
   "execution_count": null,
   "metadata": {},
   "outputs": [],
   "source": [
    "train_dataset, *_ = make_datasets(cfg)"
   ]
  },
  {
   "cell_type": "code",
   "execution_count": null,
   "metadata": {},
   "outputs": [],
   "source": [
    "loader = make_dataloader(cfg, train_dataset)\n"
   ]
  },
  {
   "cell_type": "code",
   "execution_count": null,
   "metadata": {},
   "outputs": [],
   "source": [
    "n_examples = 0\n",
    "for b in loader:\n",
    "    n_examples += b['station_id'].shape[0]\n",
    "    \n",
    "print(n_examples)"
   ]
  },
  {
   "cell_type": "code",
   "execution_count": null,
   "metadata": {},
   "outputs": [],
   "source": [
    "sample_dir = DATA_DIR / 'interpolated/2022-02-08-sample'\n",
    "with hydra.initialize_config_module('smc01.postprocessing.conf'):\n",
    "    cfg_no_limit = hydra.compose('train', [\n",
    "        'experiment=emos_gdps_metar',\n",
    "        '~experiment.limit_dataframe_size',\n",
    "        'num_workers=8',\n",
    "        'experiment.batch_size=1',\n",
    "        f'experiment.dataset.dataset_dir={sample_dir!s}',\n",
    "    ])"
   ]
  },
  {
   "cell_type": "code",
   "execution_count": null,
   "metadata": {},
   "outputs": [],
   "source": [
    "train_dataset_no_limit, *_ = make_datasets(cfg_no_limit)"
   ]
  },
  {
   "cell_type": "code",
   "execution_count": null,
   "metadata": {},
   "outputs": [],
   "source": [
    "loader = make_dataloader(cfg_no_limit, train_dataset_no_limit)"
   ]
  },
  {
   "cell_type": "code",
   "execution_count": null,
   "metadata": {},
   "outputs": [],
   "source": [
    "n_examples = 0\n",
    "for b in loader:\n",
    "    n_examples += b['station_id'].shape[0]\n",
    "print(n_examples)"
   ]
  },
  {
   "cell_type": "code",
   "execution_count": null,
   "metadata": {},
   "outputs": [],
   "source": []
  }
 ],
 "metadata": {
  "kernelspec": {
   "display_name": "SMC01",
   "language": "python",
   "name": "smc01"
  },
  "language_info": {
   "codemirror_mode": {
    "name": "ipython",
    "version": 3
   },
   "file_extension": ".py",
   "mimetype": "text/x-python",
   "name": "python",
   "nbconvert_exporter": "python",
   "pygments_lexer": "ipython3",
   "version": "3.9.2"
  }
 },
 "nbformat": 4,
 "nbformat_minor": 4
}
