{
 "cells": [
  {
   "cell_type": "code",
   "execution_count": null,
   "metadata": {},
   "outputs": [],
   "source": [
    "%load_ext autoreload\n",
    "%autoreload 2"
   ]
  },
  {
   "cell_type": "markdown",
   "metadata": {},
   "source": [
    "# Smooth EMOS\n",
    "\n",
    "Experiment with a module that smooths the linear model weights after the training epoch.\n",
    "The hope is that this will improve the validation score, because we postulate that the biases are slow moving across time for a given station.\n"
   ]
  },
  {
   "cell_type": "code",
   "execution_count": null,
   "metadata": {},
   "outputs": [],
   "source": [
    "import collections\n",
    "import hydra\n",
    "import matplotlib\n",
    "import matplotlib.pyplot as plt\n",
    "import numpy as np\n",
    "import os\n",
    "import pandas as pd\n",
    "import pathlib\n",
    "import torch\n",
    "import torch.nn as nn\n",
    "\n",
    "from pandas.api.types import CategoricalDtype\n",
    "\n",
    "\n",
    "from smc01.postprocessing.train import make_dataloader\n",
    "from smc01.postprocessing.util import load_checkpoint_from_run"
   ]
  },
  {
   "cell_type": "code",
   "execution_count": null,
   "outputs": [],
   "source": [
    "DATA_DIR = pathlib.Path(os.getenv('DATA_DIR'))"
   ],
   "metadata": {
    "collapsed": false
   }
  },
  {
   "cell_type": "code",
   "execution_count": null,
   "metadata": {},
   "outputs": [],
   "source": [
    "with hydra.initialize_config_module('smc01.postprocessing.conf'):\n",
    "    cfg = hydra.compose('train')"
   ]
  },
  {
   "cell_type": "code",
   "execution_count": null,
   "metadata": {},
   "outputs": [],
   "source": [
    "dataset = hydra.utils.instantiate(cfg.experiment.dataset)\n",
    "loader = make_dataloader(cfg, dataset)"
   ]
  },
  {
   "cell_type": "code",
   "execution_count": null,
   "metadata": {},
   "outputs": [],
   "source": [
    "model = load_checkpoint_from_run(DATA_DIR / 'runs/postprocessing/outputs/2022-01-24/16-26-56')"
   ]
  },
  {
   "cell_type": "code",
   "execution_count": null,
   "metadata": {},
   "outputs": [],
   "source": [
    "model"
   ]
  },
  {
   "cell_type": "code",
   "execution_count": null,
   "metadata": {},
   "outputs": [],
   "source": [
    "model.weights.shape"
   ]
  },
  {
   "cell_type": "markdown",
   "metadata": {},
   "source": [
    "## First try with dataloader"
   ]
  },
  {
   "cell_type": "code",
   "execution_count": null,
   "metadata": {},
   "outputs": [],
   "source": [
    "model.weights.mean(dim=0).mean(dim=0).mean(dim=0)"
   ]
  },
  {
   "cell_type": "code",
   "execution_count": null,
   "metadata": {},
   "outputs": [],
   "source": [
    "model.biases.max()"
   ]
  },
  {
   "cell_type": "code",
   "execution_count": null,
   "metadata": {},
   "outputs": [],
   "source": [
    "model.biases.min()"
   ]
  },
  {
   "cell_type": "code",
   "execution_count": null,
   "metadata": {},
   "outputs": [],
   "source": [
    "model.weights.max()"
   ]
  },
  {
   "cell_type": "code",
   "execution_count": null,
   "metadata": {},
   "outputs": [],
   "source": [
    "model.weights.min()"
   ]
  },
  {
   "cell_type": "code",
   "execution_count": null,
   "metadata": {},
   "outputs": [],
   "source": [
    "model.weights.shape"
   ]
  },
  {
   "cell_type": "code",
   "execution_count": null,
   "metadata": {},
   "outputs": [],
   "source": [
    "plt.plot(model.weights[1000, 0::2, 9, 0].detach().numpy())\n",
    "plt.plot(model.weights[1000, 1::2, 9, 0].detach().numpy())"
   ]
  },
  {
   "cell_type": "code",
   "execution_count": null,
   "metadata": {},
   "outputs": [],
   "source": [
    "plt.plot(model.weights[1000, 0::2, 12, 0].detach().numpy())\n",
    "plt.plot(model.weights[1000, 1::2, 12, 0].detach().numpy())"
   ]
  },
  {
   "cell_type": "code",
   "execution_count": null,
   "metadata": {},
   "outputs": [],
   "source": [
    "transformed_dataset.transform.station_dtype"
   ]
  },
  {
   "cell_type": "code",
   "execution_count": null,
   "metadata": {},
   "outputs": [],
   "source": [
    "model.weights[437].shape"
   ]
  },
  {
   "cell_type": "code",
   "execution_count": null,
   "metadata": {},
   "outputs": [],
   "source": [
    "model.biases.shape"
   ]
  },
  {
   "cell_type": "code",
   "execution_count": null,
   "metadata": {},
   "outputs": [],
   "source": [
    "plt.plot(model.biases[1].mean(dim=0)[1:-1:8].detach().numpy())"
   ]
  },
  {
   "cell_type": "code",
   "execution_count": null,
   "metadata": {},
   "outputs": [],
   "source": [
    "import torch.nn.functional as F"
   ]
  },
  {
   "cell_type": "code",
   "execution_count": null,
   "metadata": {},
   "outputs": [],
   "source": [
    "model.weights.shape"
   ]
  },
  {
   "cell_type": "code",
   "execution_count": null,
   "metadata": {},
   "outputs": [],
   "source": [
    "def smooth_across_one_dim(tensor, dim, filter_size=3, dilation=1):\n",
    "    \"\"\"Perform a smoothing operation across one dimension of a tensor. Useful\n",
    "    to smooth EMOS weights across time, for instance.\n",
    "    \n",
    "    Args\n",
    "        tensor: The tensor to smooth.\n",
    "        dim: The number of the dimension across which to perform the smoothing.\n",
    "        filter_size: The size of the smoothing filter.\n",
    "        \n",
    "    Returns\n",
    "        A tensor that had a smoothing filter applied.\"\"\"\n",
    "    \n",
    "    \n",
    "    # Move target dimension last.\n",
    "    tensor = tensor.transpose(dim, -1)\n",
    "    \n",
    "    # Flatten all intermediary dims.\n",
    "    original_shape = tensor.shape\n",
    "    tensor = tensor.flatten(1, len(tensor.shape) - 2)\n",
    "    \n",
    "    # Add circular padding\n",
    "    left_padding = dilation * (filter_size // 2)\n",
    "    right_padding = dilation * (filter_size // 2) - dilation + dilation * (filter_size % 2)\n",
    "    padded_tensor = F.pad(tensor, [left_padding, right_padding], mode='circular')\n",
    "    \n",
    "    # Create filter.\n",
    "    # We want the filter to be the average of all the filtered values.\n",
    "    n_dims = padded_tensor.shape[1]\n",
    "    fltr = torch.ones(n_dims, 1, filter_size, requires_grad=False, device=tensor.device) / filter_size\n",
    "    \n",
    "    # Perform convolution.\n",
    "    # We use groups=n_dims so that one dimension at a time is filtered.\n",
    "    with torch.no_grad():\n",
    "        filtered = F.conv1d(padded_tensor, fltr, groups=n_dims, dilation=dilation)\n",
    "    \n",
    "    print(padded_tensor.shape)\n",
    "    \n",
    "    filtered = filtered.reshape(*original_shape)\n",
    "    # Bring filtered dim back where it was.\n",
    "    filtered = filtered.transpose(dim, -1)\n",
    "    print(filtered.shape)\n",
    "        \n",
    "    return filtered"
   ]
  },
  {
   "cell_type": "code",
   "execution_count": null,
   "metadata": {},
   "outputs": [],
   "source": [
    "model.weights.shape"
   ]
  },
  {
   "cell_type": "code",
   "execution_count": null,
   "metadata": {},
   "outputs": [],
   "source": [
    "smoothed = smooth_across_one_dim(model.weights, 1, 3, dilation=2)"
   ]
  },
  {
   "cell_type": "code",
   "execution_count": null,
   "metadata": {},
   "outputs": [],
   "source": [
    "smoothed.shape"
   ]
  },
  {
   "cell_type": "code",
   "execution_count": null,
   "metadata": {},
   "outputs": [],
   "source": [
    "fig, ax = plt.subplots()\n",
    "ax.plot(model.weights[437, :, 0, 0].detach().numpy())\n",
    "ax.plot(smoothed[437, :, 0, 0].detach().numpy())"
   ]
  },
  {
   "cell_type": "code",
   "execution_count": null,
   "metadata": {},
   "outputs": [],
   "source": [
    "fig, ax = plt.subplots()\n",
    "ax.plot(model.weights[437, 0::2, 8, 0].detach().numpy())\n",
    "ax.plot(smoothed[437, 0::2, 8, 0].detach().numpy())"
   ]
  },
  {
   "cell_type": "code",
   "execution_count": null,
   "metadata": {},
   "outputs": [],
   "source": [
    "fig, ax = plt.subplots()\n",
    "ax.plot(model.weights[437, 1::2, 8, 0].detach().numpy())\n",
    "ax.plot(smoothed[437, 1::2, 8, 0].detach().numpy())"
   ]
  },
  {
   "cell_type": "code",
   "execution_count": null,
   "metadata": {},
   "outputs": [],
   "source": [
    "fig, ax = plt.subplots()\n",
    "ax.plot(smoothed[437, 0::2, 8, 0].detach().numpy())\n",
    "ax.plot(smoothed[437, 1::2, 8, 0].detach().numpy())"
   ]
  },
  {
   "cell_type": "code",
   "execution_count": null,
   "metadata": {},
   "outputs": [],
   "source": [
    "fig, ax = plt.subplots()\n",
    "ax.plot(model.weights[100, 30, :, 0].detach().numpy())\n",
    "ax.plot(smoothed[100, 30, :, 0].detach().numpy())"
   ]
  },
  {
   "cell_type": "code",
   "execution_count": null,
   "metadata": {},
   "outputs": [],
   "source": [
    "fig, ax = plt.subplots()\n",
    "ax.plot(model.weights[100, :, 0, 1].detach().numpy())\n",
    "ax.plot(smoothed[100, :, 0, 1].detach().numpy())"
   ]
  },
  {
   "cell_type": "code",
   "execution_count": null,
   "metadata": {},
   "outputs": [],
   "source": []
  }
 ],
 "metadata": {
  "kernelspec": {
   "display_name": "SMC01",
   "language": "python",
   "name": "smc01"
  },
  "language_info": {
   "codemirror_mode": {
    "name": "ipython",
    "version": 3
   },
   "file_extension": ".py",
   "mimetype": "text/x-python",
   "name": "python",
   "nbconvert_exporter": "python",
   "pygments_lexer": "ipython3",
   "version": "3.9.2"
  }
 },
 "nbformat": 4,
 "nbformat_minor": 4
}
