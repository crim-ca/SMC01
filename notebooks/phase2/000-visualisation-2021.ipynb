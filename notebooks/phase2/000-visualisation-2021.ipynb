{
 "cells": [
  {
   "cell_type": "code",
   "execution_count": null,
   "id": "reasonable-simple",
   "metadata": {},
   "outputs": [],
   "source": [
    "%load_ext autoreload\n",
    "%autoreload 2"
   ]
  },
  {
   "cell_type": "markdown",
   "id": "flying-unknown",
   "metadata": {},
   "source": [
    "# Error of prediction visualisation\n",
    "In this notebook we plot the mean squared error of the prediction with respect to the observation. \n"
   ]
  },
  {
   "cell_type": "code",
   "execution_count": null,
   "id": "minus-current",
   "metadata": {},
   "outputs": [],
   "source": [
    "import dask\n",
    "import dask.array as da\n",
    "import dask.dataframe as dd\n",
    "import dask.distributed\n",
    "import dask_jobqueue\n",
    "import matplotlib.pyplot as plt\n",
    "import numpy as np\n",
    "import os\n",
    "import pathlib\n",
    "import pandas as pd\n",
    "import seaborn as sns\n",
    "import plotly.graph_objects as go\n",
    "import math\n",
    "import calendar"
   ]
  },
  {
   "cell_type": "code",
   "execution_count": null,
   "id": "strategic-means",
   "metadata": {},
   "outputs": [],
   "source": [
    "sns.set_theme()"
   ]
  },
  {
   "cell_type": "markdown",
   "id": "banned-anthropology",
   "metadata": {},
   "source": [
    "## Boot cluster"
   ]
  },
  {
   "cell_type": "code",
   "execution_count": null,
   "id": "assumed-country",
   "metadata": {},
   "outputs": [],
   "source": [
    "cluster = dask_jobqueue.SLURMCluster(\n",
    "    env_extra=['source $HOME/.bashrc','conda activate smc01'],\n",
    "    name='smc01-dask',\n",
    "    cores=8, memory='60GB',\n",
    "    spill=False, target=False,\n",
    "    local_directory='/var/tmp/', \n",
    ")"
   ]
  },
  {
   "cell_type": "code",
   "execution_count": null,
   "id": "successful-baseline",
   "metadata": {},
   "outputs": [],
   "source": [
    "cluster.scale(jobs=10)"
   ]
  },
  {
   "cell_type": "code",
   "execution_count": null,
   "id": "usual-telephone",
   "metadata": {},
   "outputs": [],
   "source": [
    "client = dask.distributed.Client(cluster)"
   ]
  },
  {
   "cell_type": "code",
   "execution_count": null,
   "id": "adjacent-arkansas",
   "metadata": {},
   "outputs": [],
   "source": [
    "client"
   ]
  },
  {
   "cell_type": "markdown",
   "id": "imposed-prescription",
   "metadata": {},
   "source": [
    "## Read dataset"
   ]
  },
  {
   "cell_type": "code",
   "execution_count": null,
   "id": "veterinary-purse",
   "metadata": {},
   "outputs": [],
   "source": [
    "DATA_DIR = pathlib.Path(os.getenv('DATA_DIR'))\n",
    "INPUT = DATA_DIR / 'interpolated/2021-12-20-test/*.parquet'"
   ]
  },
  {
   "cell_type": "code",
   "execution_count": null,
   "id": "touched-candy",
   "metadata": {},
   "outputs": [],
   "source": [
    "#temporary only to remove the columns that dont exist in the 2021 files\n",
    "df = dd.read_parquet(INPUT)"
   ]
  },
  {
   "cell_type": "code",
   "execution_count": null,
   "id": "dc7d888e-252a-4811-b197-893687ac0d80",
   "metadata": {},
   "outputs": [],
   "source": [
    "df = df.persist()"
   ]
  },
  {
   "cell_type": "markdown",
   "id": "d00448b7-f89c-4544-862c-bc47eef7f1a2",
   "metadata": {},
   "source": [
    "We are calculating the ratio of N/A per column in the dataset. This will allow us to determine if we need to remove N/A values in the dataset."
   ]
  },
  {
   "cell_type": "code",
   "execution_count": null,
   "id": "89c9e371-439b-471c-9a9d-e5b1accac02d",
   "metadata": {},
   "outputs": [],
   "source": [
    "na_ratios = []\n",
    "for column in df.columns:\n",
    "    data = df[column]\n",
    "    len_full = len(data)\n",
    "    na_df = data.dropna()\n",
    "    ratio = (len(data) - len(na_df))/len(data)\n",
    "    na_ratios.append(ratio)\n",
    "\n",
    "na_ratio_df = pd.DataFrame(na_ratios, index=df.columns)"
   ]
  },
  {
   "cell_type": "markdown",
   "id": "49cf9f6c-21ff-4c88-82e2-0551855e613c",
   "metadata": {},
   "source": [
    "We only keep the columns that have an na ratio of above 0 meaning they contain N/A values."
   ]
  },
  {
   "cell_type": "code",
   "execution_count": null,
   "id": "feedb4b7-8694-4d90-b598-96b96e748b5f",
   "metadata": {},
   "outputs": [],
   "source": [
    "na_ratio_df[na_ratio_df[0] > 0]"
   ]
  },
  {
   "cell_type": "markdown",
   "id": "f028a847-e192-4aa1-9f00-b904b153e355",
   "metadata": {},
   "source": [
    "As we can see only certain of the observation columns have some N/A values. The column obs_prmsl has the highest ratio of N/A values. But given that all the prediction columns have no N/A which will be the columns used as the feature space of the ML models we will not remove the N/A values. "
   ]
  },
  {
   "cell_type": "markdown",
   "id": "31a2a43d-2978-44ff-a14c-1b0846fc0a5c",
   "metadata": {},
   "source": [
    "## Calculate errors of predictions\n",
    "Note here that not all prediction varibles contain an observation. So only the following MSE could be calculated for the dataset.\n",
    "<ul>\n",
    "    <li>2r: 2 meter relative humidity</li>\n",
    "    <li>2t: 2 meter temperature</li>\n",
    "    <li>10wdir: 10 meter wind direction</li>\n",
    "    <li>10si: 10 wind speed</li>\n",
    "</ul>"
   ]
  },
  {
   "cell_type": "markdown",
   "id": "7babf8a5-255e-4e64-989a-164b105aa286",
   "metadata": {},
   "source": [
    "We convert degrees to radians for future calculations of error of wind direction."
   ]
  },
  {
   "cell_type": "code",
   "execution_count": null,
   "id": "37b431d9-582b-4d6e-9414-845423db01c3",
   "metadata": {},
   "outputs": [],
   "source": [
    "df[['obs_10wdir', 'gdps_10wdir']] = df[['obs_10wdir', 'gdps_10wdir']].apply(np.radians, axis=1, meta=df[['obs_10wdir', 'gdps_10wdir']])"
   ]
  },
  {
   "cell_type": "code",
   "execution_count": null,
   "id": "513d8da3-d3e5-4b2c-bbe1-6e177c8b1f34",
   "metadata": {},
   "outputs": [],
   "source": [
    "def calculate_error(row, variable_suffix):\n",
    "    return row['gdps_'+ variable_suffix] - row['obs_' + variable_suffix]"
   ]
  },
  {
   "cell_type": "markdown",
   "id": "6eeabc8e-3065-4b46-b45d-6397675c9435",
   "metadata": {},
   "source": [
    "Here is a function to calculate the angle error between two angles. We want the smallest angle difference between the two. For example, if we have x=10 and y=350 the error is 20 degrees not 340."
   ]
  },
  {
   "cell_type": "code",
   "execution_count": null,
   "id": "c58e15a2-23c1-4bfd-9be1-6d48a39e1609",
   "metadata": {},
   "outputs": [],
   "source": [
    "def calculate_angle_error(row, variable_suffix):\n",
    "    return dd.concat([2*math.pi - calculate_error(row, variable_suffix).abs(), calculate_error(row, variable_suffix).abs()], axis=1, ignore_unknown_divisions=True).min(axis=1)"
   ]
  },
  {
   "cell_type": "code",
   "execution_count": null,
   "id": "c56e16e8-d7bb-405e-922c-a35f61ec9ed6",
   "metadata": {},
   "outputs": [],
   "source": [
    "def generate_mean_squared_error_columns(variable_suffix, df, func=calculate_error):\n",
    "    df['error_'+ variable_suffix] = func(df, variable_suffix=variable_suffix)\n",
    "    df['squared_error_'+ variable_suffix] = df['error_'+ variable_suffix] ** 2\n",
    "    df['rmse_' + variable_suffix] = da.sqrt(df['squared_error_' + variable_suffix])\n",
    "    df['mabs_' + variable_suffix] = np.abs(df['error_' + variable_suffix])"
   ]
  },
  {
   "cell_type": "markdown",
   "id": "8b02e9a8-b272-44c2-91f5-a39cd182c7f2",
   "metadata": {},
   "source": [
    "Here we compute the step value in hours as well as the mean squared error metriques for each pair of obs to prediction column. "
   ]
  },
  {
   "cell_type": "code",
   "execution_count": null,
   "id": "introductory-assumption",
   "metadata": {},
   "outputs": [],
   "source": [
    "df['step_hour'] = df['step'] / 3600\n",
    "generate_mean_squared_error_columns('2t', df)\n",
    "generate_mean_squared_error_columns('2r', df)\n",
    "generate_mean_squared_error_columns('10wdir', df, calculate_angle_error)\n",
    "generate_mean_squared_error_columns('10si', df)"
   ]
  },
  {
   "cell_type": "markdown",
   "id": "9f6514f7-b80b-43ec-9140-4a681f0c36f8",
   "metadata": {},
   "source": [
    "## 1.0 Visualisation of mean squared error of prediction vs observation"
   ]
  },
  {
   "cell_type": "markdown",
   "id": "a0e62c3b-3e0a-4266-9a2c-5fa9b01af05c",
   "metadata": {},
   "source": [
    "Below is a function to plot a scatter plot on a map in plotly. "
   ]
  },
  {
   "cell_type": "code",
   "execution_count": null,
   "id": "036920b6-3e37-4fb9-bf7c-0befe3844d92",
   "metadata": {},
   "outputs": [],
   "source": [
    "def plot_map_scatter_plot_with_steps(\n",
    "        data_frame,step_items, \n",
    "        column_to_plot='rmse_2t', \n",
    "        title =\"Placeholder title\", \n",
    "        step_column='step_hour', \n",
    "        map_type='north america', \n",
    "        color_bar_title='Temperature', \n",
    "        tick_suffix = '°C', \n",
    "        slider_prefix_label='Lead time to true obs: ', \n",
    "        slider_suffix_label=' h',\n",
    "        ticks=1):\n",
    "    \"\"\"\n",
    "        Method that take a datafram containing longitude and latitude information and plots a scatter plot on a map.\n",
    "        datafame: dataframe with object information \n",
    "        column_to_plot: the column from the dataframe corresponding to the item to plot in the scatter plot. \n",
    "        title: title of the figure. \n",
    "        step_items: a list of values corresponding to steps or categories to group the data in a range. This will determine the range slider displayed. For only one item send a list with one item. \n",
    "        step_column: column name corresponding to the step value in the dataframe to group in the range slider. \n",
    "        map_type: type of map to be used to display the scatter plot on. The following values are available : 'world', 'usa', 'europe', 'asia', 'africa', 'north america', 'south america'. \n",
    "        color_bar_title: side title of the color bar. This corresponds to the values of the column_to_plot.\n",
    "        tick_suffix: metric of the values of the column_to_plot.\n",
    "        slider_suffix_label: string value appearing after the slider value selected displayed. \n",
    "        slider_prefix_label: string value appearing before the slider value selected displayed. \n",
    "        ticks: value determining the number of ticks to display on the color bar. \n",
    "    \"\"\"\n",
    "    scl = [[0,\"rgb(255, 234, 0)\"],[0.5,\"rgb(255, 111, 0)\"],[1,\"rgb(255, 0, 0)\"]]\n",
    "    frames = []\n",
    "    for item in step_items:\n",
    "        frame = {   \n",
    "            'name':'frame_{}'.format(item),\n",
    "            'data':[{\n",
    "                'type':'scattergeo',\n",
    "                'lat':data_frame[data_frame[step_column]==item]['latitude'],\n",
    "                'lon':data_frame[data_frame[step_column]==item]['longitude'],\n",
    "                'text': data_frame[data_frame[step_column]==item]['station'],\n",
    "                'marker':dict(\n",
    "                    color = data_frame[data_frame[step_column]==item][column_to_plot],\n",
    "                    reversescale = False,\n",
    "                    opacity = 1,\n",
    "                    size = 3,\n",
    "                    cmax=data_frame[column_to_plot].max(),\n",
    "                    cmin=data_frame[column_to_plot].min(),\n",
    "                    colorscale = scl,\n",
    "                    colorbar = dict(\n",
    "                        titleside = \"right\",\n",
    "                        outlinecolor = \"rgba(68, 68, 68, 0)\",\n",
    "                        ticks = \"outside\",\n",
    "                        tick0=0,\n",
    "                        showticksuffix = \"all\",\n",
    "                        dtick = ticks,\n",
    "                        ticksuffix=tick_suffix,\n",
    "                        title=color_bar_title\n",
    "                    )),\n",
    "                }],          \n",
    "            }\n",
    "        frames.append(frame)\n",
    "    frames = [{   \n",
    "    'name':'frame_{}'.format(item),\n",
    "    'data':[{\n",
    "        'type':'scattergeo',\n",
    "        'lat':data_frame[data_frame[step_column]==item]['latitude'],\n",
    "        'lon':data_frame[data_frame[step_column]==item]['longitude'],\n",
    "        'text': data_frame[data_frame[step_column]==item]['station'],\n",
    "        'marker':dict(\n",
    "            color = data_frame[data_frame[step_column]==item][column_to_plot],\n",
    "            reversescale = False,\n",
    "            opacity = 1,\n",
    "            size = 3,\n",
    "            cmax=data_frame[column_to_plot].max(),\n",
    "            cmin=data_frame[column_to_plot].min(),\n",
    "            colorscale = scl,\n",
    "            colorbar = dict(\n",
    "                titleside = \"right\",\n",
    "                outlinecolor = \"rgba(68, 68, 68, 0)\",\n",
    "                ticks = \"outside\",\n",
    "                tick0=0,\n",
    "                showticksuffix = \"all\",\n",
    "                dtick = ticks,\n",
    "                ticksuffix=tick_suffix,\n",
    "                title=color_bar_title\n",
    "            )),\n",
    "        }],          \n",
    "    } for item in step_items]  \n",
    "    \n",
    "    sliders = [{\n",
    "    'transition':{'duration': 0},\n",
    "    'x':0.08, \n",
    "    'len':0.88,\n",
    "    'currentvalue':{'font':{'size':15}, 'prefix':slider_prefix_label,'suffix':slider_suffix_label, 'visible':True, 'xanchor':'center'},  \n",
    "    'steps':[\n",
    "        {\n",
    "            'label':item,\n",
    "            'method':'animate',\n",
    "            'args':[\n",
    "                ['frame_{}'.format(item)],\n",
    "                {'mode':'immediate', 'frame':{'duration':100, 'redraw': True}, 'transition':{'duration':50}}\n",
    "              ],\n",
    "        } for item in step_items]\n",
    "    }]\n",
    "    \n",
    "    layout = go.Layout(\n",
    "        sliders=sliders,\n",
    "        geo = dict(\n",
    "            scope = map_type,\n",
    "            showland = True,\n",
    "            landcolor = \"rgb(212, 212, 212)\",\n",
    "            subunitcolor = \"rgb(255, 255, 255)\",\n",
    "            countrycolor = \"rgb(255, 255, 255)\",\n",
    "            showlakes = True,\n",
    "            lakecolor = \"rgb(255, 255, 255)\",\n",
    "            showsubunits = True,\n",
    "            showcountries = True,\n",
    "            resolution = 110,\n",
    "            projection = dict(\n",
    "                type = 'conic equal area'\n",
    "            ),\n",
    "            lonaxis = dict(\n",
    "                showgrid = False,\n",
    "                gridwidth = 0.5,\n",
    "                range= [ data_frame['longitude'].min(), data_frame['longitude'].max() ],\n",
    "                dtick = 5\n",
    "            ),\n",
    "            lataxis = dict (\n",
    "                showgrid = False,\n",
    "                gridwidth = 0.5,\n",
    "                range= [data_frame['latitude'].min(), data_frame['latitude'].max() ],\n",
    "                dtick = 5\n",
    "            )\n",
    "        ),\n",
    "        width=1250,\n",
    "        height=800,\n",
    "        title=title,\n",
    "        )\n",
    "\n",
    "    # Creating the figure\n",
    "    data = frames[0]['data']\n",
    "    fig = go.Figure(data=data, layout=layout, frames=frames)\n",
    "\n",
    "    # Displaying the figure\n",
    "    fig.show()"
   ]
  },
  {
   "cell_type": "markdown",
   "id": "24e563d9-39e6-4768-8d02-900cff7540b9",
   "metadata": {},
   "source": [
    "### 1.1 Visualisation of rmse per time step\n",
    "In this section we want to visualise the rmse of predictions vs observations per time step. The time step corresponds to the time prediction prior the true value. So if 0.0 this is the prediction at time 0.0, 6.0 is the prediction 6h in advance of the true observation. We will also group the observation and predictions per station so we only have one rmse per station per time step. "
   ]
  },
  {
   "cell_type": "code",
   "execution_count": null,
   "id": "f2570ef1-1dad-43d8-82ad-85b4fa81b254",
   "metadata": {},
   "outputs": [],
   "source": [
    "steps = df['step_hour'].unique().compute().sort_values()\n",
    "step_hour_group_by = df.groupby(['step_hour', 'station']).mean().compute()\n",
    "step_hour_group_by = step_hour_group_by.reset_index()"
   ]
  },
  {
   "cell_type": "markdown",
   "id": "a4b4d2d1-c2e3-4b88-86f3-ef0293751676",
   "metadata": {},
   "source": [
    "#### 1.1.1 MSE 2 meter temperate per time step\n",
    "We can observe that as we increase the time of prediction prior to the true observation the error increases, meaning that predicting the temperature at 2 meters above ground gets harder the more in advance you make the prediction with a low of 0.57°C and high of 8.58°C. Also the increase in error is much more visible in the mainland USA and canadian stations. Furthermore, we can observe that the stations in the mainland ouest coast seemns to have very high error constantly as we increase the time of prediction. "
   ]
  },
  {
   "cell_type": "code",
   "execution_count": null,
   "id": "7b993ff0-f026-412d-952f-2e6d1af8f269",
   "metadata": {},
   "outputs": [],
   "source": [
    "min_2t = step_hour_group_by['rmse_2t'].min()\n",
    "max_2t = step_hour_group_by[\"rmse_2t\"].max()\n",
    "print(\"min 2t: {0} and max 2t: {1}\".format(round(min_2t,2), round(max_2t,2)))"
   ]
  },
  {
   "cell_type": "code",
   "execution_count": null,
   "id": "e2051018-de88-4bc2-aa7d-7ba76e38a971",
   "metadata": {},
   "outputs": [],
   "source": [
    "plot_map_scatter_plot_with_steps(step_hour_group_by, steps, 'rmse_2t', '2 meter temperature RMSE per time step', 'step_hour', ticks=2)"
   ]
  },
  {
   "cell_type": "markdown",
   "id": "b9a9b638-0d06-4e66-b68d-2c292ed10666",
   "metadata": {},
   "source": [
    "#### 1.1.2 MSE 10 meter wind direction per time step"
   ]
  },
  {
   "cell_type": "markdown",
   "id": "fb12467d-b16b-44a7-9a6c-3d91fc3017b5",
   "metadata": {},
   "source": [
    "We can observe that has we increase the prediction time of the 10 meter wind direction the error increases with a low of 0.25° and high of 2.04°. Furthermore, we observe that the main error in prediction is concentrated in the coastal stations even at prediction 0, it increases slightly as we increase the time of prediction but remains high across the coastal stations. "
   ]
  },
  {
   "cell_type": "code",
   "execution_count": null,
   "id": "1c3a6ce6-2467-4322-9b92-b6fdcd75857c",
   "metadata": {},
   "outputs": [],
   "source": [
    "min_10wdir = step_hour_group_by['rmse_10wdir'].min()\n",
    "max_10wdir = step_hour_group_by[\"rmse_10wdir\"].max()\n",
    "print(\"min 10wdir: {0} and max 10wdir: {1}\".format(round(min_10wdir,2), round(max_10wdir,2)))"
   ]
  },
  {
   "cell_type": "code",
   "execution_count": null,
   "id": "104e689f-b0ec-4bb2-8be3-e2266ab48e41",
   "metadata": {},
   "outputs": [],
   "source": [
    "plot_map_scatter_plot_with_steps(step_hour_group_by,steps,'rmse_10wdir', '10 meter wind direction RMSE per time step', 'step_hour',color_bar_title='wind direction', tick_suffix = ' rad',  ticks=0.5)"
   ]
  },
  {
   "cell_type": "markdown",
   "id": "e1a5892d-50ec-4263-8cb4-82a2d89f7731",
   "metadata": {},
   "source": [
    "#### 1.1.3 MSE 10 meter wind speed per time step"
   ]
  },
  {
   "cell_type": "markdown",
   "id": "34c0bb80-7abf-4a4b-9500-ee3c15ffdef5",
   "metadata": {},
   "source": [
    "We can observe that the prediction of the 10 meter wind speed is not very much affected by the prediction time with a low of 0.58 m·s⁻¹ and high of 15.18 m·s⁻¹. As we increase the prediction time the error in prediction increases slightly but not significantly."
   ]
  },
  {
   "cell_type": "code",
   "execution_count": null,
   "id": "c0dceb8b-0ffa-47a0-92c8-42daae0d6643",
   "metadata": {},
   "outputs": [],
   "source": [
    "min_10si = step_hour_group_by['rmse_10si'].min()\n",
    "max_10si = step_hour_group_by[\"rmse_10si\"].max()\n",
    "print(\"min 10si: {0} and max 10si: {1}\".format(round(min_10si,2), round(max_10si,2)))"
   ]
  },
  {
   "cell_type": "code",
   "execution_count": null,
   "id": "3a44dc84-3cd5-4473-99d1-0f91dc892536",
   "metadata": {},
   "outputs": [],
   "source": [
    "plot_map_scatter_plot_with_steps(step_hour_group_by,steps, 'rmse_10si', '10 meter wind speed RMSE per time step', 'step_hour',color_bar_title='wind speed', tick_suffix = ' m·s⁻¹', ticks=1)"
   ]
  },
  {
   "cell_type": "markdown",
   "id": "f8b3f9b9-6494-4d3e-9b7b-c2201767e07b",
   "metadata": {},
   "source": [
    "We notice that as we slide the error is concentrated in the station MWN which stays constant around 15m/s. The removal of this stations will be tested to see the more global effect on the other station. "
   ]
  },
  {
   "cell_type": "code",
   "execution_count": null,
   "id": "68d9a763-1869-4726-aa0f-fcf1a60e0887",
   "metadata": {},
   "outputs": [],
   "source": [
    "indexNames = step_hour_group_by[step_hour_group_by['station']=='MWN'].index\n",
    "step_hour_group_by_no_mwn = step_hour_group_by.drop(indexNames)"
   ]
  },
  {
   "cell_type": "code",
   "execution_count": null,
   "id": "f2dc6f84-900b-4ac6-ba01-d5dfae3186c8",
   "metadata": {},
   "outputs": [],
   "source": [
    "plot_map_scatter_plot_with_steps(step_hour_group_by_no_mwn,steps, 'rmse_10si', '10 meter wind speed RMSE per time step - No MWN station', 'step_hour',color_bar_title='wind speed', tick_suffix = ' m·s⁻¹', ticks=1)"
   ]
  },
  {
   "cell_type": "markdown",
   "id": "e876db28-7934-4a0b-8856-121f2776a4e2",
   "metadata": {},
   "source": [
    "We can observe that the prediction of the 10 meter wind speed is not very much affected by the prediction time with a low of 0.58 m·s⁻¹ and high of 4.98 m·s⁻¹. Which is much smaller than a high of 15.18. As we increase the prediction time the error in prediction increases slightly but not significantly."
   ]
  },
  {
   "cell_type": "markdown",
   "id": "037139b8-cd93-4a8f-9cee-f14b1480e33e",
   "metadata": {},
   "source": [
    "#### 1.1.4 MSE 2 meter relative humidity per time step"
   ]
  },
  {
   "cell_type": "markdown",
   "id": "ad70596a-d396-4a4e-b118-3f65830cdc77",
   "metadata": {},
   "source": [
    "We can observe that increasing the time of prediction prior to the true observation increases the error in prediction with a low of 3.18% and high of 23.14% eror in 2 meter relative humidity. It is realively constants across the whole of the stations. The only slight high error rate that stays relatively constant can be observed in the stations concentrated in the ouest cost of US and BC area."
   ]
  },
  {
   "cell_type": "code",
   "execution_count": null,
   "id": "a9e8c2ff-75df-4861-8f08-a1df4d12b307",
   "metadata": {},
   "outputs": [],
   "source": [
    "min_2r = step_hour_group_by['rmse_2r'].min()\n",
    "max_2r = step_hour_group_by[\"rmse_2r\"].max()\n",
    "print(\"min 2r: {0} and max 2r: {1}\".format(round(min_2r,2), round(max_2r,2)))"
   ]
  },
  {
   "cell_type": "code",
   "execution_count": null,
   "id": "9659e0c2-f290-4c55-be8c-c96efe73771a",
   "metadata": {},
   "outputs": [],
   "source": [
    "plot_map_scatter_plot_with_steps(step_hour_group_by, steps, 'rmse_2r', '2 meter relative humidity RMSE per time step', 'step_hour',color_bar_title='relative humidity', tick_suffix = ' %', ticks=3)"
   ]
  },
  {
   "cell_type": "markdown",
   "id": "de9e9f75-17c2-49f6-8c25-0f6d36de8ad0",
   "metadata": {},
   "source": [
    "### 1.2 Visualisation of mse per month\n",
    "In this section we want to visualize the rmse of each station per month. We will therefore group by month and station and mean the rmse error before plotting on a geo scatter plot. We want to visualise if any of the specific measurements increase in specifique month i.e if there is a seasonality involved in the error of prediction. "
   ]
  },
  {
   "cell_type": "code",
   "execution_count": null,
   "id": "53df0628-a884-455a-9ad3-7836fd6fd239",
   "metadata": {},
   "outputs": [],
   "source": [
    "df['month'] = df['date'].dt.month"
   ]
  },
  {
   "cell_type": "code",
   "execution_count": null,
   "id": "ad12570a-e613-41b8-b814-43bf2c8c37ae",
   "metadata": {},
   "outputs": [],
   "source": [
    "months = df['month'].unique().compute().sort_values().apply(lambda x: calendar.month_name[x])\n",
    "month_group_by = df.groupby(['month', 'station']).mean().compute()\n",
    "month_group_by = month_group_by.reset_index()\n",
    "month_group_by['month'] = month_group_by['month'].apply(lambda x: calendar.month_name[x])"
   ]
  },
  {
   "cell_type": "markdown",
   "id": "f60d552d-fb48-48d0-bfc2-6e58b8494512",
   "metadata": {},
   "source": [
    "#### 1.2.1 RMSE 2 meter temperature per month"
   ]
  },
  {
   "cell_type": "markdown",
   "id": "9d6d051a-d6ce-4fab-9a5d-128c2dcca04c",
   "metadata": {},
   "source": [
    "We can observe that the error is higher during the autumn and winter months than during spring and summer. Canadian and mainland ouest US stations seems to have the highest increase in error in the winter months compared to the other stations. With the high and low reported to the 3.81°C and 31.8°C. "
   ]
  },
  {
   "cell_type": "code",
   "execution_count": null,
   "id": "b1b981d3-3166-4e77-9a39-d60dccaae2fd",
   "metadata": {},
   "outputs": [],
   "source": [
    "min_2r = month_group_by['rmse_2r'].min()\n",
    "max_2r = month_group_by[\"rmse_2r\"].max()\n",
    "print(\"min 2r: {0} and max 2r: {1}\".format(round(min_2r,2), round(max_2r,2)))"
   ]
  },
  {
   "cell_type": "code",
   "execution_count": null,
   "id": "175f029e-ef25-4c16-a87a-93f4096fb434",
   "metadata": {},
   "outputs": [],
   "source": [
    "plot_map_scatter_plot_with_steps(month_group_by, months, 'rmse_2t', '2 meter temperature RMSE per time step', 'month', slider_prefix_label='month of prediction: ', slider_suffix_label='', ticks=2)"
   ]
  },
  {
   "cell_type": "markdown",
   "id": "ac4b6f99-a97f-440b-b803-714245b3c11b",
   "metadata": {},
   "source": [
    "#### 1.2.2 MSE 10 meter wind direction per month"
   ]
  },
  {
   "cell_type": "markdown",
   "id": "89f504c0-6005-4bbd-bfb8-6223abddc490",
   "metadata": {},
   "source": [
    "We can observe that there does not seem to be a seasonalit of the error in the 10 meter wind direction. Overall, the error does not vary a lot from one month to the next and is realively constant between stations. Raging from a low of 0.24° to 2 in error°. The slight variation from stations in the error seems to be concentrated with a higher proportion of the error on the coastal stations in the ouest coast. "
   ]
  },
  {
   "cell_type": "code",
   "execution_count": null,
   "id": "ea06f25b-6933-4274-bfe6-1ad290310468",
   "metadata": {},
   "outputs": [],
   "source": [
    "min_10wdir = month_group_by['rmse_10wdir'].min()\n",
    "max_10wdir = month_group_by[\"rmse_10wdir\"].max()\n",
    "print(\"min 10wdir {0} and max 10wdir: {1}\".format(round(min_10wdir,2), round(max_10wdir)))"
   ]
  },
  {
   "cell_type": "code",
   "execution_count": null,
   "id": "36807233-a6b8-4096-8e8b-84ac109d3239",
   "metadata": {},
   "outputs": [],
   "source": [
    "plot_map_scatter_plot_with_steps(month_group_by,months,'rmse_10wdir', '10 meter wind direction RMSE per time step', 'month',color_bar_title='wind direction', tick_suffix = 'rad', slider_prefix_label='month of prediction: ', slider_suffix_label='',  ticks=0.5)"
   ]
  },
  {
   "cell_type": "markdown",
   "id": "48956f57-5258-402e-b65b-0b485c5dc20c",
   "metadata": {},
   "source": [
    "#### 1.2.3 MSE 10 meter wind speed per month"
   ]
  },
  {
   "cell_type": "markdown",
   "id": "afee1165-504d-4a94-8910-8d95dccd1198",
   "metadata": {},
   "source": [
    "We can observe that there is no seasonality in the prediction of 10 meter wind speed. The error is constant across all months. Except for one station which has high error across all months which is MWN station. "
   ]
  },
  {
   "cell_type": "code",
   "execution_count": null,
   "id": "98a5bb9c-10df-4a80-91b8-e1e1af67bd30",
   "metadata": {},
   "outputs": [],
   "source": [
    "min_10si = month_group_by['rmse_10si'].min()\n",
    "max_10si = month_group_by[\"rmse_10si\"].max()\n",
    "print(\"min 10si {0} and max 10si: {1}\".format(round(min_10si,2), round(max_10si)))"
   ]
  },
  {
   "cell_type": "code",
   "execution_count": null,
   "id": "de44060e-e17a-425a-851c-0d5893b2d0a5",
   "metadata": {},
   "outputs": [],
   "source": [
    "plot_map_scatter_plot_with_steps(month_group_by,months, 'rmse_10si', '10 meter wind speed RMSE per time step', 'month',color_bar_title='wind speed', tick_suffix = ' m·s⁻¹', slider_prefix_label='month of prediction: ', slider_suffix_label='', ticks=1)"
   ]
  },
  {
   "cell_type": "markdown",
   "id": "8cc494d8-1e61-4742-a5a7-56a73094b5d3",
   "metadata": {},
   "source": [
    "Given this high error across all MWN stations we will remove this station to visualise the other stations error rate more granuraly. "
   ]
  },
  {
   "cell_type": "code",
   "execution_count": null,
   "id": "36de1282-3c4b-483f-8717-15e19afa1abf",
   "metadata": {},
   "outputs": [],
   "source": [
    "indexNames = month_group_by[month_group_by['station']=='MWN'].index\n",
    "month_group_by_no_mwn = month_group_by.drop(indexNames)"
   ]
  },
  {
   "cell_type": "code",
   "execution_count": null,
   "id": "58227d64-668e-4691-8ede-e927e1d2b66d",
   "metadata": {},
   "outputs": [],
   "source": [
    "plot_map_scatter_plot_with_steps(month_group_by_no_mwn,months, 'rmse_10si', '10 meter wind speed RMSE per time step - No MWN station', 'month',color_bar_title='wind speed', tick_suffix = ' m·s⁻¹', slider_prefix_label='month of prediction: ', slider_suffix_label='', ticks=1)"
   ]
  },
  {
   "cell_type": "markdown",
   "id": "e3e8c909-8a9d-4248-8d08-1a92c20b4c22",
   "metadata": {},
   "source": [
    "We notice that the error does not change drastically or actually very much from one month to the next but with a much smaller high of error of 8 m·s⁻¹ compared to 20 m·s⁻¹. "
   ]
  },
  {
   "cell_type": "markdown",
   "id": "beae467d-84b4-4085-bde2-1693a7fef071",
   "metadata": {},
   "source": [
    "#### 1.2.4 MSE 2 meter relative humidity per time step"
   ]
  },
  {
   "cell_type": "markdown",
   "id": "69792287-ba49-45a2-bf9d-fb691571ce16",
   "metadata": {},
   "source": [
    "We can observe that the sounth of the USA has high error in the prediction of 2 meter relative humidity across all months of the year. We can observe some seasonality in the spring and summer months with an increase in the overall stations. The overall range in error for 2 meter relative humidity is 3.81% and 32%. "
   ]
  },
  {
   "cell_type": "code",
   "execution_count": null,
   "id": "5b5ee1b8-c618-4ceb-8c09-a4bf89a5b14e",
   "metadata": {},
   "outputs": [],
   "source": [
    "min_2r = month_group_by['rmse_2r'].min()\n",
    "max_2r = month_group_by[\"rmse_2r\"].max()\n",
    "print(\"min 2r {0} and max 2r: {1}\".format(round(min_2r,2), round(max_2r)))"
   ]
  },
  {
   "cell_type": "code",
   "execution_count": null,
   "id": "7fbcb507-bd2e-4b1f-b271-b13915e26f97",
   "metadata": {},
   "outputs": [],
   "source": [
    "plot_map_scatter_plot_with_steps(month_group_by, months, 'rmse_2r', '2 meter relative humidity RMSE per time step', 'month',color_bar_title='relative humidity', tick_suffix = ' %', slider_prefix_label='month of prediction: ', slider_suffix_label='',ticks=3)"
   ]
  },
  {
   "cell_type": "code",
   "execution_count": null,
   "id": "82678e82-aba3-4920-a4ec-6fbbbe3d1d26",
   "metadata": {},
   "outputs": [],
   "source": []
  }
 ],
 "metadata": {
  "kernelspec": {
   "display_name": "scm01",
   "language": "python",
   "name": "scm01"
  },
  "language_info": {
   "codemirror_mode": {
    "name": "ipython",
    "version": 3
   },
   "file_extension": ".py",
   "mimetype": "text/x-python",
   "name": "python",
   "nbconvert_exporter": "python",
   "pygments_lexer": "ipython3",
   "version": "3.9.2"
  }
 },
 "nbformat": 4,
 "nbformat_minor": 5
}
