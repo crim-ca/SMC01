{
 "cells": [
  {
   "cell_type": "markdown",
   "metadata": {},
   "source": [
    "# Make backtesting commands\n",
    "\n",
    "Generate the CLI commands that I need to perform backtesting on a series of months."
   ]
  },
  {
   "cell_type": "code",
   "execution_count": null,
   "metadata": {},
   "outputs": [],
   "source": [
    "import os\n",
    "import pathlib\n",
    "import pandas as pd"
   ]
  },
  {
   "cell_type": "code",
   "execution_count": null,
   "outputs": [],
   "source": [
    "DATA_DIR = pathlib.Path(os.getenv('DATA_DIR'))"
   ],
   "metadata": {
    "collapsed": false
   }
  },
  {
   "cell_type": "code",
   "execution_count": null,
   "metadata": {},
   "outputs": [],
   "source": [
    "pd.date_range('2020-08-01', '2021-12-01', freq='1MS')"
   ]
  },
  {
   "cell_type": "markdown",
   "metadata": {},
   "source": [
    "Model version 7 was deployed in July of 2019, so if we begin backtesting on august 2020 we have a full year of training data."
   ]
  },
  {
   "cell_type": "code",
   "execution_count": null,
   "metadata": {},
   "outputs": [],
   "source": [
    "training_lengths = ['30D', '90D', '180D', '270D', '365D']\n",
    "dates = pd.date_range('2020-08-01', '2021-12-01', freq='1MS')\n",
    "for training_length in training_lengths:\n",
    "    for i in range(len(dates) - 1):\n",
    "        train_begin = str(dates[i] - pd.to_timedelta(training_length))[:10]\n",
    "        train_end = str(dates[i])[:10]\n",
    "        val_begin = str(dates[i])[:10]\n",
    "        val_end = str(dates[i+1])[:10]\n",
    "        print(\n",
    "            f'smc01_train experiment=emos_gdps_metar '\n",
    "            f'experiment/dataset=gdps_metar_bootstrap '\n",
    "            f'experiment.timeout_min=120 '\n",
    "            f'logging.mlflow.run_name=emos_backtest_bootstrap_{training_length} '\n",
    "            f'experiment.split.train_begin={train_begin[:10]} '\n",
    "            f'experiment.split.train_end={train_end} '\n",
    "            f'experiment.split.val_begin={val_begin} '\n",
    "            f'experiment.split.val_end={val_end} '\n",
    "            f'hydra/launcher=slurm '\n",
    "            f'-m &'\n",
    "        )\n"
   ]
  },
  {
   "cell_type": "code",
   "execution_count": null,
   "metadata": {},
   "outputs": [],
   "source": [
    "#training_lengths = ['30D', '90D', '180D', '270D', '365D']\n",
    "training_lengths = ['30D']\n",
    "\n",
    "dates = pd.date_range('2020-08-01', '2021-12-01', freq='1MS')\n",
    "for training_length in training_lengths:\n",
    "    for i in range(len(dates) - 1):\n",
    "        train_begin = str(dates[i] - pd.to_timedelta(training_length))[:10]\n",
    "        train_end = str(dates[i])[:10]\n",
    "        val_begin = str(dates[i])[:10]\n",
    "        val_end = str(dates[i+1])[:10]\n",
    "        print(\n",
    "            f'smc01_train experiment=attention_gdps_metar_finetune_backtest '\n",
    "            f'experiment/split=train_7_val_7 '\n",
    "            f'experiment/dataset=gdps_metar_step,gdps_metar_step_bootstrap '\n",
    "            f'logging.mlflow.run_name=attention_finetune_backtest_{training_length} '\n",
    "            f'experiment.split.train_begin={train_begin[:10]} '\n",
    "            f'experiment.split.train_end={train_end} '\n",
    "            f'experiment.split.val_begin={val_begin} '\n",
    "            f'experiment.split.val_end={val_end} '\n",
    "            f'experiment.freeze_upper=True,False '\n",
    "            f'hydra.launcher.mem_gb=30 hydra/launcher=slurm '\n",
    "            f'-m &'\n",
    "        )"
   ]
  },
  {
   "cell_type": "code",
   "execution_count": null,
   "metadata": {},
   "outputs": [],
   "source": [
    "dates = pd.date_range('2020-08-01', '2021-12-01', freq='1MS')\n",
    "for i in range(len(dates) - 1):\n",
    "    train_begin = str(dates[i] - pd.to_timedelta(training_length))[:10]\n",
    "    train_end = str(dates[i])[:10]\n",
    "    val_begin = str(dates[i])[:10]\n",
    "    val_end = str(dates[i+1])[:10]\n",
    "    print(\n",
    "        f'smc01_validate '\n",
    "        f'experiment=raw_model_gdps_metar '\n",
    "        f'experiment/dataset=gdps_metar_bootstrap '\n",
    "        f'experiment.timeout_min=60 '\n",
    "        f'logging.mlflow.run_name=raw_gdps_backtest_bootstrap '\n",
    "        f'experiment.split.val_begin={val_begin} '\n",
    "        f'experiment.split.val_end={val_end} '\n",
    "        f'&&'\n",
    "    )\n"
   ]
  },
  {
   "cell_type": "markdown",
   "metadata": {},
   "source": [
    "# Progressive finetuning"
   ]
  },
  {
   "cell_type": "code",
   "execution_count": null,
   "metadata": {},
   "outputs": [],
   "source": [
    "training_lengths = ['30D', '60D', '90D', '180D', '270D', '365D']\n",
    "train_end = pd.to_datetime('2020-07-01')\n",
    "for max_epochs in [1, 2]:\n",
    "    for training_length in training_lengths:\n",
    "        train_begin = str(train_end - pd.to_timedelta(training_length))[:10]\n",
    "        print(\n",
    "            f'smc01_train '\n",
    "            f'experiment=attention_gdps_metar_finetune_progressive '\n",
    "            f'experiment.max_epochs={max_epochs} '\n",
    "            f'logging.mlflow.run_name=attention_gdps_metar_finetune_progressive_{training_length}_{max_epochs}ep '\n",
    "            f'experiment.timeout_min=1200 experiment.split.train_begin={train_begin[:10]} '\n",
    "            f'hydra/launcher=slurm '\n",
    "            f'-m &'\n",
    "        )\n"
   ]
  },
  {
   "cell_type": "code",
   "execution_count": null,
   "metadata": {},
   "outputs": [],
   "source": [
    "training_lengths = ['30D', '60D', '90D', '180D', '270D', '365D']\n",
    "train_end = pd.to_datetime('2020-07-01')\n",
    "for training_length in training_lengths:\n",
    "    train_begin = str(train_end - pd.to_timedelta(training_length))[:10]\n",
    "    print(\n",
    "        f'smc01_train '\n",
    "        f'experiment=emos_gdps_metar_progressive '\n",
    "        f'experiment.max_epochs=1 '\n",
    "        f'experiment/dataset=gdps_metar_bootstrap '\n",
    "        f'logging.mlflow.run_name=emosgdps_metar_progressive_{training_length}_1ep '\n",
    "        f'experiment.timeout_min=1200 '\n",
    "        f'experiment.split.train_begin={train_begin[:10]} '\n",
    "        f'hydra/launcher=slurm '\n",
    "        f'-m &'\n",
    "    )\n"
   ]
  },
  {
   "cell_type": "markdown",
   "metadata": {},
   "source": [
    "## Progressive with val"
   ]
  },
  {
   "cell_type": "code",
   "execution_count": null,
   "metadata": {},
   "outputs": [],
   "source": [
    "training_lengths = [30, 60, 90, 180, 270, 365, 700]\n",
    "test_begin = pd.to_datetime('2020-12-01')\n",
    "for training_length in training_lengths:\n",
    "    val_end = str(test_begin)[:10]\n",
    "    val_begin = str(test_begin - pd.to_timedelta(int(training_length * 0.2), unit='D'))[:10]\n",
    "    train_end = str(val_begin)[:10]\n",
    "    train_begin = str(test_begin - pd.to_timedelta(int(training_length), unit='D'))[:10]\n",
    "    print(\n",
    "        f'smc01_train '\n",
    "        f'experiment=attention_gdps_metar_finetune '\n",
    "        f'logging.mlflow.run_name=attention_gdps_metar_finetune_progressive_{training_length}_wval '\n",
    "        f'experiment.freeze_upper=True experiment.timeout_min=1200 '\n",
    "        f'experiment.split.train_begin={train_begin} '\n",
    "        f'experiment.split.train_end={train_end} '\n",
    "        f'experiment.split.val_begin={val_begin} '\n",
    "        f'experiment.split.val_end={val_end} '\n",
    "        f'hydra/launcher=slurm '\n",
    "        f'-m &'\n",
    "    )\n"
   ]
  },
  {
   "cell_type": "code",
   "execution_count": null,
   "metadata": {},
   "outputs": [],
   "source": [
    "training_lengths = [30, 60, 90, 180, 270, 365, 700]\n",
    "test_begin = pd.to_datetime('2020-12-01')\n",
    "for training_length in training_lengths:\n",
    "    val_end = str(test_begin)[:10]\n",
    "    val_begin = str(test_begin - pd.to_timedelta(int(training_length * 0.2), unit='D'))[:10]\n",
    "    train_end = str(val_begin)[:10]\n",
    "    train_begin = str(test_begin - pd.to_timedelta(int(training_length), unit='D'))[:10]\n",
    "    print(\n",
    "        f'smc01_train '\n",
    "        f'experiment=emos_gdps_metar_progressive '\n",
    "        f'experiment/dataset=gdps_metar_bootstrap '\n",
    "        f'logging.mlflow.run_name=emosgdps_metar_progressive_{training_length}_wval '\n",
    "        f'experiment.timeout_min=1200 experiment.split.train_begin={train_begin} '\n",
    "        f'experiment.split.train_end={train_end} '\n",
    "        f'experiment.split.val_begin={val_begin} '\n",
    "        f'experiment.split.val_end={val_end} '\n",
    "        f'hydra/launcher=slurm '\n",
    "        f'-m &'\n",
    "    )\n"
   ]
  },
  {
   "cell_type": "markdown",
   "metadata": {},
   "source": [
    "## Re evaluations"
   ]
  },
  {
   "cell_type": "code",
   "execution_count": null,
   "metadata": {},
   "outputs": [],
   "source": [
    "tags = {\n",
    "    30: DATA_DIR / 'runs/postprocessing/multirun/2022-05-28/23-02-34/4846114',\n",
    "    60: DATA_DIR / 'runs/postprocessing/multirun/2022-05-28/23-02-34/4846110',\n",
    "    90: DATA_DIR / 'runs/postprocessing/multirun/2022-05-28/23-07-57/4846117',\n",
    "    180: DATA_DIR / 'runs/postprocessing/multirun/2022-05-28/23-02-34/4846112',\n",
    "    270: DATA_DIR / 'runs/postprocessing/multirun/2022-05-28/23-02-34/4846113',\n",
    "    365: DATA_DIR / 'runs/postprocessing/multirun/2022-05-28/23-02-34/4846111',\n",
    "}"
   ]
  },
  {
   "cell_type": "code",
   "execution_count": null,
   "metadata": {},
   "outputs": [],
   "source": [
    "for duration, checkpoint in tags.items():\n",
    "    print(\n",
    "        f'smc01_validate '\n",
    "        f'experiment=emos_gdps_metar_progressive '\n",
    "        f'checkpoint_path={checkpoint} '\n",
    "        f'logging.mlflow.experiment_name=SMC01_CMOS_REVAL '\n",
    "        f'logging.mlflow.run_name=emos_gdps_metar_progressive_wval_{duration}_1feature'\n",
    "    )"
   ]
  },
  {
   "cell_type": "markdown",
   "metadata": {},
   "source": [
    "### Attention"
   ]
  },
  {
   "cell_type": "code",
   "execution_count": null,
   "metadata": {},
   "outputs": [],
   "source": [
    "tags = {\n",
    "    30: DATA_DIR / 'runs/postprocessing/multirun/2022-05-28/19-22-25/4845695',\n",
    "    60: DATA_DIR / 'runs/postprocessing/multirun/2022-05-28/19-22-25/4845694',\n",
    "    90: DATA_DIR / 'runs/postprocessing/multirun/2022-05-28/19-22-25/4845693',\n",
    "    180: DATA_DIR / 'runs/postprocessing/multirun/2022-05-28/19-22-25/4845691',\n",
    "    270: DATA_DIR / 'runs/postprocessing/multirun/2022-05-28/19-22-25/4845690',\n",
    "    365: DATA_DIR / 'runs/postprocessing/multirun/2022-05-28/19-22-25/4845692',\n",
    "    700: DATA_DIR / 'runs/postprocessing/multirun/2022-05-29/11-17-30/4847953',\n",
    "}"
   ]
  },
  {
   "cell_type": "code",
   "execution_count": null,
   "metadata": {},
   "outputs": [],
   "source": [
    "for duration, checkpoint in tags.items():\n",
    "    print(\n",
    "        f'smc01_validate '\n",
    "        f'experiment=attention_gdps_metar_finetune_progressive '\n",
    "        f'checkpoint_path={checkpoint} '\n",
    "        f'logging.mlflow.experiment_name=SMC01_CMOS_REVAL '\n",
    "        f'logging.mlflow.run_name=attention_gdps_metar_finetune_progressive_{duration}'\n",
    "    )"
   ]
  },
  {
   "cell_type": "markdown",
   "metadata": {},
   "source": [
    "### Attention with freeze upper"
   ]
  },
  {
   "cell_type": "code",
   "execution_count": null,
   "metadata": {},
   "outputs": [],
   "source": [
    "tags = {\n",
    "    30: DATA_DIR / 'runs/postprocessing/multirun/2022-05-28/20-15-18/4845783',\n",
    "    60: DATA_DIR / 'runs/postprocessing/multirun/2022-05-28/20-12-07/4845779',\n",
    "    90: DATA_DIR / 'runs/postprocessing/multirun/2022-05-28/20-15-18/4845784',\n",
    "    180: DATA_DIR / 'runs/postprocessing/multirun/2022-05-28/20-15-18/4845786',\n",
    "    270: DATA_DIR / 'runs/postprocessing/multirun/2022-05-28/20-12-07/4845777',\n",
    "    365: DATA_DIR / 'runs/postprocessing/multirun/2022-05-28/20-12-07/4845780',\n",
    "}"
   ]
  },
  {
   "cell_type": "code",
   "execution_count": null,
   "metadata": {
    "pycharm": {
     "is_executing": true
    }
   },
   "outputs": [],
   "source": [
    "for duration, checkpoint in tags.items():\n",
    "    print(\n",
    "        f'smc01_validate '\n",
    "        f'experiment=attention_gdps_metar_finetune_progressive '\n",
    "        f'checkpoint_path={checkpoint} '\n",
    "        f'logging.mlflow.experiment_name=SMC01_CMOS_REVAL '\n",
    "        f'logging.mlflow.run_name=attention_gdps_metar_finetune_progressive_{duration}_freeze_upper'\n",
    "    )"
   ]
  },
  {
   "cell_type": "markdown",
   "metadata": {},
   "source": [
    "### Attention with epoch limit"
   ]
  },
  {
   "cell_type": "code",
   "execution_count": null,
   "metadata": {},
   "outputs": [],
   "source": [
    "runs = [\n",
    "    DATA_DIR / 'runs/postprocessing/multirun/2022-05-29/11-41-06/4847998',\n",
    "    DATA_DIR / 'runs/postprocessing/multirun/2022-05-29/11-40-55/4847997',\n",
    "    DATA_DIR / 'runs/postprocessing/multirun/2022-05-29/11-40-34/4847996',\n",
    "]"
   ]
  },
  {
   "cell_type": "code",
   "execution_count": null,
   "metadata": {},
   "outputs": [],
   "source": [
    "for r in runs:\n",
    "    print(\n",
    "        f'smc01_validate '\n",
    "        f'experiment=attention_gdps_metar_finetune_progressive '\n",
    "        f'checkpoint_path={r} '\n",
    "        f'logging.mlflow.experiment_name=SMC01_CMOS_REVAL '\n",
    "        f'logging.mlflow.run_name=attention_gdps_metar_finetune_progressive_30_freeze_upper'\n",
    "    )"
   ]
  },
  {
   "cell_type": "code",
   "execution_count": null,
   "metadata": {},
   "outputs": [],
   "source": []
  }
 ],
 "metadata": {
  "kernelspec": {
   "display_name": "SMC01",
   "language": "python",
   "name": "smc01"
  },
  "language_info": {
   "codemirror_mode": {
    "name": "ipython",
    "version": 3
   },
   "file_extension": ".py",
   "mimetype": "text/x-python",
   "name": "python",
   "nbconvert_exporter": "python",
   "pygments_lexer": "ipython3",
   "version": "3.9.13"
  }
 },
 "nbformat": 4,
 "nbformat_minor": 4
}
