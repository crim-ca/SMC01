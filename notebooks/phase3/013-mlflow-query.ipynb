{
 "cells": [
  {
   "cell_type": "code",
   "execution_count": null,
   "metadata": {},
   "outputs": [],
   "source": [
    "%load_ext autoreload\n",
    "%autoreload 2"
   ]
  },
  {
   "cell_type": "code",
   "execution_count": null,
   "metadata": {},
   "outputs": [],
   "source": [
    "import hydra\n",
    "import mlflow\n",
    "import os\n",
    "import pathlib\n",
    "import pandas as pd\n",
    "import plotly.express as px"
   ]
  },
  {
   "cell_type": "code",
   "execution_count": null,
   "outputs": [],
   "source": [
    "DATA_DIR = pathlib.Path(os.getenv('DATA_DIR'))"
   ],
   "metadata": {
    "collapsed": false
   }
  },
  {
   "cell_type": "code",
   "execution_count": null,
   "metadata": {},
   "outputs": [],
   "source": [
    "with hydra.initialize_config_module('smc01.postprocessing.conf'):\n",
    "    cfg = hydra.compose('train')"
   ]
  },
  {
   "cell_type": "code",
   "execution_count": null,
   "metadata": {},
   "outputs": [],
   "source": [
    "cfg.logging"
   ]
  },
  {
   "cell_type": "code",
   "execution_count": null,
   "metadata": {},
   "outputs": [],
   "source": [
    "client = mlflow.tracking.client.MlflowClient(tracking_uri=cfg.logging.mlflow.tracking_uri)"
   ]
  },
  {
   "cell_type": "code",
   "execution_count": null,
   "metadata": {},
   "outputs": [],
   "source": [
    "def runs_to_df(runs):\n",
    "    rows = []\n",
    "    for r in runs:\n",
    "        rmse_history = client.get_metric_history(r.info.run_id, 'Val/RMSE')\n",
    "\n",
    "        min_rmse = min(rmse_history, key=lambda x: x.value) if len(rmse_history) > 0 else None\n",
    "\n",
    "\n",
    "        rows.append({\n",
    "            'model': r.data.params['model/_target_'].split('.')[-1],\n",
    "            'train_begin': r.data.params['train_begin'],\n",
    "            'min_rmse': min_rmse.value if min_rmse else None,\n",
    "            'start_time': r.info.start_time,\n",
    "            'station_subset': r.data.params.get('dataset/station_set_file', ''),\n",
    "        })\n",
    "        \n",
    "    df = pd.DataFrame(rows)\n",
    "    df['start_time'] = pd.to_datetime(df['start_time'], unit='ms')\n",
    "        \n",
    "    return df"
   ]
  },
  {
   "cell_type": "code",
   "execution_count": null,
   "metadata": {},
   "outputs": [],
   "source": [
    "raw_model_runs = client.search_runs(\n",
    "    experiment_ids=\"2\",\n",
    "    filter_string=\"tags.`mlflow.runName`='raw_model_gdps_metar'\",\n",
    "    run_view_type=mlflow.entities.ViewType.ACTIVE_ONLY,\n",
    ")"
   ]
  },
  {
   "cell_type": "code",
   "execution_count": null,
   "metadata": {},
   "outputs": [],
   "source": [
    "attention_runs = client.search_runs(\n",
    "    experiment_ids=\"2\",\n",
    "    filter_string=\"tags.`mlflow.runName`='attention_gdps_metar_finetune'\",\n",
    "    run_view_type=mlflow.entities.ViewType.ACTIVE_ONLY,\n",
    ")"
   ]
  },
  {
   "cell_type": "code",
   "execution_count": null,
   "metadata": {},
   "outputs": [],
   "source": [
    "attention_runs_2 = client.search_runs(\n",
    "    experiment_ids=\"2\",\n",
    "    filter_string=\"tags.`mlflow.runName`='attention_gdps_metar'\",\n",
    "    run_view_type=mlflow.entities.ViewType.ACTIVE_ONLY,\n",
    ")"
   ]
  },
  {
   "cell_type": "code",
   "execution_count": null,
   "metadata": {},
   "outputs": [],
   "source": [
    "mos_runs = client.search_runs(\n",
    "    experiment_ids=\"2\",\n",
    "    filter_string=\"tags.`mlflow.runName`='emos_gdps_metar' params.n_features='1'\",\n",
    "    run_view_type=mlflow.entities.ViewType.ACTIVE_ONLY,\n",
    ")"
   ]
  },
  {
   "cell_type": "code",
   "execution_count": null,
   "metadata": {},
   "outputs": [],
   "source": [
    "dfs = [\n",
    "    runs_to_df(attention_runs),\n",
    "    runs_to_df(attention_runs_2),\n",
    "    runs_to_df(mos_runs),\n",
    "]"
   ]
  },
  {
   "cell_type": "code",
   "execution_count": null,
   "metadata": {},
   "outputs": [],
   "source": [
    "raw_model_runs = client.search_runs(\n",
    "    experiment_ids=\"2\",\n",
    "    filter_string=f\"tags.`mlflow.runName`='raw_model_gdps_metar' params.`dataset.station_set_file`='{DATA_DIR!s}/bootstrap_set.csv'\",\n",
    "    run_view_type=mlflow.entities.ViewType.ACTIVE_ONLY,\n",
    ")"
   ]
  },
  {
   "cell_type": "code",
   "execution_count": null,
   "metadata": {},
   "outputs": [],
   "source": [
    "raw_model_metric = raw_model_runs[0].data.metrics['Val/RMSE']"
   ]
  },
  {
   "cell_type": "code",
   "execution_count": null,
   "metadata": {},
   "outputs": [],
   "source": [
    "raw_model_metric"
   ]
  },
  {
   "cell_type": "code",
   "execution_count": null,
   "metadata": {},
   "outputs": [],
   "source": [
    "df = pd.concat(dfs)"
   ]
  },
  {
   "cell_type": "code",
   "execution_count": null,
   "metadata": {},
   "outputs": [],
   "source": [
    "df"
   ]
  },
  {
   "cell_type": "code",
   "execution_count": null,
   "metadata": {},
   "outputs": [],
   "source": [
    "df = df[(df['start_time'] > '2022-05-01') & (df['station_subset'] == str(DATA_DIR / 'bootstrap_set.csv'))]"
   ]
  },
  {
   "cell_type": "code",
   "execution_count": null,
   "metadata": {},
   "outputs": [],
   "source": [
    "fig = px.scatter(data_frame=df, x='train_begin', y='min_rmse', color='model', labels={'min_rmse': 'RMSE on validation set (°C)'}, title='Validation loss for post-processing models on GDPS data')\n",
    "fig.add_hline(y=raw_model_metric, annotation_text='Raw GDPS')"
   ]
  },
  {
   "cell_type": "code",
   "execution_count": null,
   "metadata": {},
   "outputs": [],
   "source": []
  }
 ],
 "metadata": {
  "kernelspec": {
   "display_name": "SMC01",
   "language": "python",
   "name": "smc01"
  },
  "language_info": {
   "codemirror_mode": {
    "name": "ipython",
    "version": 3
   },
   "file_extension": ".py",
   "mimetype": "text/x-python",
   "name": "python",
   "nbconvert_exporter": "python",
   "pygments_lexer": "ipython3",
   "version": "3.9.2"
  }
 },
 "nbformat": 4,
 "nbformat_minor": 4
}
