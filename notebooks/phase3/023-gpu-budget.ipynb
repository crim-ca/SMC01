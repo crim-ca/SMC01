{
 "cells": [
  {
   "cell_type": "code",
   "execution_count": null,
   "metadata": {},
   "outputs": [],
   "source": [
    "%load_ext autoreload\n",
    "%autoreload 2"
   ]
  },
  {
   "cell_type": "code",
   "execution_count": null,
   "metadata": {},
   "outputs": [],
   "source": [
    "import hydra\n",
    "import mlflow\n",
    "import pandas as pd\n",
    "import plotly.express as px"
   ]
  },
  {
   "cell_type": "code",
   "execution_count": null,
   "metadata": {},
   "outputs": [],
   "source": [
    "with hydra.initialize_config_module('smc01.postprocessing.conf'):\n",
    "    cfg = hydra.compose('train')"
   ]
  },
  {
   "cell_type": "code",
   "execution_count": null,
   "metadata": {},
   "outputs": [],
   "source": [
    "client = mlflow.tracking.client.MlflowClient(tracking_uri=cfg.logging.mlflow.tracking_uri)"
   ]
  },
  {
   "cell_type": "code",
   "execution_count": null,
   "metadata": {},
   "outputs": [],
   "source": [
    "def runs_to_df(runs):\n",
    "    rows = []\n",
    "    for r in runs:\n",
    "        rmse_history = client.get_metric_history(r.info.run_id, 'Val/RMSE')\n",
    "\n",
    "        min_rmse = min(rmse_history, key=lambda x: x.value) if len(rmse_history) > 0 else None\n",
    "\n",
    "\n",
    "        rows.append({\n",
    "            'model': r.data.params.get('model._target_', r.data.params.get('model/_target_', '')).split('.')[-1],\n",
    "            'train_begin': r.data.params.get('split.train_begin', r.data.params.get('split/train_begin', '')),\n",
    "            'val_begin': r.data.params.get('split.val_begin', r.data.params.get('split/val_begin', '')),\n",
    "            'min_rmse': min_rmse.value if min_rmse else None,\n",
    "            'start_time': r.info.start_time,\n",
    "            'end_time': r.info.end_time,\n",
    "            'station_subset': r.data.params.get('dataset/station_set_file', r.data.params.get('dataset.station_set_file', '')),\n",
    "            'run_name': r.data.tags['mlflow.runName'],\n",
    "            'freeze_upper': 'True' == r.data.params.get('freeze_upper', False),\n",
    "            'split_name': r.data.params.get('split.name', ''),\n",
    "            \n",
    "        })\n",
    "        \n",
    "    df = pd.DataFrame(rows)\n",
    "    df['start_time'] = pd.to_datetime(df['start_time'], unit='ms')\n",
    "    df['end_time'] = pd.to_datetime(df['end_time'], unit='ms')\n",
    "\n",
    "        \n",
    "    return df"
   ]
  },
  {
   "cell_type": "code",
   "execution_count": null,
   "metadata": {},
   "outputs": [],
   "source": [
    "exp_02_runs = client.search_runs(\n",
    "    experiment_ids=\"2\",\n",
    "    filter_string=\"\",\n",
    "    run_view_type=mlflow.entities.ViewType.ACTIVE_ONLY,\n",
    ")"
   ]
  },
  {
   "cell_type": "code",
   "execution_count": null,
   "metadata": {},
   "outputs": [],
   "source": [
    "exp_10_runs = client.search_runs(\n",
    "    experiment_ids=\"10\",\n",
    "    filter_string=\"\",\n",
    "    run_view_type=mlflow.entities.ViewType.ACTIVE_ONLY,\n",
    ")"
   ]
  },
  {
   "cell_type": "code",
   "execution_count": null,
   "metadata": {},
   "outputs": [],
   "source": [
    "df = pd.concat([runs_to_df(exp_02_runs), runs_to_df(exp_10_runs)])"
   ]
  },
  {
   "cell_type": "code",
   "execution_count": null,
   "metadata": {},
   "outputs": [],
   "source": [
    "df['duration'] = df['end_time'] - df['start_time']"
   ]
  },
  {
   "cell_type": "code",
   "execution_count": null,
   "metadata": {},
   "outputs": [],
   "source": [
    "df.sum()"
   ]
  },
  {
   "cell_type": "code",
   "execution_count": null,
   "metadata": {},
   "outputs": [],
   "source": []
  }
 ],
 "metadata": {
  "kernelspec": {
   "display_name": "SMC01",
   "language": "python",
   "name": "smc01"
  },
  "language_info": {
   "codemirror_mode": {
    "name": "ipython",
    "version": 3
   },
   "file_extension": ".py",
   "mimetype": "text/x-python",
   "name": "python",
   "nbconvert_exporter": "python",
   "pygments_lexer": "ipython3",
   "version": "3.9.2"
  }
 },
 "nbformat": 4,
 "nbformat_minor": 4
}
