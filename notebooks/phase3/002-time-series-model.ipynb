{
 "cells": [
  {
   "cell_type": "markdown",
   "metadata": {},
   "source": [
    "# Time series model\n",
    "\n",
    "Experiment to build a simple time-series based model for the post-processing problem.\n",
    "The baseline is persistence: predict the same bias we had recently."
   ]
  },
  {
   "cell_type": "code",
   "execution_count": null,
   "metadata": {},
   "outputs": [],
   "source": [
    "%load_ext autoreload\n",
    "%autoreload 2"
   ]
  },
  {
   "cell_type": "code",
   "execution_count": null,
   "metadata": {},
   "outputs": [],
   "source": [
    "import hydra\n",
    "import matplotlib.pyplot as plt\n",
    "import numpy as np\n",
    "import pandas as pd\n",
    "import plotly.express as px\n",
    "import tqdm.notebook as tqdm\n",
    "import xarray as xr"
   ]
  },
  {
   "cell_type": "code",
   "execution_count": null,
   "metadata": {},
   "outputs": [],
   "source": [
    "from smc01.postprocessing.dataset import SMCParquetDataset\n",
    "from smc01.postprocessing.transform import DataframeToXarray"
   ]
  },
  {
   "cell_type": "code",
   "execution_count": null,
   "metadata": {},
   "outputs": [],
   "source": [
    "with hydra.initialize_config_module('smc01.postprocessing.conf'):\n",
    "    cfg = hydra.compose('validate', [\n",
    "        'experiment/dataset=gdps_metar_timeseries_xarray',\n",
    "        'experiment.dataset.begin=2019-02-01',\n",
    "        'experiment.dataset.end=2020-01-01',\n",
    "        'experiment.dataset.max_window_size=30',\n",
    "    ])"
   ]
  },
  {
   "cell_type": "code",
   "execution_count": null,
   "metadata": {},
   "outputs": [],
   "source": [
    "d = hydra.utils.instantiate(cfg.experiment.dataset)"
   ]
  },
  {
   "cell_type": "code",
   "execution_count": null,
   "metadata": {},
   "outputs": [],
   "source": [
    "d[0]"
   ]
  },
  {
   "cell_type": "code",
   "execution_count": null,
   "metadata": {},
   "outputs": [],
   "source": [
    "small_series = d[0]"
   ]
  },
  {
   "cell_type": "code",
   "execution_count": null,
   "metadata": {},
   "outputs": [],
   "source": [
    "bias = small_series.obs_2t - small_series.gdps_2t"
   ]
  },
  {
   "cell_type": "code",
   "execution_count": null,
   "metadata": {},
   "outputs": [],
   "source": [
    "bias.mean(dim='station').assign_coords(step=bias.step.astype(float)).plot()"
   ]
  },
  {
   "cell_type": "markdown",
   "metadata": {},
   "source": [
    "## Simple persistence model"
   ]
  },
  {
   "cell_type": "code",
   "execution_count": null,
   "metadata": {},
   "outputs": [],
   "source": [
    "target_date = batch.date[-1]\n",
    "obs_exists_mask = batch.obs_valid < target_date"
   ]
  },
  {
   "cell_type": "code",
   "execution_count": null,
   "metadata": {},
   "outputs": [],
   "source": []
  },
  {
   "cell_type": "code",
   "execution_count": null,
   "metadata": {},
   "outputs": [],
   "source": [
    "obs - forecast"
   ]
  },
  {
   "cell_type": "code",
   "execution_count": null,
   "metadata": {},
   "outputs": [],
   "source": [
    "raw_error"
   ]
  },
  {
   "cell_type": "code",
   "execution_count": null,
   "metadata": {},
   "outputs": [],
   "source": [
    "batch.gdps_2t.isel(date=-1)"
   ]
  },
  {
   "cell_type": "code",
   "execution_count": null,
   "metadata": {},
   "outputs": [],
   "source": [
    "bias"
   ]
  },
  {
   "cell_type": "code",
   "execution_count": null,
   "metadata": {},
   "outputs": [],
   "source": [
    "obs_exists_mask"
   ]
  },
  {
   "cell_type": "code",
   "execution_count": null,
   "metadata": {},
   "outputs": [],
   "source": [
    "error_dfs = []\n",
    "\n",
    "for batch in tqdm.tqdm(d):\n",
    "    forecast = batch.gdps_2t.isel(date=-1)\n",
    "    obs = batch.obs_2t.isel(date=-1)\n",
    "    \n",
    "    target_date = batch.date[-1]\n",
    "    obs_exists_mask = batch.obs_valid < target_date\n",
    "    bias = batch.gdps_2t - batch.obs_2t.where(obs_exists_mask)\n",
    "    bias = bias.mean(dim='date', skipna=True)\n",
    "    \n",
    "    corrected_forecast = forecast - bias\n",
    "    \n",
    "    corrected_error = obs - corrected_forecast\n",
    "    raw_error = obs - forecast\n",
    "    \n",
    "    error_df = np.square(corrected_error).mean(dim=['station']).to_dataframe(name='corrected_squared_error')   \n",
    "    error_df['raw_squared_error'] = np.square(raw_error).mean(dim=['station'])\n",
    "    \n",
    "    error_dfs.append(error_df)"
   ]
  },
  {
   "cell_type": "code",
   "execution_count": null,
   "metadata": {},
   "outputs": [],
   "source": [
    "error_df = pd.concat(error_dfs)"
   ]
  },
  {
   "cell_type": "code",
   "execution_count": null,
   "metadata": {},
   "outputs": [],
   "source": [
    "error_df_melt = error_df.reset_index().melt(id_vars=['date', 'step'], value_vars=['corrected_squared_error', 'raw_squared_error'])"
   ]
  },
  {
   "cell_type": "code",
   "execution_count": null,
   "metadata": {},
   "outputs": [],
   "source": [
    "grouped_error_df = np.sqrt(error_df_melt.groupby(['variable', 'step']).mean()).reset_index()"
   ]
  },
  {
   "cell_type": "code",
   "execution_count": null,
   "metadata": {},
   "outputs": [],
   "source": [
    "px.line(data_frame=grouped_error_df, x='step', y='value', color='variable', title='Error of persistence model and raw model (2019)', labels={'value': 'Average Error (°C)'})"
   ]
  },
  {
   "cell_type": "code",
   "execution_count": null,
   "metadata": {},
   "outputs": [],
   "source": []
  }
 ],
 "metadata": {
  "kernelspec": {
   "display_name": "SMC01",
   "language": "python",
   "name": "smc01"
  },
  "language_info": {
   "codemirror_mode": {
    "name": "ipython",
    "version": 3
   },
   "file_extension": ".py",
   "mimetype": "text/x-python",
   "name": "python",
   "nbconvert_exporter": "python",
   "pygments_lexer": "ipython3",
   "version": "3.9.2"
  }
 },
 "nbformat": 4,
 "nbformat_minor": 4
}
