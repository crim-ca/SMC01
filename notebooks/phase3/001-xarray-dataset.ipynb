{
 "cells": [
  {
   "cell_type": "markdown",
   "metadata": {},
   "source": [
    "# Xarray dataset\n",
    "\n",
    "I want a version of the dataset where the output is an big Xarray instead of a DataFrame.\n",
    "This makes time series models easier to implement."
   ]
  },
  {
   "cell_type": "code",
   "execution_count": null,
   "metadata": {},
   "outputs": [],
   "source": [
    "%load_ext autoreload\n",
    "%autoreload 2"
   ]
  },
  {
   "cell_type": "code",
   "execution_count": null,
   "metadata": {},
   "outputs": [],
   "source": [
    "import datetime\n",
    "import hydra\n",
    "import os\n",
    "import pathlib\n",
    "import pandas as pd\n",
    "import xarray as xr"
   ]
  },
  {
   "cell_type": "code",
   "execution_count": null,
   "metadata": {},
   "outputs": [],
   "source": [
    "from smc01.postprocessing.dataset import SMCTimeSeriesDataset\n",
    "from smc01.postprocessing.transform import CompositeTransform, DataframeToXarray, TimeseriesXarrayToExample"
   ]
  },
  {
   "cell_type": "code",
   "execution_count": null,
   "outputs": [],
   "source": [
    "DATA_DIR = pathlib.Path(os.getenv('DATA_DIR'))"
   ],
   "metadata": {
    "collapsed": false
   }
  },
  {
   "cell_type": "code",
   "execution_count": null,
   "metadata": {},
   "outputs": [],
   "source": [
    "window_size = 30\n",
    "t = CompositeTransform([\n",
    "    DataframeToXarray(ensure_n_dates=window_size)\n",
    "])\n",
    "d = SMCTimeSeriesDataset(\n",
    "    dataset_dir=DATA_DIR / 'interpolated/2021-12-20-gdps-metar/',\n",
    "    transform=t,\n",
    "    max_window_size=window_size,\n",
    "    begin='2021-05-01',\n",
    "    end='2021-06-01',\n",
    ")"
   ]
  },
  {
   "cell_type": "code",
   "execution_count": null,
   "metadata": {},
   "outputs": [],
   "source": [
    "d[0]"
   ]
  },
  {
   "cell_type": "markdown",
   "metadata": {},
   "source": [
    "## Convert time series Xarray to PyTorch"
   ]
  },
  {
   "cell_type": "code",
   "execution_count": null,
   "metadata": {},
   "outputs": [],
   "source": [
    "window_size = 30\n",
    "t = CompositeTransform([\n",
    "    DataframeToXarray(ensure_n_dates=window_size),\n",
    "    TimeseriesXarrayToExample(filter_nan_stations=True)\n",
    "])\n",
    "d = SMCTimeSeriesDataset(\n",
    "    dataset_dir=DATA_DIR / 'interpolated/2021-12-20-gdps-metar/',\n",
    "    transform=t,\n",
    "    max_window_size=window_size,\n",
    "    begin='2021-05-01',\n",
    "    end='2021-06-01',\n",
    ")"
   ]
  },
  {
   "cell_type": "code",
   "execution_count": null,
   "metadata": {},
   "outputs": [],
   "source": [
    "d[0].keys()"
   ]
  },
  {
   "cell_type": "code",
   "execution_count": null,
   "metadata": {},
   "outputs": [],
   "source": []
  }
 ],
 "metadata": {
  "kernelspec": {
   "display_name": "SMC01",
   "language": "python",
   "name": "smc01"
  },
  "language_info": {
   "codemirror_mode": {
    "name": "ipython",
    "version": 3
   },
   "file_extension": ".py",
   "mimetype": "text/x-python",
   "name": "python",
   "nbconvert_exporter": "python",
   "pygments_lexer": "ipython3",
   "version": "3.9.2"
  }
 },
 "nbformat": 4,
 "nbformat_minor": 4
}
