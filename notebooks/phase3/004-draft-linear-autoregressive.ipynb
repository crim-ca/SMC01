{
 "cells": [
  {
   "cell_type": "markdown",
   "metadata": {},
   "source": [
    "# Linear auto-regressive model\n",
    "\n",
    "A linear model that only looks at the recent forecasts to make a prediction on the current one.\n",
    "It needs a new dataloader which outputs a window of forecasts instead of only one forecast."
   ]
  },
  {
   "cell_type": "code",
   "execution_count": null,
   "metadata": {},
   "outputs": [],
   "source": [
    "%load_ext autoreload\n",
    "%autoreload 2"
   ]
  },
  {
   "cell_type": "code",
   "execution_count": null,
   "metadata": {},
   "outputs": [],
   "source": [
    "import datetime\n",
    "import hydra\n",
    "import numpy as np\n",
    "import pandas as pd\n",
    "import pathlib\n",
    "import torch\n",
    "import torch.nn as nn\n",
    "\n",
    "import xarray as xr"
   ]
  },
  {
   "cell_type": "code",
   "execution_count": null,
   "metadata": {},
   "outputs": [],
   "source": [
    "from smc01.postprocessing.dataset import SMCTimeSeriesDataset\n",
    "from smc01.postprocessing.transform import CompositeTransform, DataframeToXarray, DataframeToExample"
   ]
  },
  {
   "cell_type": "code",
   "execution_count": null,
   "metadata": {},
   "outputs": [],
   "source": [
    "with hydra.initialize_config_module('smc01.postprocessing.conf'):\n",
    "    cfg = hydra.compose('validate', [\n",
    "        'experiment/dataset=gdps_metar_timeseries',\n",
    "        'experiment.dataset.begin=2019-02-01',\n",
    "        'experiment.dataset.end=2020-01-01',\n",
    "        'experiment.dataset.max_window_size=30',\n",
    "    ])"
   ]
  },
  {
   "cell_type": "code",
   "execution_count": null,
   "metadata": {},
   "outputs": [],
   "source": [
    "d = hydra.utils.instantiate(cfg.experiment.dataset)"
   ]
  },
  {
   "cell_type": "code",
   "execution_count": null,
   "metadata": {},
   "outputs": [],
   "source": [
    "d[0].keys()"
   ]
  },
  {
   "cell_type": "code",
   "execution_count": null,
   "metadata": {},
   "outputs": [],
   "source": [
    "class LinearTimeSeriesModel(nn.Module):\n",
    "    def __init__(self, n_stations, n_steps, window_size, n_features):\n",
    "        super().__init__()\n",
    "        self.weights = nn.Parameter(torch.zeros(window_size, n_stations, n_steps, n_features))\n",
    "        self.bias = nn.Parameter(torch.zeros(n_stations, n_steps))\n",
    "        \n",
    "    def forward(self, example):\n",
    "        features = torch.nan_to_num(example['features'])\n",
    "        \n",
    "        linear = (features * self.weights).mean(dim=[0, -1])\n",
    "                \n",
    "        prediction = torch.where(\n",
    "            ~example['forecast'].isnan(),\n",
    "            example['forecast'] + linear - self.bias,\n",
    "            0.0\n",
    "        )\n",
    "                \n",
    "        return prediction\n"
   ]
  },
  {
   "cell_type": "code",
   "execution_count": null,
   "metadata": {},
   "outputs": [],
   "source": [
    "loader = torch.utils.data.DataLoader(d, num_workers=4, batch_size=1)"
   ]
  },
  {
   "cell_type": "code",
   "execution_count": null,
   "metadata": {},
   "outputs": [],
   "source": [
    "m = LinearTimeSeriesModel(1226, 81, 28, 1).cuda()\n",
    "optimizer = torch.optim.Adam(m.parameters(), lr=1e-3)"
   ]
  },
  {
   "cell_type": "code",
   "execution_count": null,
   "metadata": {},
   "outputs": [],
   "source": [
    "b = next(iter(loader))"
   ]
  },
  {
   "cell_type": "code",
   "execution_count": null,
   "metadata": {
    "tags": []
   },
   "outputs": [],
   "source": [
    "for b in loader:\n",
    "    b['forecast'] = b['forecast'].cuda()\n",
    "    b['obs'] = b['obs'].cuda()\n",
    "    b['features'] = b['features'].cuda()\n",
    "    \n",
    "    prediction = m(b)\n",
    "    error = torch.where(~b['forecast'].isnan(), torch.square(prediction - b['obs']), 0.0)\n",
    "    error = error.mean()\n",
    "    error.backward()\n",
    "    optimizer.step()\n",
    "    print(b['forecast_date'], error)"
   ]
  },
  {
   "cell_type": "code",
   "execution_count": null,
   "metadata": {},
   "outputs": [],
   "source": [
    "b['past_obs_2t'].shape"
   ]
  },
  {
   "cell_type": "code",
   "execution_count": null,
   "metadata": {},
   "outputs": [],
   "source": [
    "b.keys()"
   ]
  },
  {
   "cell_type": "code",
   "execution_count": null,
   "metadata": {},
   "outputs": [],
   "source": [
    "b['features'].shape"
   ]
  },
  {
   "cell_type": "code",
   "execution_count": null,
   "metadata": {},
   "outputs": [],
   "source": [
    "m.weights.max()"
   ]
  },
  {
   "cell_type": "code",
   "execution_count": null,
   "metadata": {},
   "outputs": [],
   "source": [
    "m.weights.min()"
   ]
  },
  {
   "cell_type": "code",
   "execution_count": null,
   "metadata": {},
   "outputs": [],
   "source": [
    "m.bias.min()"
   ]
  },
  {
   "cell_type": "code",
   "execution_count": null,
   "metadata": {},
   "outputs": [],
   "source": [
    "m.bias.max()"
   ]
  },
  {
   "cell_type": "code",
   "execution_count": null,
   "metadata": {},
   "outputs": [],
   "source": [
    "m.bias.std()"
   ]
  },
  {
   "cell_type": "code",
   "execution_count": null,
   "metadata": {},
   "outputs": [],
   "source": [
    "m.bias.mean()"
   ]
  },
  {
   "cell_type": "code",
   "execution_count": null,
   "metadata": {},
   "outputs": [],
   "source": [
    "m.bias.mean(dim=1)"
   ]
  },
  {
   "cell_type": "code",
   "execution_count": null,
   "metadata": {},
   "outputs": [],
   "source": [
    "m.weights.mean(dim=[0, 1])"
   ]
  },
  {
   "cell_type": "code",
   "execution_count": null,
   "metadata": {},
   "outputs": [],
   "source": [
    "m.bias.mean(dim=0)"
   ]
  },
  {
   "cell_type": "code",
   "execution_count": null,
   "metadata": {},
   "outputs": [],
   "source": []
  }
 ],
 "metadata": {
  "kernelspec": {
   "display_name": "SMC01",
   "language": "python",
   "name": "smc01"
  },
  "language_info": {
   "codemirror_mode": {
    "name": "ipython",
    "version": 3
   },
   "file_extension": ".py",
   "mimetype": "text/x-python",
   "name": "python",
   "nbconvert_exporter": "python",
   "pygments_lexer": "ipython3",
   "version": "3.9.2"
  }
 },
 "nbformat": 4,
 "nbformat_minor": 4
}
