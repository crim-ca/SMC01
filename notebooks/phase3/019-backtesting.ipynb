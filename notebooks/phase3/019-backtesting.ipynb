{
 "cells": [
  {
   "cell_type": "code",
   "execution_count": null,
   "metadata": {},
   "outputs": [],
   "source": [
    "%load_ext autoreload\n",
    "%autoreload 2"
   ]
  },
  {
   "cell_type": "code",
   "execution_count": null,
   "metadata": {},
   "outputs": [],
   "source": [
    "import hydra\n",
    "import mlflow\n",
    "import pandas as pd\n",
    "import plotly.express as px"
   ]
  },
  {
   "cell_type": "code",
   "execution_count": null,
   "metadata": {},
   "outputs": [],
   "source": [
    "with hydra.initialize_config_module('smc01.postprocessing.conf'):\n",
    "    cfg = hydra.compose('train')"
   ]
  },
  {
   "cell_type": "code",
   "execution_count": null,
   "metadata": {},
   "outputs": [],
   "source": [
    "cfg.logging"
   ]
  },
  {
   "cell_type": "code",
   "execution_count": null,
   "metadata": {},
   "outputs": [],
   "source": [
    "client = mlflow.tracking.client.MlflowClient(tracking_uri=cfg.logging.mlflow.tracking_uri)"
   ]
  },
  {
   "cell_type": "code",
   "execution_count": null,
   "metadata": {},
   "outputs": [],
   "source": [
    "def runs_to_df(runs):\n",
    "    rows = []\n",
    "    for r in runs:\n",
    "        rmse_history = client.get_metric_history(r.info.run_id, 'Val/RMSE')\n",
    "\n",
    "        min_rmse = min(rmse_history, key=lambda x: x.value) if len(rmse_history) > 0 else None\n",
    "\n",
    "\n",
    "        rows.append({\n",
    "            'model': r.data.params.get('model._target_', r.data.params.get('model/_target_', '')).split('.')[-1],\n",
    "            'train_begin': r.data.params.get('split.train_begin', r.data.params.get('split/train_begin', '')),\n",
    "            'val_begin': r.data.params.get('split.val_begin', r.data.params.get('split/val_begin', '')),\n",
    "            'min_rmse': min_rmse.value if min_rmse else None,\n",
    "            'start_time': r.info.start_time,\n",
    "            'station_subset': r.data.params.get('dataset/station_set_file', r.data.params.get('dataset.station_set_file', '')),\n",
    "            'run_name': r.data.tags['mlflow.runName'],\n",
    "            'freeze_upper': 'True' == r.data.params.get('freeze_upper', False),\n",
    "            'split_name': r.data.params.get('split.name', ''),\n",
    "        })\n",
    "        \n",
    "    df = pd.DataFrame(rows)\n",
    "    df['start_time'] = pd.to_datetime(df['start_time'], unit='ms')\n",
    "        \n",
    "    return df"
   ]
  },
  {
   "cell_type": "code",
   "execution_count": null,
   "metadata": {},
   "outputs": [],
   "source": [
    "raw_model_runs = client.search_runs(\n",
    "    experiment_ids=\"2\",\n",
    "    filter_string=\"tags.`mlflow.runName`='raw_gdps_backtest_bootstrap'\",\n",
    "    run_view_type=mlflow.entities.ViewType.ACTIVE_ONLY,\n",
    ")"
   ]
  },
  {
   "cell_type": "code",
   "execution_count": null,
   "metadata": {},
   "outputs": [],
   "source": [
    "attention_runs = client.search_runs(\n",
    "    experiment_ids=\"2\",\n",
    "    filter_string=\"tags.`mlflow.runName` LIKE 'attention_finetune_backtest%'\",\n",
    "    run_view_type=mlflow.entities.ViewType.ACTIVE_ONLY,\n",
    ")"
   ]
  },
  {
   "cell_type": "code",
   "execution_count": null,
   "metadata": {},
   "outputs": [],
   "source": [
    "mos_runs = client.search_runs(\n",
    "    experiment_ids=\"2\",\n",
    "    filter_string=\"tags.`mlflow.runName` LIKE 'emos_backtest_bootstrap_%D'\",\n",
    "    run_view_type=mlflow.entities.ViewType.ACTIVE_ONLY,\n",
    ")"
   ]
  },
  {
   "cell_type": "code",
   "execution_count": null,
   "metadata": {},
   "outputs": [],
   "source": [
    "finetuning_runs = client.search_runs(\n",
    "    experiment_ids=\"10\",\n",
    "    filter_string=\"tags.`mlflow.runName` LIKE 'finetune_20220527_02'\",\n",
    "    run_view_type=mlflow.entities.ViewType.ACTIVE_ONLY,\n",
    ")"
   ]
  },
  {
   "cell_type": "code",
   "execution_count": null,
   "metadata": {},
   "outputs": [],
   "source": []
  },
  {
   "cell_type": "code",
   "execution_count": null,
   "metadata": {},
   "outputs": [],
   "source": [
    "dfs = [\n",
    "    runs_to_df(attention_runs),\n",
    "    runs_to_df(mos_runs),\n",
    "    runs_to_df(raw_model_runs),\n",
    "]"
   ]
  },
  {
   "cell_type": "code",
   "execution_count": null,
   "metadata": {},
   "outputs": [],
   "source": [
    "runs_to_df(mos_runs)"
   ]
  },
  {
   "cell_type": "code",
   "execution_count": null,
   "metadata": {},
   "outputs": [],
   "source": [
    "dfs[2]"
   ]
  },
  {
   "cell_type": "code",
   "execution_count": null,
   "metadata": {},
   "outputs": [],
   "source": [
    "df = pd.concat(dfs)\n",
    "df['start_time'] = pd.to_datetime(df['start_time'])\n",
    "df['train_begin'] = pd.to_datetime(df['train_begin'])\n",
    "df['val_begin'] = pd.to_datetime(df['val_begin'])\n",
    "df['train_length'] = df['val_begin'] - df['train_begin']\n",
    "\n",
    "#df = df[df['val_begin'] >= '2020-08-01']"
   ]
  },
  {
   "cell_type": "code",
   "execution_count": null,
   "metadata": {},
   "outputs": [],
   "source": [
    "fig = px.scatter(data_frame=df, x='train_length', y='min_rmse', color='run_name', labels={'min_rmse': 'RMSE on validation set (°C)'}, title='Validation loss for post-processing models on GDPS data')\n",
    "#fig.add_hline(y=raw_model_metric, annotation_text='Raw GDPS')"
   ]
  },
  {
   "cell_type": "code",
   "execution_count": null,
   "metadata": {},
   "outputs": [],
   "source": [
    "fig"
   ]
  },
  {
   "cell_type": "code",
   "execution_count": null,
   "metadata": {},
   "outputs": [],
   "source": [
    "aggregated = df.groupby('run_name').agg({'min_rmse': 'mean', 'station_subset': 'count', 'train_length': 'first', 'model': 'first'})"
   ]
  },
  {
   "cell_type": "code",
   "execution_count": null,
   "metadata": {},
   "outputs": [],
   "source": [
    "aggregated.sort_values(by=['model', 'train_length'])"
   ]
  },
  {
   "cell_type": "code",
   "execution_count": null,
   "metadata": {},
   "outputs": [],
   "source": [
    "px.scatter(data_frame=aggregated, x='train_length', y='min_rmse', color='model')"
   ]
  },
  {
   "cell_type": "code",
   "execution_count": null,
   "metadata": {},
   "outputs": [],
   "source": [
    "df_30d"
   ]
  },
  {
   "cell_type": "code",
   "execution_count": null,
   "metadata": {},
   "outputs": [],
   "source": [
    "df_30d = df[df['run_name'].isin(['attention_finetune_backtest_30D', 'emos_backtest_bootstrap_30D'])]"
   ]
  },
  {
   "cell_type": "code",
   "execution_count": null,
   "metadata": {},
   "outputs": [],
   "source": [
    "df_30d"
   ]
  },
  {
   "cell_type": "code",
   "execution_count": null,
   "metadata": {},
   "outputs": [],
   "source": [
    "px.scatter(data_frame=df_30d[~df_30d['freeze_upper']], x='val_begin', y='min_rmse', hover_data=['freeze_upper', 'split_name', 'station_subset'], color='model', opacity=0.8)"
   ]
  },
  {
   "cell_type": "code",
   "execution_count": null,
   "metadata": {},
   "outputs": [],
   "source": [
    "df_30d.groupby(['val_begin', 'freeze_upper']).agg({'min_rmse': 'mean', 'model': 'count'})"
   ]
  },
  {
   "cell_type": "code",
   "execution_count": null,
   "metadata": {},
   "outputs": [],
   "source": [
    "df_30d.groupby(['model', 'freeze_upper', 'station_subset']).mean()"
   ]
  },
  {
   "cell_type": "code",
   "execution_count": null,
   "metadata": {},
   "outputs": [],
   "source": [
    "df_30d['freeze_upper'] = df_30d['freeze_upper'].fillna(False)"
   ]
  },
  {
   "cell_type": "code",
   "execution_count": null,
   "metadata": {},
   "outputs": [],
   "source": [
    "df_30d.groupby(['model', 'freeze_upper', 'station_subset']).count()"
   ]
  },
  {
   "cell_type": "markdown",
   "metadata": {},
   "source": [
    "# Finetuning runs"
   ]
  },
  {
   "cell_type": "code",
   "execution_count": null,
   "metadata": {},
   "outputs": [],
   "source": [
    "df = runs_to_df(finetuning_runs)"
   ]
  },
  {
   "cell_type": "code",
   "execution_count": null,
   "metadata": {},
   "outputs": [],
   "source": [
    "df"
   ]
  },
  {
   "cell_type": "code",
   "execution_count": null,
   "metadata": {},
   "outputs": [],
   "source": []
  }
 ],
 "metadata": {
  "kernelspec": {
   "display_name": "SMC01",
   "language": "python",
   "name": "smc01"
  },
  "language_info": {
   "codemirror_mode": {
    "name": "ipython",
    "version": 3
   },
   "file_extension": ".py",
   "mimetype": "text/x-python",
   "name": "python",
   "nbconvert_exporter": "python",
   "pygments_lexer": "ipython3",
   "version": "3.9.2"
  }
 },
 "nbformat": 4,
 "nbformat_minor": 4
}
